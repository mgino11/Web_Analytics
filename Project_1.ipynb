{
 "cells": [
  {
   "cell_type": "markdown",
   "metadata": {
    "collapsed": true,
    "pycharm": {
     "name": "#%% md\n"
    }
   },
   "source": [
    "## Centrality measures\n",
    "\n",
    "Centrality measures can be used to predict (positive or negative) outcomes for a node.\n",
    "Your task in this week’s assignment is to identify an interesting set of network data that is available on the web\n",
    "(either through web scraping or web APIs) that could be used for analyzing and comparing centrality measures across nodes.\n",
    "\n",
    "As an additional constraint, there should be at least one categorical variable available for each node\n",
    "(such as “Male” or “Female”; “Republican”, “Democrat,” or “Undecided”, etc.)\n",
    "\n",
    "In addition to identifying your data source, you should create a high level plan that describes how you would load the data for analysis,\n",
    "and describe a hypothetical outcome that could be predicted from comparing degree centrality across categorical groups.\n",
    "For this week’s assignment, you are not required to actually load or analyze the data.  Please see also Project 1 below.\n",
    "You may work in a small group on the assignment.   You should post your document to GitHub by end of day on Sunday."
   ]
  },
  {
   "cell_type": "markdown",
   "metadata": {
    "collapsed": false
   },
   "source": [
    "### Required Packages"
   ]
  },
  {
   "cell_type": "code",
   "execution_count": 2,
   "metadata": {
    "pycharm": {
     "name": "#%%\n"
    }
   },
   "outputs": [],
   "source": [
    "import yfinance as yf\n",
    "import pandas as pd\n",
    "import networkx as nx\n",
    "import matplotlib.pyplot as plt\n",
    "import plotly.express as px\n",
    "from scipy import stats\n",
    "from networkx import algorithms"
   ]
  },
  {
   "cell_type": "markdown",
   "metadata": {},
   "source": [
    "## Data (subset)\n",
    "**Dow Jones Industrial Average Equity Index**\n",
    "\n",
    "We begin by scrapping the data from Dow Jones using the Yahoo Finance API\n",
    "We proceed to create a ticker object that allows access to the Dow Jones  Companies\n",
    "To begin our analysis we start with only apple and MSFT to have a sense of the data"
   ]
  },
  {
   "cell_type": "code",
   "execution_count": 3,
   "metadata": {},
   "outputs": [
    {
     "data": {
      "text/html": [
       "<div>\n",
       "<style scoped>\n",
       "    .dataframe tbody tr th:only-of-type {\n",
       "        vertical-align: middle;\n",
       "    }\n",
       "\n",
       "    .dataframe tbody tr th {\n",
       "        vertical-align: top;\n",
       "    }\n",
       "\n",
       "    .dataframe thead th {\n",
       "        text-align: right;\n",
       "    }\n",
       "</style>\n",
       "<table border=\"1\" class=\"dataframe\">\n",
       "  <thead>\n",
       "    <tr style=\"text-align: right;\">\n",
       "      <th></th>\n",
       "      <th>Company</th>\n",
       "      <th>Exchange</th>\n",
       "      <th>Symbol</th>\n",
       "      <th>Industry</th>\n",
       "      <th>Date added</th>\n",
       "      <th>Notes</th>\n",
       "      <th>Index weighting</th>\n",
       "    </tr>\n",
       "  </thead>\n",
       "  <tbody>\n",
       "    <tr>\n",
       "      <th>0</th>\n",
       "      <td>3M</td>\n",
       "      <td>NYSE</td>\n",
       "      <td>MMM</td>\n",
       "      <td>Conglomerate</td>\n",
       "      <td>1976-08-09</td>\n",
       "      <td>As Minnesota Mining and Manufacturing</td>\n",
       "      <td>3.02%</td>\n",
       "    </tr>\n",
       "    <tr>\n",
       "      <th>1</th>\n",
       "      <td>American Express</td>\n",
       "      <td>NYSE</td>\n",
       "      <td>AXP</td>\n",
       "      <td>Financial services</td>\n",
       "      <td>1982-08-30</td>\n",
       "      <td>NaN</td>\n",
       "      <td>3.60%</td>\n",
       "    </tr>\n",
       "    <tr>\n",
       "      <th>2</th>\n",
       "      <td>Amgen</td>\n",
       "      <td>NASDAQ</td>\n",
       "      <td>AMGN</td>\n",
       "      <td>Biopharmaceutical</td>\n",
       "      <td>2020-08-31</td>\n",
       "      <td>NaN</td>\n",
       "      <td>4.48%</td>\n",
       "    </tr>\n",
       "    <tr>\n",
       "      <th>3</th>\n",
       "      <td>Apple</td>\n",
       "      <td>NASDAQ</td>\n",
       "      <td>AAPL</td>\n",
       "      <td>Information technology</td>\n",
       "      <td>2015-03-19</td>\n",
       "      <td>NaN</td>\n",
       "      <td>3.25%</td>\n",
       "    </tr>\n",
       "    <tr>\n",
       "      <th>4</th>\n",
       "      <td>Boeing</td>\n",
       "      <td>NYSE</td>\n",
       "      <td>BA</td>\n",
       "      <td>Aerospace and defense</td>\n",
       "      <td>1987-03-12</td>\n",
       "      <td>NaN</td>\n",
       "      <td>3.96%</td>\n",
       "    </tr>\n",
       "  </tbody>\n",
       "</table>\n",
       "</div>"
      ],
      "text/plain": [
       "            Company Exchange Symbol                Industry  Date added  \\\n",
       "0                3M     NYSE    MMM            Conglomerate  1976-08-09   \n",
       "1  American Express     NYSE    AXP      Financial services  1982-08-30   \n",
       "2             Amgen   NASDAQ   AMGN       Biopharmaceutical  2020-08-31   \n",
       "3             Apple   NASDAQ   AAPL  Information technology  2015-03-19   \n",
       "4            Boeing     NYSE     BA   Aerospace and defense  1987-03-12   \n",
       "\n",
       "                                   Notes Index weighting  \n",
       "0  As Minnesota Mining and Manufacturing           3.02%  \n",
       "1                                    NaN           3.60%  \n",
       "2                                    NaN           4.48%  \n",
       "3                                    NaN           3.25%  \n",
       "4                                    NaN           3.96%  "
      ]
     },
     "execution_count": 3,
     "metadata": {},
     "output_type": "execute_result"
    }
   ],
   "source": [
    "# scraping company tickers and info\n",
    "tickers_df = pd.read_html('https://en.wikipedia.org/wiki/Dow_Jones_Industrial_Average')[1]\n",
    "tickers_df.head(5)"
   ]
  },
  {
   "cell_type": "code",
   "execution_count": 4,
   "metadata": {},
   "outputs": [
    {
     "data": {
      "text/plain": [
       "['UNH',\n",
       " 'GS',\n",
       " 'HD',\n",
       " 'MSFT',\n",
       " 'MCD',\n",
       " 'AMGN',\n",
       " 'V',\n",
       " 'CRM',\n",
       " 'BA',\n",
       " 'CAT',\n",
       " 'HON',\n",
       " 'AXP',\n",
       " 'AAPL',\n",
       " 'TRV',\n",
       " 'JNJ',\n",
       " 'MMM',\n",
       " 'PG',\n",
       " 'JPM',\n",
       " 'NKE',\n",
       " 'DIS']"
      ]
     },
     "execution_count": 4,
     "metadata": {},
     "output_type": "execute_result"
    }
   ],
   "source": [
    "# converting index weighting to numeric\n",
    "tickers_df['Index weighting'] = tickers_df['Index weighting'].str.replace('%','')\n",
    "tickers_df['Index weighting'] = pd.to_numeric(tickers_df['Index weighting'])\n",
    "\n",
    "# storing the symbols of the top 20 index weighting\n",
    "top20 = tickers_df.nlargest(20,'Index weighting')\n",
    "top20_list = list(top20['Symbol'])\n",
    "top20_list"
   ]
  },
  {
   "cell_type": "code",
   "execution_count": 5,
   "metadata": {
    "pycharm": {
     "name": "#%%\n"
    }
   },
   "outputs": [],
   "source": [
    "# create dictionary with the stored symbols as keys\n",
    "top20_dict = dict.fromkeys(top20_list)\n",
    "\n",
    "# loop through keys to create ticker class and store institutional holders df\n",
    "for comp in top20_dict:\n",
    "    ticker = yf.Ticker(comp)\n",
    "    inst_hol = ticker.institutional_holders\n",
    "    inst_hol['comp'] = comp\n",
    "    top20_dict[comp] = inst_hol\n",
    "    \n",
    "# concatenate 20 dfs into 1    \n",
    "institutional_holders = pd.concat(top20_dict.values(), ignore_index=True)"
   ]
  },
  {
   "cell_type": "markdown",
   "metadata": {},
   "source": [
    "After we create the the first variable wich is a ticker object we can use it to access data inside APPL stock like the institutional holders"
   ]
  },
  {
   "cell_type": "code",
   "execution_count": null,
   "metadata": {
    "pycharm": {
     "name": "#%%\n"
    }
   },
   "outputs": [],
   "source": [
    "institutional_holders"
   ]
  },
  {
   "cell_type": "markdown",
   "metadata": {},
   "source": [
    "We want to add a column to this data frame that contains the ticker symbol of Apple - we use this method to create a mapping back to Apple and the rest of the\n",
    "Companies we will be analyzing shortly. Also the prompt requested to include categorical data to our analysis"
   ]
  },
  {
   "cell_type": "markdown",
   "metadata": {
    "collapsed": false
   },
   "source": [
    "## Data Preparation\n",
    "\n",
    "In addition to identifying your data source, you should create a high level plan that describes how you would load the data for analysis,\n",
    "and describe a hypothetical outcome that could be predicted from comparing degree centrality across categorical groups."
   ]
  },
  {
   "cell_type": "code",
   "execution_count": null,
   "metadata": {
    "collapsed": false,
    "pycharm": {
     "name": "#%%\n"
    }
   },
   "outputs": [],
   "source": [
    "# creating network from df\n",
    "# in order to be able to utilize the edges we need to set edge_att= True\n",
    "g = nx.from_pandas_edgelist(institutional_holders, 'Holder', 'comp', edge_attr=True)\n",
    "edgelist = nx.to_edgelist(g)"
   ]
  },
  {
   "cell_type": "markdown",
   "metadata": {
    "collapsed": false
   },
   "source": [
    "\n",
    "add the edge_attr = True to be able to see the values corresponding to the edges"
   ]
  },
  {
   "cell_type": "markdown",
   "metadata": {
    "collapsed": false
   },
   "source": [
    "### Change Node color\n",
    "First we begin our analysis we change the colors of the nodes to understand who are the companies (Blue) and who are the institutional holders (orange)"
   ]
  },
  {
   "cell_type": "code",
   "execution_count": null,
   "metadata": {
    "collapsed": false,
    "pycharm": {
     "name": "#%%\n"
    }
   },
   "outputs": [],
   "source": [
    "# assigning color and type to node\n",
    "colors = []\n",
    "for node in g:\n",
    "    if node in institutional_holders['comp'].values:\n",
    "        colors.append(\"blue\")\n",
    "        g.nodes[node]['type'] = 'stock'\n",
    "    else:\n",
    "        colors.append(\"orange\")\n",
    "        g.nodes[node]['type'] = 'holder'"
   ]
  },
  {
   "cell_type": "markdown",
   "metadata": {},
   "source": [
    "## Exploration"
   ]
  },
  {
   "cell_type": "code",
   "execution_count": null,
   "metadata": {},
   "outputs": [],
   "source": [
    "# storing basic network info in dictionary \n",
    "network_info = {}\n",
    "\n",
    "network_info['connected'] = nx.is_connected(g)\n",
    "network_info['diameter'] = nx.diameter(g)\n",
    "network_info['num_of_nodes'] = g.number_of_nodes()\n",
    "network_info['num_of_edges'] = g.number_of_edges()\n",
    "network_info['avg_shortest_path'] = algorithms.average_shortest_path_length(g)\n",
    "\n",
    "# output as table\n",
    "pd.DataFrame.from_dict(network_info, orient='index', columns=['Values'])"
   ]
  },
  {
   "cell_type": "markdown",
   "metadata": {
    "collapsed": false
   },
   "source": [
    "### Graph Network"
   ]
  },
  {
   "cell_type": "code",
   "execution_count": null,
   "metadata": {
    "collapsed": false,
    "pycharm": {
     "name": "#%%\n"
    }
   },
   "outputs": [],
   "source": [
    "# view basic graph\n",
    "plt.figure(figsize=(50,40))\n",
    "nx.draw(g, with_labels=True,\n",
    "        node_color=colors)"
   ]
  },
  {
   "cell_type": "markdown",
   "metadata": {
    "collapsed": false
   },
   "source": [
    "## Strategy Degree Centrality\n",
    "once we have loaded only two companies (subset of data) we will create a strategy to analyze Degree centrality"
   ]
  },
  {
   "cell_type": "markdown",
   "metadata": {},
   "source": [
    "## Centrality Measures\n",
    "Compute degree distribution\n",
    "The number of neighbors that a node has is called its \"degree\", and it's possible to compute the degree distribution across the entire graph."
   ]
  },
  {
   "cell_type": "markdown",
   "metadata": {},
   "source": [
    "### Degree"
   ]
  },
  {
   "cell_type": "code",
   "execution_count": null,
   "metadata": {
    "collapsed": false,
    "pycharm": {
     "name": "#%%\n"
    }
   },
   "outputs": [],
   "source": [
    "# creating df with node names and type\n",
    "type = dict(g.nodes) \n",
    "temp_dict = {}\n",
    "for x in type:\n",
    "    temp_dict[x] = type[x]['type']\n",
    "\n",
    "type_df = pd.DataFrame.from_dict(temp_dict, orient='index', columns=['Type'])\n",
    "\n",
    "# creating df with node names and degree\n",
    "deg = dict(g.degree())\n",
    "deg_df = pd.DataFrame.from_dict(deg, orient='index', columns=['Degree'])\n",
    "\n",
    "# joining df\n",
    "df = type_df.join(deg_df)\n",
    "\n",
    "# describing degree values\n",
    "df['Degree'].describe()\n"
   ]
  },
  {
   "cell_type": "code",
   "execution_count": null,
   "metadata": {},
   "outputs": [],
   "source": [
    "# plot histogram\n",
    "fig = px.histogram(df, x = 'Degree', color='Type', title='Degree Values by Type')\n",
    "fig.show()"
   ]
  },
  {
   "cell_type": "markdown",
   "metadata": {},
   "source": [
    "#### Edges Weight\n",
    "The edges represent the amount of money contributed to each company - therefore we need to divide by an estimate number to obtain the weight in edges"
   ]
  },
  {
   "cell_type": "markdown",
   "metadata": {},
   "source": [
    "#### Node Size\n",
    "The degree is the number of relationships of the particular node\n",
    "We need to transform the degree into a dictionary\n",
    "In order to appreciate the size of each node we need to use a list comprehension to multiply the value in the dict\n"
   ]
  },
  {
   "cell_type": "code",
   "execution_count": null,
   "metadata": {},
   "outputs": [],
   "source": [
    "# view network graph that degree and value of node\n",
    "plt.figure(figsize=(50,40))\n",
    "nx.draw(g, with_labels=True,\n",
    "        node_color=colors,\n",
    "        node_size = [v * 500 for v in dict(g.degree()).values()],\n",
    "                     width= [v[2]['Value'] /50_000_000_000 for v in edgelist])"
   ]
  },
  {
   "cell_type": "markdown",
   "metadata": {},
   "source": [
    "### Eigen Values"
   ]
  },
  {
   "cell_type": "code",
   "execution_count": null,
   "metadata": {},
   "outputs": [],
   "source": [
    "# creating df for eigen values\n",
    "eigen = dict(nx.eigenvector_centrality(g))\n",
    "eigen_df = pd.DataFrame.from_dict(eigen, orient='index', columns=['Eigen'])\n",
    "\n",
    "# joining to df\n",
    "df = df.join(eigen_df)\n",
    "\n",
    "# describing Eigen values\n",
    "df['Eigen'].describe()"
   ]
  },
  {
   "cell_type": "code",
   "execution_count": null,
   "metadata": {},
   "outputs": [],
   "source": [
    "# plot histogram\n",
    "fig = px.histogram(df, x='Eigen', color='Type', title = 'Eigen Values by Type')\n",
    "fig.show()"
   ]
  },
  {
   "cell_type": "code",
   "execution_count": null,
   "metadata": {},
   "outputs": [],
   "source": [
    "# looking at the df \n",
    "df.sort_values('Eigen', ascending=False).head()"
   ]
  },
  {
   "cell_type": "markdown",
   "metadata": {},
   "source": [
    "### T-Test"
   ]
  },
  {
   "cell_type": "code",
   "execution_count": null,
   "metadata": {},
   "outputs": [],
   "source": [
    "# separate df by holder and stock\n",
    "holder = df[df['Type']=='holder']\n",
    "stock = df[df['Type']=='stock']\n",
    "\n",
    "# perform T-test on Eigen values of each holder and stock\n",
    "stats.ttest_ind(holder['Eigen'], stock['Eigen'])"
   ]
  },
  {
   "cell_type": "markdown",
   "metadata": {
    "collapsed": false
   },
   "source": [
    "### Degrees"
   ]
  },
  {
   "cell_type": "code",
   "execution_count": null,
   "metadata": {
    "collapsed": false,
    "pycharm": {
     "name": "#%%\n"
    }
   },
   "outputs": [],
   "source": [
    "plt.figure()\n",
    "plt.hist(degrees)\n",
    "plt.show()"
   ]
  },
  {
   "cell_type": "markdown",
   "metadata": {
    "collapsed": false
   },
   "source": [
    "### Degree centrality"
   ]
  },
  {
   "cell_type": "code",
   "execution_count": null,
   "metadata": {
    "collapsed": false,
    "pycharm": {
     "name": "#%%\n"
    }
   },
   "outputs": [],
   "source": [
    "deg_cent = nx.degree_centrality(g)\n",
    "deg_cent"
   ]
  },
  {
   "cell_type": "code",
   "execution_count": null,
   "metadata": {
    "collapsed": false,
    "pycharm": {
     "name": "#%%\n"
    }
   },
   "outputs": [],
   "source": [
    "plt.figure()\n",
    "plt.hist(list(deg_cent.values()))\n",
    "plt.show()"
   ]
  },
  {
   "cell_type": "markdown",
   "metadata": {
    "collapsed": false
   },
   "source": []
  },
  {
   "cell_type": "markdown",
   "metadata": {
    "collapsed": false
   },
   "source": [
    "### Plot a scatter plot\n",
    "of the centrality distribution and the degree distribution"
   ]
  },
  {
   "cell_type": "code",
   "execution_count": null,
   "metadata": {
    "collapsed": false,
    "pycharm": {
     "name": "#%%\n"
    }
   },
   "outputs": [],
   "source": [
    "plt.figure()\n",
    "plt.scatter(degrees, list(deg_cent.values()))\n",
    "plt.show()"
   ]
  },
  {
   "cell_type": "markdown",
   "metadata": {
    "collapsed": false
   },
   "source": [
    "### Path Finding\n",
    "When we do len on edges and nodes we can see that there are 20 edges between 20 nodes for this subset data"
   ]
  }
 ],
 "metadata": {
  "kernelspec": {
   "display_name": "Python 3",
   "language": "python",
   "name": "python3"
  },
  "language_info": {
   "codemirror_mode": {
    "name": "ipython",
    "version": 3
   },
   "file_extension": ".py",
   "mimetype": "text/x-python",
   "name": "python",
   "nbconvert_exporter": "python",
   "pygments_lexer": "ipython3",
   "version": "3.8.12"
  }
 },
 "nbformat": 4,
 "nbformat_minor": 1
}
