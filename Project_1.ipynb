{
 "cells": [
  {
   "cell_type": "markdown",
   "metadata": {
    "collapsed": true,
    "pycharm": {
     "name": "#%% md\n"
    }
   },
   "source": [
    "## Centrality measures \n",
    "\n",
    "### Problem Set\n",
    "Centrality measures can be used to predict (positive or negative) outcomes for a node.\n",
    "Your task in this week’s assignment is to identify an interesting set of network data that is available on the web\n",
    "(either through web scraping or web APIs) that could be used for analyzing and comparing centrality measures across nodes.\n",
    "\n",
    "As an additional constraint, there should be at least one categorical variable available for each node\n",
    "(such as “Male” or “Female”; “Republican”, “Democrat,” or “Undecided”, etc.)\n",
    "\n",
    "In addition to identifying your data source, you should create a high level plan that describes how you would load the data for analysis,\n",
    "and describe a hypothetical outcome that could be predicted from comparing degree centrality across categorical groups.\n",
    "For this week’s assignment, you are not required to actually load or analyze the data.  Please see also Project 1 below.\n",
    "You may work in a small group on the assignment.   You should post your document to GitHub by end of day on Sunday."
   ]
  },
  {
   "cell_type": "markdown",
   "metadata": {},
   "source": [
    "## Introduction\n",
    "\n",
    "In our project, we take a look at a network of stocks and institutional holders.  Instiutional holders include any mutual or pension funds, insurance company, investment firms, private foudnation, endowment, or other large entities that manage funds on behalf others.  In our social network analysis, our nodes are either a stock or institutional holder and the edges are interactions between the institutional holder and stock.\n",
    "\n",
    "To conduct our analysis, we use a Dow Jones Industrial Average dataset to extract the ticker information and use the yfinance package to pull the institutional holder dataframes.\n",
    "\n",
    "The Dow Industrial Average consist of the 30 companies and the index weight of each.  The yfinanace package is an open source tool that uses Yahoo's publicly available APIs.  It offers a threaded Pythonic way to download data from Yahoo finance.\n",
    "\n",
    "The analysis will begin with extraction, transformation, and loading of the desired data. Next, we create and perform basic exploration of the social network. Finally, we will perform an analysis by categorical groups."
   ]
  },
  {
   "cell_type": "markdown",
   "metadata": {
    "collapsed": false
   },
   "source": [
    "### Required Packages"
   ]
  },
  {
   "cell_type": "code",
   "execution_count": null,
   "metadata": {
    "pycharm": {
     "name": "#%%\n"
    }
   },
   "outputs": [],
   "source": [
    "import yfinance as yf\n",
    "import pandas as pd\n",
    "import networkx as nx\n",
    "import matplotlib.pyplot as plt\n",
    "import plotly.express as px\n",
    "from scipy import stats\n",
    "from networkx import algorithms"
   ]
  },
  {
   "cell_type": "markdown",
   "metadata": {},
   "source": [
    "### ETL\n",
    "\n",
    "We begin by scrapping the Dow Jones data from a webpage. Below is a view of the table."
   ]
  },
  {
   "cell_type": "code",
   "execution_count": null,
   "metadata": {},
   "outputs": [],
   "source": [
    "# scraping company tickers and info\n",
    "tickers_df = pd.read_html('https://en.wikipedia.org/wiki/Dow_Jones_Industrial_Average')[1]\n",
    "tickers_df.head(5)"
   ]
  },
  {
   "cell_type": "markdown",
   "metadata": {},
   "source": [
    "The subset we will include is the ticker with the top 20 index weights. "
   ]
  },
  {
   "cell_type": "code",
   "execution_count": null,
   "metadata": {},
   "outputs": [],
   "source": [
    "ticker_list = list(tickers_df['Symbol'])\n",
    "print(ticker_list)"
   ]
  },
  {
   "cell_type": "markdown",
   "metadata": {},
   "source": [
    "Here, we will create ticker classes using the yfinance package for each symbol.  This allows us to store the institutional holder dataframe for each ticker and concatenate into one dataframe.\n",
    "\n",
    "We add a column to this data frame that contains the ticker symbol of each ticker, respectively.  We use this method to create a mapping back to ticker and the rest of the institutional holder. "
   ]
  },
  {
   "cell_type": "code",
   "execution_count": null,
   "metadata": {
    "pycharm": {
     "name": "#%%\n"
    }
   },
   "outputs": [],
   "source": [
    "# create dictionary with the stored symbols as keys\n",
    "ticker_dict = dict.fromkeys(ticker_list)\n",
    "\n",
    "# loop through keys to create ticker class and store institutional holders df\n",
    "for comp in ticker_dict:\n",
    "    ticker = yf.Ticker(comp)\n",
    "    inst_hol = ticker.institutional_holders\n",
    "    inst_hol['comp'] = comp\n",
    "    ticker_dict[comp] = inst_hol\n",
    "    \n",
    "# concatenate 30 dfs into 1    \n",
    "institutional_holders = pd.concat(ticker_dict.values(), ignore_index=True)"
   ]
  },
  {
   "cell_type": "markdown",
   "metadata": {},
   "source": [
    "Taking a look at the entire institutional holder dataframe. "
   ]
  },
  {
   "cell_type": "code",
   "execution_count": null,
   "metadata": {
    "pycharm": {
     "name": "#%%\n"
    }
   },
   "outputs": [],
   "source": [
    "institutional_holders"
   ]
  },
  {
   "cell_type": "markdown",
   "metadata": {
    "collapsed": false
   },
   "source": [
    "### Social Network\n",
    "\n",
    "From the insitutional holder dataframe, we are able to construct a social network."
   ]
  },
  {
   "cell_type": "code",
   "execution_count": null,
   "metadata": {
    "collapsed": false,
    "pycharm": {
     "name": "#%%\n"
    }
   },
   "outputs": [],
   "source": [
    "# creating network from df\n",
    "# in order to be able to utilize the edges we need to set edge_att= True\n",
    "g = nx.from_pandas_edgelist(institutional_holders, 'Holder', 'comp', edge_attr=True)\n",
    "edgelist = nx.to_edgelist(g)"
   ]
  },
  {
   "cell_type": "markdown",
   "metadata": {
    "collapsed": false
   },
   "source": [
    "To easily understand the nodes, we change the colors of the nodes to understand who are the companies (Blue) and who are the institutional holders (orange).  Additionally, we label them as such."
   ]
  },
  {
   "cell_type": "code",
   "execution_count": null,
   "metadata": {
    "collapsed": false,
    "pycharm": {
     "name": "#%%\n"
    }
   },
   "outputs": [],
   "source": [
    "# assigning color and type to node\n",
    "colors = []\n",
    "for node in g:\n",
    "    if node in institutional_holders['comp'].values:\n",
    "        colors.append(\"blue\")\n",
    "        g.nodes[node]['type'] = 'stock'\n",
    "    else:\n",
    "        colors.append(\"orange\")\n",
    "        g.nodes[node]['type'] = 'holder'"
   ]
  },
  {
   "cell_type": "markdown",
   "metadata": {},
   "source": [
    "### Exploration\n",
    "\n",
    "Below we see basic information of the social network."
   ]
  },
  {
   "cell_type": "code",
   "execution_count": null,
   "metadata": {},
   "outputs": [],
   "source": [
    "# storing basic network info in dictionary \n",
    "network_info = {}\n",
    "\n",
    "network_info['connected'] = nx.is_connected(g)\n",
    "network_info['diameter'] = nx.diameter(g)\n",
    "network_info['num_of_nodes'] = g.number_of_nodes()\n",
    "network_info['num_of_edges'] = g.number_of_edges()\n",
    "network_info['avg_shortest_path'] = algorithms.average_shortest_path_length(g)\n",
    "\n",
    "# output as table\n",
    "pd.DataFrame.from_dict(network_info, orient='index', columns=['Values'])"
   ]
  },
  {
   "cell_type": "markdown",
   "metadata": {
    "collapsed": false
   },
   "source": [
    "#### Graph Network\n",
    "\n",
    "Next, we take our first look at the network."
   ]
  },
  {
   "cell_type": "code",
   "execution_count": null,
   "metadata": {
    "collapsed": false,
    "pycharm": {
     "name": "#%%\n"
    }
   },
   "outputs": [],
   "source": [
    "# view basic graph\n",
    "plt.figure(figsize=(50,40))\n",
    "nx.draw(g, with_labels=True,\n",
    "        node_color=colors)"
   ]
  },
  {
   "cell_type": "markdown",
   "metadata": {
    "collapsed": false
   },
   "source": [
    "### Analysis \n",
    "Once we have loaded the dataframe of institutional holders of 20 companies (subset of data) we will create a strategy to analyze Degree centrality."
   ]
  },
  {
   "cell_type": "markdown",
   "metadata": {},
   "source": [
    "### Degree\n",
    "We begin by capturing the degree of each node in a dataframe along with the name of the node and type.  This shows us the number of connections a node has. "
   ]
  },
  {
   "cell_type": "code",
   "execution_count": null,
   "metadata": {
    "collapsed": false,
    "pycharm": {
     "name": "#%%\n"
    }
   },
   "outputs": [],
   "source": [
    "# creating df with node names and type\n",
    "type = dict(g.nodes) \n",
    "temp_dict = {}\n",
    "for x in type:\n",
    "    temp_dict[x] = type[x]['type']\n",
    "\n",
    "type_df = pd.DataFrame.from_dict(temp_dict, orient='index', columns=['Type'])\n",
    "\n",
    "# creating df with node names and degree\n",
    "deg = dict(g.degree())\n",
    "deg_df = pd.DataFrame.from_dict(deg, orient='index', columns=['Degree'])\n",
    "\n",
    "# joining df\n",
    "df = type_df.join(deg_df)\n",
    "\n",
    "# describing degree values\n",
    "df['Degree'].describe()"
   ]
  },
  {
   "cell_type": "markdown",
   "metadata": {},
   "source": [
    "Once the degree is captured in our dataframe we can visualize the distribution."
   ]
  },
  {
   "cell_type": "code",
   "execution_count": null,
   "metadata": {},
   "outputs": [],
   "source": [
    "# plot histogram\n",
    "fig = px.histogram(df, x = 'Degree', color='Type', title='Degree Values by Type')\n",
    "fig.show()"
   ]
  },
  {
   "cell_type": "markdown",
   "metadata": {},
   "source": [
    "### Second look at Network\n",
    "Now that we explored the degree concept we include this in our social network graph.  \n",
    "\n",
    "#### Node Size\n",
    "The degree is the number of relationships of the particular node\n",
    "We need to transform the degree into a dictionary\n",
    "In order to appreciate the size of each node we need to use a list comprehension to multiply the value in the dict\n",
    "\n",
    "#### Edge Weight\n",
    "The edges represent the amount of money contributed to each company - therefore we need to divide by an estimate number to obtain the weight in edges"
   ]
  },
  {
   "cell_type": "code",
   "execution_count": null,
   "metadata": {},
   "outputs": [],
   "source": [
    "# view network graph that degree and value of node\n",
    "plt.figure(figsize=(50,40))\n",
    "nx.draw(g, with_labels=True,\n",
    "        node_color=colors,\n",
    "        node_size = [v * 500 for v in dict(g.degree()).values()],\n",
    "                     width= [v[2]['Value'] /50_000_000_000 for v in edgelist])"
   ]
  },
  {
   "cell_type": "markdown",
   "metadata": {},
   "source": [
    "### Eigen Values\n",
    "\n",
    "Eigenvector Centrality is a recursive version of Degree Centrality. Recompute the scores of each node as a weighted sum of centralities of all nodes in a nodes neighborhood.  Measures influence, how well connected, and \n",
    "\n",
    "After computing the eigenvector values we view the "
   ]
  },
  {
   "cell_type": "code",
   "execution_count": null,
   "metadata": {},
   "outputs": [],
   "source": [
    "# creating df for eigen values\n",
    "eigen = dict(nx.eigenvector_centrality(g))\n",
    "eigen_df = pd.DataFrame.from_dict(eigen, orient='index', columns=['Eigen'])\n",
    "\n",
    "# joining to df\n",
    "df = df.join(eigen_df)\n",
    "\n",
    "# describing Eigen values\n",
    "df['Eigen'].describe()"
   ]
  },
  {
   "cell_type": "markdown",
   "metadata": {},
   "source": [
    "Again, we view the values by type of node.  Unlike the degree"
   ]
  },
  {
   "cell_type": "code",
   "execution_count": null,
   "metadata": {},
   "outputs": [],
   "source": [
    "# plot histogram\n",
    "fig = px.histogram(df, x='Eigen', color='Type', title = 'Eigen Values by Type')\n",
    "fig.show()"
   ]
  },
  {
   "cell_type": "markdown",
   "metadata": {},
   "source": [
    "Now taking a look at degree and eigenvector value of all nodes."
   ]
  },
  {
   "cell_type": "code",
   "execution_count": null,
   "metadata": {},
   "outputs": [],
   "source": [
    "# looking at the df \n",
    "df.sort_values('Eigen', ascending=False).head(10)"
   ]
  },
  {
   "cell_type": "markdown",
   "metadata": {},
   "source": [
    "### T-Test\n",
    "\n",
    "T-test is used to determine the signficant difference of means in two groups, holder and stock nodes.  "
   ]
  },
  {
   "cell_type": "code",
   "execution_count": null,
   "metadata": {},
   "outputs": [],
   "source": [
    "# separate df by holder and stock\n",
    "holder = df[df['Type']=='holder']\n",
    "stock = df[df['Type']=='stock']\n",
    "\n",
    "# perform T-test on Eigen values of each holder and stock\n",
    "stats.ttest_ind(stock['Eigen'], holder['Eigen'])"
   ]
  },
  {
   "cell_type": "code",
   "execution_count": null,
   "metadata": {},
   "outputs": [],
   "source": [
    "# perform T-test on Eigen values of each holder and stock\n",
    "stats.ttest_ind(stock['Degree'], holder['Degree'])"
   ]
  },
  {
   "cell_type": "markdown",
   "metadata": {},
   "source": [
    "## Conclusion\n",
    "\n",
    "By looking at the the results of the T-test using the degree and eigenvector values, we see that there is a significant difference in the means across the types of nodes, institutional holder and stock.  \n",
    "\n",
    "In our case, institutional holders have a higher importance across the population in the social network than the stock.  \n",
    "\n",
    "Vanguard Group, Inc, Blackrock Inc., State Street Corporation, Geode Capital Management, LLC are the most connected with the highest degree and eigenvector values.\n",
    "\n",
    "Moreover, we could use the social network graph to design a rec sys to predict  instiutional holders investments in the same or different companies."
   ]
  }
 ],
 "metadata": {
  "kernelspec": {
   "display_name": "Python 3",
   "language": "python",
   "name": "python3"
  },
  "language_info": {
   "codemirror_mode": {
    "name": "ipython",
    "version": 3
   },
   "file_extension": ".py",
   "mimetype": "text/x-python",
   "name": "python",
   "nbconvert_exporter": "python",
   "pygments_lexer": "ipython3",
   "version": "3.8.12"
  }
 },
 "nbformat": 4,
 "nbformat_minor": 1
}
