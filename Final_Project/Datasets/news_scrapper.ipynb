{
 "cells": [
  {
   "cell_type": "code",
   "execution_count": null,
   "outputs": [],
   "source": [],
   "metadata": {
    "collapsed": false,
    "pycharm": {
     "name": "#%%\n"
    }
   }
  },
  {
   "cell_type": "markdown",
   "source": [
    "## Importing Libraries and Data"
   ],
   "metadata": {
    "collapsed": false
   }
  },
  {
   "cell_type": "code",
   "execution_count": 4,
   "metadata": {
    "collapsed": true
   },
   "outputs": [],
   "source": [
    "import pandas as pd\n",
    "import numpy as np\n",
    "import re #Regex\n",
    "import requests\n",
    "from bs4 import BeautifulSoup"
   ]
  },
  {
   "cell_type": "markdown",
   "source": [
    "## Headlines Scraping BS4\n",
    "### Fox Headlines"
   ],
   "metadata": {
    "collapsed": false
   }
  },
  {
   "cell_type": "code",
   "execution_count": 8,
   "outputs": [
    {
     "name": "stdout",
     "output_type": "stream",
     "text": [
      "U.S. | Fox News Fox News U.S. Politics Media Opinion Business Entertainment Sports Lifestyle Weather TV Fox Nation Listen More Expand / Collapse search Login Watch TV Menu Hot Topics Coronavirus U.S. Crime Military Education Terror Immigration Economy Personal Freedoms Fox News Investigates World U.N. Conflicts Terrorism Disasters Global Economy Environment Religion Scandals Opinion Politics Executive Senate House Judiciary Foreign Policy Polls Elections Entertainment Celebrity News Movies TV News Music News Style News Entertainment Video Business Personal Finance Economy Markets Watchlist Lifestyle Real Estate Tech Lifestyle Food + Drink Cars + Trucks Travel + Outdoors House + Home Fitness + Well-being Style + Beauty Family Faith Science Archaeology Air & Space Planet Earth Wild Nature Natural Science Dinosaurs Tech Security Innovation Drones Computers Video Games Military Tech Health Coronavirus Healthy Living Medical Research Mental Health Cancer Heart Health Children's Health TV Shows Personalities Watch Live Full Episodes Show Clips News Clips About Contact Us Careers Fox Around the World Advertise With Us Media Relations Corporate Information Compliance Supplier Diversity Other Fox Weather Fox Nation Fox News Shop Fox News Go Fox News Radio Newsletters Podcasts Apps & Products Fox News New Terms of Use New Privacy Policy Do Not Sell my Personal Information Closed Captioning Policy Help Contact Us This material may not be published, broadcast, rewritten,\n",
      "      or redistributed. ©2022 FOX News Network, LLC. All rights reserved.\n",
      "      Quotes displayed in real-time or delayed by at least 15 minutes. Market data provided by Factset . Powered and implemented by FactSet Digital Solutions . Legal Statement . Mutual Fund and ETF data provided by Refinitiv Lipper . Facebook Twitter Instagram RSS Email U.S. Fox News Digital Crime 4 hours ago A classmate of New York City socialite and manslaughter suspect Lauren Pazienza said she bullied him in school. FBI Russia 7 hours ago A Russia hacker has been indicted for operating a cybercriminal marketplace in Eastern Texas DEAPhoenix @DEAPHOENIXDiv Arizona 8 hours ago Cipriano Arturo Rojas-Armenta, 44, and Diego Bernal-Robles, 29, were convicted of being involved in a drug trafficking operation after police seized 230 pounds of methamphetamine, 25 pounds of cocaine, and 25 pounds heroin inside their home in Tucson, Arizona, authorities said. More California 1 hour ago Missing Persons 2 hours ago Utah 4 hours ago EDUCATION 6 hours ago More America Together 3 days ago 4:10 VIDEO March 13 Russia March 10 Ukraine March 8 More Midterm Elections 4 hours ago Chicago 9 hours ago Fox News Flash 11 hours ago US 11 hours ago More Border security 1 hour ago Illegal Immigrants 2 hours ago Texas 6 hours ago Russia 7 hours ago Arizona 8 hours ago New Orleans 10 hours ago US 11 hours ago Oklahoma 14 hours ago More North Carolina 2 hours ago Louisiana 2 hours ago Ukraine 4 hours ago Oceans 6 hours ago Crime 40 mins ago The suspect accused of stabbing two employees at New York City's Museum of Modern Art (MOMA) was ordered to undergo a mental health evaluation in Philadelphia, where he was arrested. Crime 59 mins ago Firearms license applications in Philadelphia have increased by 600% since 2020, according to a new report. California 1 hour ago A California woman who fled to Mexico after killing her husband in 2015 was arrested earlier this month and extradited, authorities said. VIDEO 1 hour ago Wyoming senator on why the U.S. must become energy independent on 'The Story.' Missing Persons 2 hours ago The parents of missing 18-year-old Naomi Irion traveled from South Africa to Nevada on Tuesday to assist with the search for their daughter. North Carolina 2 hours ago Firefighters were responding to a fire that broke out at the Charlotte Douglas International Airport on Wednesday, airport officials said. VIDEO 2 hours ago Gen. Jack Keane discusses President Zelenskyy's hesitance to concede to Putin and form an agreement on 'The Story.' Louisiana 2 hours ago An F-16 fighter jet crashed near a U.S. Army base on Wednesday Crime 2 hours ago A mental health evaluation for the suspect in the death of Michelle Go has been deemed unfit to stand trial, prosecutors said Tuesday. VIDEO 3 hours ago Former White House press secretary highlights the triumphant life of the U.S.'s first female secretary of state on 'America Reports.' VIDEO 3 hours ago Fox News Flash top headlines are here. Check out what's clicking on Foxnews.com. VIDEO 3 hours ago Fox News senior correspondent Eric Shawn reports on the demand for the FBI to investigate an apartment building housing Russian diplomats in Riverdale, N.Y. on 'America Reports.' More Crime 59 mins ago OPINION 3 hours ago Fishing 4 hours ago Crime 4 hours ago New York City 5 hours ago Oceans 6 hours ago CRIME 8 hours ago Pennsylvania 23 hours ago Ukraine 4 hours ago St. Jude Children’s Research Hospital in Memphis is the first hospital in the US to receive Ukrainian patients since the start of the war. Utah 4 hours ago Salt Lake City police have released video showing a bystander jumping in to help an officer who was being assaulted while arresting a suspect at the Salt Lake City International Airport last month. Crime 4 hours ago A classmate of New York City socialite and manslaughter suspect Lauren Pazienza said she bullied him in school. VIDEO 5 hours ago Salt Lake City police have released video showing a bystander jumping in to help an officer who was being assaulted while arresting a suspect at the city’s airport last month. New York City 5 hours ago The New York woman accused of manslaughter in the unprovoked death of an 87-year-old Broadway vocal coach shook her in court on Tuesday as she was ordered held on $500,000 bail after prosecutors revealed she watched an ambulance arrive at the scene after the attack but then went into hiding. EDUCATION 6 hours ago California teachers with Sacramento's unified school district will strike on Wednesday after attempts to negotiate with the Sacramento City Unified School District (SCUSD) have reportedly failed. Oceans 6 hours ago Researchers believe they have discovered the remains of the only whaling ship to have sunk in the Gulf of Mexico. Texas 6 hours ago A car struck a natural gas pipeline near Dallas, Texas, leading to a flaming explosion, according to Mansfield Fire Department. VIDEO 7 hours ago FOX Business anchor Dagen McDowell joined 'America's Newsroom' to discuss how higher prices 'naturally correct demand' as Americans grapple with sky-high prices at the pump. San Francisco 7 hours ago San Francisco business owners fought off attempted smash-and-grab robbers at a camera shop in Chinatown. Russia 7 hours ago A Russia hacker has been indicted for operating a cybercriminal marketplace in Eastern Texas VIDEO 7 hours ago Dave Ramsey discusses the root and consequences of soaring inflation in the U.S. Show More Get all the stories you need-to-know from the most powerful name in news delivered first thing every morning to your inbox Arrives Weekdays Subscribe Subscribed Subscribe You've successfully subscribed to this newsletter! 2:57 VIDEO 1 hour ago 8:26 VIDEO 2 hours ago 5:35 VIDEO 3 hours ago 2:25 VIDEO 3 hours ago 2:38 VIDEO 3 hours ago 0:56 VIDEO 5 hours ago 4:35 VIDEO 7 hours ago 0:32 VIDEO 7 hours ago Coronavirus U.S. Crime Military Education Terror Immigration Economy Personal Freedoms Fox News Investigates World U.N. Conflicts Terrorism Disasters Global Economy Environment Religion Scandals Opinion Politics Executive Senate House Judiciary Foreign Policy Polls Elections Entertainment Celebrity News Movies TV News Music News Style News Entertainment Video Business Personal Finance Economy Markets Watchlist Lifestyle Real Estate Tech Lifestyle Food + Drink Cars + Trucks Travel + Outdoors House + Home Fitness + Well-being Style + Beauty Family Faith Science Archaeology Air & Space Planet Earth Wild Nature Natural Science Dinosaurs Tech Security Innovation Drones Computers Video Games Military Tech Health Coronavirus Healthy Living Medical Research Mental Health Cancer Heart Health Children's Health TV Shows Personalities Watch Live Full Episodes Show Clips News Clips About Contact Us Careers Fox Around the World Advertise With Us Media Relations Corporate Information Compliance Supplier Diversity Other Fox Weather Fox Nation Fox News Shop Fox News Go Fox News Radio Newsletters Podcasts Apps & Products Facebook Twitter Instagram Youtube Flipboard LinkedIn Slack RSS Newsletters Spotify iHeartRadio Fox News New Terms of Use New Privacy Policy Do Not Sell my Personal Information Closed Captioning Policy Help Contact Us Accessibility Statement This material may not be published, broadcast, rewritten, or redistributed. ©2022 FOX News Network, LLC. All rights reserved. Quotes displayed in real-time or delayed by at least 15 minutes. Market data provided by Factset . Powered and implemented by FactSet Digital Solutions . Legal Statement . Mutual Fund and ETF data provided by Refinitiv Lipper .\n"
     ]
    }
   ],
   "source": [
    "fox_url = 'https://www.foxnews.com/us'\n",
    "\n",
    "# Page content from Website URL\n",
    "page = requests.get(fox_url)\n",
    "\n",
    "# Function to remove tags\n",
    "def remove_tags(html):\n",
    "\n",
    "    # parse html content\n",
    "    soup = BeautifulSoup(html, \"html.parser\")\n",
    "\n",
    "    for data in soup(['h2', 'h3', 'h4']):\n",
    "        # Remove tags\n",
    "        data.decompose()\n",
    "\n",
    "    # return data by retrieving the tag content\n",
    "    return ' '.join(soup.stripped_strings)\n",
    "\n",
    "\n",
    "# Print the extracted data\n",
    "print(remove_tags(page.content))"
   ],
   "metadata": {
    "collapsed": false,
    "pycharm": {
     "name": "#%%\n"
    }
   }
  },
  {
   "cell_type": "code",
   "execution_count": 9,
   "outputs": [
    {
     "data": {
      "text/plain": "str"
     },
     "execution_count": 9,
     "metadata": {},
     "output_type": "execute_result"
    }
   ],
   "source": [
    "fox_data = remove_tags(page.content)\n",
    "type(data)"
   ],
   "metadata": {
    "collapsed": false,
    "pycharm": {
     "name": "#%%\n"
    }
   }
  },
  {
   "cell_type": "markdown",
   "source": [
    "### CNN Headlines"
   ],
   "metadata": {
    "collapsed": false
   }
  },
  {
   "cell_type": "code",
   "execution_count": 11,
   "outputs": [],
   "source": [
    "from datetime import date\n",
    "today = date.today()\n",
    "d = today.strftime(\"%m-%d-%y\")"
   ],
   "metadata": {
    "collapsed": false,
    "pycharm": {
     "name": "#%%\n"
    }
   }
  },
  {
   "cell_type": "code",
   "execution_count": 26,
   "outputs": [],
   "source": [
    "cnn_url = \"https://www.cnn.com/us\".format(d)\n",
    "\n",
    "# Page content from Website URL\n",
    "page2 = requests.get(cnn_url)\n",
    "\n",
    "cnn_data = remove_tags(page2.content)"
   ],
   "metadata": {
    "collapsed": false,
    "pycharm": {
     "name": "#%%\n"
    }
   }
  },
  {
   "cell_type": "markdown",
   "source": [
    "### NBC Headlines"
   ],
   "metadata": {
    "collapsed": false
   }
  },
  {
   "cell_type": "code",
   "execution_count": 16,
   "outputs": [],
   "source": [
    "nbc_url = 'https://www.nbcnews.com/us-news'\n",
    "\n",
    "# Page content from Website URL\n",
    "page3 = requests.get(nbc_url)\n",
    "\n",
    "nbc_data = remove_tags(page3.content)"
   ],
   "metadata": {
    "collapsed": false,
    "pycharm": {
     "name": "#%%\n"
    }
   }
  },
  {
   "cell_type": "markdown",
   "source": [
    "### NYT Headlines"
   ],
   "metadata": {
    "collapsed": false
   }
  },
  {
   "cell_type": "code",
   "execution_count": 17,
   "outputs": [],
   "source": [
    "nyt_url = 'https://www.nytimes.com/section/us'\n",
    "\n",
    "# Page content from Website URL\n",
    "page4 = requests.get(nbc_url)\n",
    "\n",
    "nyt_data = remove_tags(page4.content)"
   ],
   "metadata": {
    "collapsed": false,
    "pycharm": {
     "name": "#%%\n"
    }
   }
  },
  {
   "cell_type": "markdown",
   "source": [
    "### Wallstreet Journal Headlines"
   ],
   "metadata": {
    "collapsed": false
   }
  },
  {
   "cell_type": "code",
   "execution_count": 18,
   "outputs": [],
   "source": [
    "twsj_url = 'https://www.wsj.com/news/us?mod=nav_top_section'\n",
    "\n",
    "# Page content from Website URL\n",
    "page5 = requests.get(nbc_url)\n",
    "\n",
    "twsj_data = remove_tags(page5.content)"
   ],
   "metadata": {
    "collapsed": false,
    "pycharm": {
     "name": "#%%\n"
    }
   }
  },
  {
   "cell_type": "markdown",
   "source": [
    "### The Boston Glove Headlines"
   ],
   "metadata": {
    "collapsed": false
   }
  },
  {
   "cell_type": "code",
   "execution_count": 19,
   "outputs": [],
   "source": [
    "boston_url = 'https://www.bostonglobe.com/?refresh=true'\n",
    "\n",
    "# Page content from Website URL\n",
    "page6 = requests.get(nbc_url)\n",
    "\n",
    "bos_data = remove_tags(page6.content)"
   ],
   "metadata": {
    "collapsed": false,
    "pycharm": {
     "name": "#%%\n"
    }
   }
  },
  {
   "cell_type": "markdown",
   "source": [
    "### The Chicago Tribune Headlines"
   ],
   "metadata": {
    "collapsed": false
   }
  },
  {
   "cell_type": "code",
   "execution_count": 20,
   "outputs": [],
   "source": [
    "chicago_url = 'https://www.chicagotribune.com/'\n",
    "\n",
    "# Page content from Website URL\n",
    "page7 = requests.get(nbc_url)\n",
    "\n",
    "ord_data = remove_tags(page7.content)"
   ],
   "metadata": {
    "collapsed": false,
    "pycharm": {
     "name": "#%%\n"
    }
   }
  },
  {
   "cell_type": "markdown",
   "source": [
    "### Newsday Headlines"
   ],
   "metadata": {
    "collapsed": false
   }
  },
  {
   "cell_type": "code",
   "execution_count": 21,
   "outputs": [],
   "source": [
    "newsday_url = 'https://www.newsday.com/'\n",
    "\n",
    "# Page content from Website URL\n",
    "page8 = requests.get(nbc_url)\n",
    "\n",
    "newsday_data = remove_tags(page8.content)"
   ],
   "metadata": {
    "collapsed": false,
    "pycharm": {
     "name": "#%%\n"
    }
   }
  },
  {
   "cell_type": "markdown",
   "source": [
    "### The Washington Post Headlines"
   ],
   "metadata": {
    "collapsed": false
   }
  },
  {
   "cell_type": "code",
   "execution_count": 22,
   "outputs": [],
   "source": [
    "wapost_url = 'https://www.washingtonpost.com/?reload=true&_=1647990066652'\n",
    "\n",
    "page9 = requests.get(nbc_url)\n",
    "\n",
    "wapost_data = remove_tags(page9.content)"
   ],
   "metadata": {
    "collapsed": false,
    "pycharm": {
     "name": "#%%\n"
    }
   }
  },
  {
   "cell_type": "markdown",
   "source": [
    "### LA TImes Headlines"
   ],
   "metadata": {
    "collapsed": false
   }
  },
  {
   "cell_type": "code",
   "execution_count": 23,
   "outputs": [],
   "source": [
    "latimes_url = 'https://www.latimes.com/'\n",
    "\n",
    "page10 = requests.get(nbc_url)\n",
    "\n",
    "latimes_data = remove_tags(page10.content)"
   ],
   "metadata": {
    "collapsed": false,
    "pycharm": {
     "name": "#%%\n"
    }
   }
  },
  {
   "cell_type": "markdown",
   "source": [
    "### NY Post Headlines"
   ],
   "metadata": {
    "collapsed": false
   }
  },
  {
   "cell_type": "code",
   "execution_count": 24,
   "outputs": [],
   "source": [
    "nypost_url = 'https://nypost.com/'\n",
    "\n",
    "page11 = requests.get(nbc_url)\n",
    "\n",
    "nypost_data = remove_tags(page11.content)"
   ],
   "metadata": {
    "collapsed": false,
    "pycharm": {
     "name": "#%%\n"
    }
   }
  },
  {
   "cell_type": "markdown",
   "source": [
    "## Corpus Creation"
   ],
   "metadata": {
    "collapsed": false,
    "pycharm": {
     "name": "#%% md\n"
    }
   }
  },
  {
   "cell_type": "code",
   "execution_count": 25,
   "outputs": [],
   "source": [
    "headlines_corpus = cnn_data + nbc_data + nyt_data + twsj_data + bos_data + ord_data + newsday_data + wapost_data + latimes_data + nypost_data"
   ],
   "metadata": {
    "collapsed": false,
    "pycharm": {
     "name": "#%%\n"
    }
   }
  },
  {
   "cell_type": "code",
   "execution_count": 27,
   "outputs": [
    {
     "name": "stdout",
     "output_type": "stream",
     "text": [
      "US News – Top national stories and latest headlines - CNN US Crime + Justice Energy + Environment Extreme Weather Space + Science Search CNN Open Menu Crime + Justice Energy + Environment Extreme Weather Space + Science Search Edition US International Arabic Español Edition US International Arabic Español US Crime + Justice Energy + Environment Extreme Weather Space + Science World Africa Americas Asia Australia China Europe India Middle East United Kingdom Politics The Biden Presidency Facts First US Elections Business Markets Tech Media Success Perspectives Videos Opinion Political Op-Eds Social Commentary Health Life, But Better Fitness Food Sleep Mindfulness Relationships Entertainment Stars Screen Binge Culture Media Tech Innovate Gadget Foreseeable Future Mission: Ahead Upstarts Work Transformed Innovative Cities Style Arts Design Fashion Architecture Luxury Beauty Video Travel Destinations Food and Drink Stay News Videos Sports Pro Football College Football Basketball Baseball Soccer Olympics Hockey Videos Live TV Digital Studios CNN Films HLN TV Schedule TV Shows A-Z CNNVR Audio Coupons CNN Underscored Explore Wellness Gadgets Lifestyle CNN Store Weather Climate Storm Tracker Wildfire Tracker Video More Photos Longform Investigations CNN Profiles CNN Leadership CNN Newsletters Work for CNN Follow CNN US Search US Crime + Justice Energy + Environment Extreme Weather Space + Science World Africa Americas Asia Australia China Europe India Middle East United Kingdom Politics The Biden Presidency Facts First US Elections Business Markets Tech Media Success Perspectives Videos Opinion Political Op-Eds Social Commentary Health Life, But Better Fitness Food Sleep Mindfulness Relationships Entertainment Stars Screen Binge Culture Media Tech Innovate Gadget Foreseeable Future Mission: Ahead Upstarts Work Transformed Innovative Cities Style Arts Design Fashion Architecture Luxury Beauty Video Travel Destinations Food and Drink Stay News Videos Sports Pro Football College Football Basketball Baseball Soccer Olympics Hockey Videos Live TV Digital Studios CNN Films HLN TV Schedule TV Shows A-Z CNNVR Audio Coupons CNN Underscored Explore Wellness Gadgets Lifestyle CNN Store Weather Climate Storm Tracker Wildfire Tracker Video More Photos Longform Investigations CNN Profiles CNN Leadership CNN Newsletters Work for CNN US Follow CNN Terms of Use Privacy Policy Accessibility & CC Ad Choices About Us CNN Store Newsletters Transcripts License Footage CNN Newsource Sitemap © 2022 Cable News Network. A Warner Media Company. All Rights Reserved. CNN Sans ™ & © 2016 Cable News Network.U.S. News: Breaking News Photos, & Videos on the United States - NBC News | NBC News IE 11 is not supported. For an optimal experience visit our site on another browser. SKIP TO CONTENT NBC News Logo Russia-Ukraine full coverage Live Updates Plan Your Vote Politics Covid U.S. News Opinion Share & Save — Search Search Profile My News Sign Out Sign In Create your free profile Sections CORONAVIRUS U.S. News Politics World Local Business Health Investigations Culture Matters Science Sports Tech & Media Decision 2020 Video Features Photos Weather Select Asian America NBCBLK NBC Latino NBC OUT tv Today MSNBC Nightly News Meet The Press Dateline Featured NBC NEWS NOW THINK BETTER NIGHTLY FILMS STAY TUNED SPECIAL FEATURES NEWSLETTERS PODCASTS More From NBC CNBC NBC.COM NBC LEARN Peacock Next Steps for Vets Parent Toolkit NBC Archives Help Follow NBC News Search Search Facebook Twitter Email SMS Print Whatsapp Reddit Pocket Flipboard Pinterest Linkedin My News Manage Profile Email Preferences Sign Out U.S. News Top stories from around the country. Jose Luis Gonzalez / Reuters file Stephen Lovekin / Getty Images for The Webby Awards Google Maps 2h ago A 17-year-old boy, a 16-year-old girl, and two 15-year-old girls were taken into custody and face charges of second-degree murder. 3h ago The e-commerce giant wanted the annual march to be renamed \"Seattle Pride Parade Presented by Amazon,\" according to the nonprofit group's executive director. 3h ago The CDC said it's monitoring the worst avian influenza outbreak since 2015 that has devastated poultry farms along the East Coast and the Midwest. 4h ago Neighbors said the parents of the girl “were screaming” and “traumatized from taking that ‘Wizard of Oz’ ride.” 4h ago If confirmed, Jackson, 51, would become the high court's first Black female justice, capping a distinguished career that included a clerkship for Justice Stephen Breyer. 5h ago The Granbury superintendent’s comments, made on a leaked recording, raise constitutional concerns, legal experts said. 6h ago The donation, which is part of Scott’s pledge to give away the majority of her wealth, was made to Planned Parenthood’s national office and 21 regional affiliates. 6h ago A  school official in Tishomingo, a town of about 3,000, called the students’ deaths a “great loss.” 6h ago Wooten’s Everglades Airboat Tours in southwest Florida says it keeps two tigers as part of its wildlife attraction. 7h ago The ship, called Industry, was hunting whales when a strong storm snapped its masts and opened its hull to the sea on May 26, 1836. 7h ago Natalie Scheublin, 54, was found fatally stabbed in her basement. Arthur Louis Massei, 76, was indicted on a charge of first-degree murder, officials say. Load More About Contact Help Careers Ad Choices Privacy policy Do Not Sell My Personal Information CA Notice Terms of Service NBC NEWS SITEMAP Advertise © 2022 NBC UNIVERSAL NBC News Logo MSNBC Logo Today LogoU.S. News: Breaking News Photos, & Videos on the United States - NBC News | NBC News IE 11 is not supported. For an optimal experience visit our site on another browser. SKIP TO CONTENT NBC News Logo Russia-Ukraine full coverage Live Updates Plan Your Vote Politics Covid U.S. News Opinion Share & Save — Search Search Profile My News Sign Out Sign In Create your free profile Sections CORONAVIRUS U.S. News Politics World Local Business Health Investigations Culture Matters Science Sports Tech & Media Decision 2020 Video Features Photos Weather Select Asian America NBCBLK NBC Latino NBC OUT tv Today MSNBC Nightly News Meet The Press Dateline Featured NBC NEWS NOW THINK BETTER NIGHTLY FILMS STAY TUNED SPECIAL FEATURES NEWSLETTERS PODCASTS More From NBC CNBC NBC.COM NBC LEARN Peacock Next Steps for Vets Parent Toolkit NBC Archives Help Follow NBC News Search Search Facebook Twitter Email SMS Print Whatsapp Reddit Pocket Flipboard Pinterest Linkedin My News Manage Profile Email Preferences Sign Out U.S. News Top stories from around the country. NYPD Jose Luis Gonzalez / Reuters file Stephen Lovekin / Getty Images for The Webby Awards 2h ago John C. McGrath, former principal of Mercy Regional Catholic School in Maple Glen, was charged with multiple felonies, including theft by deception. 2h ago A 17-year-old boy, a 16-year-old girl, and two 15-year-old girls were taken into custody and face charges of second-degree murder. 3h ago The e-commerce giant wanted the annual march to be renamed \"Seattle Pride Parade Presented by Amazon,\" according to the nonprofit group's executive director. 3h ago The CDC said it's monitoring the worst avian influenza outbreak since 2015 that has devastated poultry farms along the East Coast and the Midwest. 4h ago Neighbors said the parents of the girl “were screaming” and “traumatized from taking that ‘Wizard of Oz’ ride.” 4h ago If confirmed, Jackson, 51, would become the high court's first Black female justice, capping a distinguished career that included a clerkship for Justice Stephen Breyer. 5h ago The Granbury superintendent’s comments, made on a leaked recording, raise constitutional concerns, legal experts said. 6h ago The donation, which is part of Scott’s pledge to give away the majority of her wealth, was made to Planned Parenthood’s national office and 21 regional affiliates. 6h ago A  school official in Tishomingo, a town of about 3,000, called the students’ deaths a “great loss.” 6h ago Wooten’s Everglades Airboat Tours in southwest Florida says it keeps two tigers as part of its wildlife attraction. 7h ago The ship, called Industry, was hunting whales when a strong storm snapped its masts and opened its hull to the sea on May 26, 1836. Load More About Contact Help Careers Ad Choices Privacy policy Do Not Sell My Personal Information CA Notice Terms of Service NBC NEWS SITEMAP Advertise © 2022 NBC UNIVERSAL NBC News Logo MSNBC Logo Today LogoU.S. News: Breaking News Photos, & Videos on the United States - NBC News | NBC News IE 11 is not supported. For an optimal experience visit our site on another browser. SKIP TO CONTENT NBC News Logo Russia-Ukraine full coverage Live Updates Plan Your Vote Politics Covid U.S. News Opinion Share & Save — Search Search Profile My News Sign Out Sign In Create your free profile Sections CORONAVIRUS U.S. News Politics World Local Business Health Investigations Culture Matters Science Sports Tech & Media Decision 2020 Video Features Photos Weather Select Asian America NBCBLK NBC Latino NBC OUT tv Today MSNBC Nightly News Meet The Press Dateline Featured NBC NEWS NOW THINK BETTER NIGHTLY FILMS STAY TUNED SPECIAL FEATURES NEWSLETTERS PODCASTS More From NBC CNBC NBC.COM NBC LEARN Peacock Next Steps for Vets Parent Toolkit NBC Archives Help Follow NBC News Search Search Facebook Twitter Email SMS Print Whatsapp Reddit Pocket Flipboard Pinterest Linkedin My News Manage Profile Email Preferences Sign Out U.S. News Top stories from around the country. NYPD Jose Luis Gonzalez / Reuters file Stephen Lovekin / Getty Images for The Webby Awards 2h ago John C. McGrath, former principal of Mercy Regional Catholic School in Maple Glen, was charged with multiple felonies, including theft by deception. 2h ago A 17-year-old boy, a 16-year-old girl, and two 15-year-old girls were taken into custody and face charges of second-degree murder. 3h ago The e-commerce giant wanted the annual march to be renamed \"Seattle Pride Parade Presented by Amazon,\" according to the nonprofit group's executive director. 3h ago The CDC said it's monitoring the worst avian influenza outbreak since 2015 that has devastated poultry farms along the East Coast and the Midwest. 4h ago Neighbors said the parents of the girl “were screaming” and “traumatized from taking that ‘Wizard of Oz’ ride.” 4h ago If confirmed, Jackson, 51, would become the high court's first Black female justice, capping a distinguished career that included a clerkship for Justice Stephen Breyer. 5h ago The Granbury superintendent’s comments, made on a leaked recording, raise constitutional concerns, legal experts said. 6h ago The donation, which is part of Scott’s pledge to give away the majority of her wealth, was made to Planned Parenthood’s national office and 21 regional affiliates. 6h ago A  school official in Tishomingo, a town of about 3,000, called the students’ deaths a “great loss.” 6h ago Wooten’s Everglades Airboat Tours in southwest Florida says it keeps two tigers as part of its wildlife attraction. 7h ago The ship, called Industry, was hunting whales when a strong storm snapped its masts and opened its hull to the sea on May 26, 1836. Load More About Contact Help Careers Ad Choices Privacy policy Do Not Sell My Personal Information CA Notice Terms of Service NBC NEWS SITEMAP Advertise © 2022 NBC UNIVERSAL NBC News Logo MSNBC Logo Today LogoU.S. News: Breaking News Photos, & Videos on the United States - NBC News | NBC News IE 11 is not supported. For an optimal experience visit our site on another browser. SKIP TO CONTENT NBC News Logo Russia-Ukraine full coverage Live Updates Plan Your Vote Politics Covid U.S. News Opinion Share & Save — Search Search Profile My News Sign Out Sign In Create your free profile Sections CORONAVIRUS U.S. News Politics World Local Business Health Investigations Culture Matters Science Sports Tech & Media Decision 2020 Video Features Photos Weather Select Asian America NBCBLK NBC Latino NBC OUT tv Today MSNBC Nightly News Meet The Press Dateline Featured NBC NEWS NOW THINK BETTER NIGHTLY FILMS STAY TUNED SPECIAL FEATURES NEWSLETTERS PODCASTS More From NBC CNBC NBC.COM NBC LEARN Peacock Next Steps for Vets Parent Toolkit NBC Archives Help Follow NBC News Search Search Facebook Twitter Email SMS Print Whatsapp Reddit Pocket Flipboard Pinterest Linkedin My News Manage Profile Email Preferences Sign Out U.S. News Top stories from around the country. NYPD Jose Luis Gonzalez / Reuters file Stephen Lovekin / Getty Images for The Webby Awards 2h ago John C. McGrath, former principal of Mercy Regional Catholic School in Maple Glen, was charged with multiple felonies, including theft by deception. 2h ago A 17-year-old boy, a 16-year-old girl, and two 15-year-old girls were taken into custody and face charges of second-degree murder. 3h ago The e-commerce giant wanted the annual march to be renamed \"Seattle Pride Parade Presented by Amazon,\" according to the nonprofit group's executive director. 3h ago The CDC said it's monitoring the worst avian influenza outbreak since 2015 that has devastated poultry farms along the East Coast and the Midwest. 4h ago Neighbors said the parents of the girl “were screaming” and “traumatized from taking that ‘Wizard of Oz’ ride.” 4h ago If confirmed, Jackson, 51, would become the high court's first Black female justice, capping a distinguished career that included a clerkship for Justice Stephen Breyer. 5h ago The Granbury superintendent’s comments, made on a leaked recording, raise constitutional concerns, legal experts said. 6h ago The donation, which is part of Scott’s pledge to give away the majority of her wealth, was made to Planned Parenthood’s national office and 21 regional affiliates. 6h ago A  school official in Tishomingo, a town of about 3,000, called the students’ deaths a “great loss.” 6h ago Wooten’s Everglades Airboat Tours in southwest Florida says it keeps two tigers as part of its wildlife attraction. 7h ago The ship, called Industry, was hunting whales when a strong storm snapped its masts and opened its hull to the sea on May 26, 1836. Load More About Contact Help Careers Ad Choices Privacy policy Do Not Sell My Personal Information CA Notice Terms of Service NBC NEWS SITEMAP Advertise © 2022 NBC UNIVERSAL NBC News Logo MSNBC Logo Today LogoU.S. News: Breaking News Photos, & Videos on the United States - NBC News | NBC News IE 11 is not supported. For an optimal experience visit our site on another browser. SKIP TO CONTENT NBC News Logo Russia-Ukraine full coverage Live Updates Plan Your Vote Politics Covid U.S. News Opinion Share & Save — Search Search Profile My News Sign Out Sign In Create your free profile Sections CORONAVIRUS U.S. News Politics World Local Business Health Investigations Culture Matters Science Sports Tech & Media Decision 2020 Video Features Photos Weather Select Asian America NBCBLK NBC Latino NBC OUT tv Today MSNBC Nightly News Meet The Press Dateline Featured NBC NEWS NOW THINK BETTER NIGHTLY FILMS STAY TUNED SPECIAL FEATURES NEWSLETTERS PODCASTS More From NBC CNBC NBC.COM NBC LEARN Peacock Next Steps for Vets Parent Toolkit NBC Archives Help Follow NBC News Search Search Facebook Twitter Email SMS Print Whatsapp Reddit Pocket Flipboard Pinterest Linkedin My News Manage Profile Email Preferences Sign Out U.S. News Top stories from around the country. NYPD Jose Luis Gonzalez / Reuters file Stephen Lovekin / Getty Images for The Webby Awards 2h ago John C. McGrath, former principal of Mercy Regional Catholic School in Maple Glen, was charged with multiple felonies, including theft by deception. 2h ago A 17-year-old boy, a 16-year-old girl, and two 15-year-old girls were taken into custody and face charges of second-degree murder. 3h ago The e-commerce giant wanted the annual march to be renamed \"Seattle Pride Parade Presented by Amazon,\" according to the nonprofit group's executive director. 3h ago The CDC said it's monitoring the worst avian influenza outbreak since 2015 that has devastated poultry farms along the East Coast and the Midwest. 4h ago Neighbors said the parents of the girl “were screaming” and “traumatized from taking that ‘Wizard of Oz’ ride.” 4h ago If confirmed, Jackson, 51, would become the high court's first Black female justice, capping a distinguished career that included a clerkship for Justice Stephen Breyer. 5h ago The Granbury superintendent’s comments, made on a leaked recording, raise constitutional concerns, legal experts said. 6h ago The donation, which is part of Scott’s pledge to give away the majority of her wealth, was made to Planned Parenthood’s national office and 21 regional affiliates. 6h ago A  school official in Tishomingo, a town of about 3,000, called the students’ deaths a “great loss.” 6h ago Wooten’s Everglades Airboat Tours in southwest Florida says it keeps two tigers as part of its wildlife attraction. 7h ago The ship, called Industry, was hunting whales when a strong storm snapped its masts and opened its hull to the sea on May 26, 1836. Load More About Contact Help Careers Ad Choices Privacy policy Do Not Sell My Personal Information CA Notice Terms of Service NBC NEWS SITEMAP Advertise © 2022 NBC UNIVERSAL NBC News Logo MSNBC Logo Today LogoU.S. News: Breaking News Photos, & Videos on the United States - NBC News | NBC News IE 11 is not supported. For an optimal experience visit our site on another browser. SKIP TO CONTENT NBC News Logo Russia-Ukraine full coverage Live Updates Plan Your Vote Politics Covid U.S. News Opinion Share & Save — Search Search Profile My News Sign Out Sign In Create your free profile Sections CORONAVIRUS U.S. News Politics World Local Business Health Investigations Culture Matters Science Sports Tech & Media Decision 2020 Video Features Photos Weather Select Asian America NBCBLK NBC Latino NBC OUT tv Today MSNBC Nightly News Meet The Press Dateline Featured NBC NEWS NOW THINK BETTER NIGHTLY FILMS STAY TUNED SPECIAL FEATURES NEWSLETTERS PODCASTS More From NBC CNBC NBC.COM NBC LEARN Peacock Next Steps for Vets Parent Toolkit NBC Archives Help Follow NBC News Search Search Facebook Twitter Email SMS Print Whatsapp Reddit Pocket Flipboard Pinterest Linkedin My News Manage Profile Email Preferences Sign Out U.S. News Top stories from around the country. NYPD Jose Luis Gonzalez / Reuters file Stephen Lovekin / Getty Images for The Webby Awards 2h ago John C. McGrath, former principal of Mercy Regional Catholic School in Maple Glen, was charged with multiple felonies, including theft by deception. 2h ago A 17-year-old boy, a 16-year-old girl, and two 15-year-old girls were taken into custody and face charges of second-degree murder. 3h ago The e-commerce giant wanted the annual march to be renamed \"Seattle Pride Parade Presented by Amazon,\" according to the nonprofit group's executive director. 3h ago The CDC said it's monitoring the worst avian influenza outbreak since 2015 that has devastated poultry farms along the East Coast and the Midwest. 4h ago Neighbors said the parents of the girl “were screaming” and “traumatized from taking that ‘Wizard of Oz’ ride.” 4h ago If confirmed, Jackson, 51, would become the high court's first Black female justice, capping a distinguished career that included a clerkship for Justice Stephen Breyer. 5h ago The Granbury superintendent’s comments, made on a leaked recording, raise constitutional concerns, legal experts said. 6h ago The donation, which is part of Scott’s pledge to give away the majority of her wealth, was made to Planned Parenthood’s national office and 21 regional affiliates. 6h ago A  school official in Tishomingo, a town of about 3,000, called the students’ deaths a “great loss.” 7h ago Wooten’s Everglades Airboat Tours in southwest Florida says it keeps two tigers as part of its wildlife attraction. 7h ago The ship, called Industry, was hunting whales when a strong storm snapped its masts and opened its hull to the sea on May 26, 1836. Load More About Contact Help Careers Ad Choices Privacy policy Do Not Sell My Personal Information CA Notice Terms of Service NBC NEWS SITEMAP Advertise © 2022 NBC UNIVERSAL NBC News Logo MSNBC Logo Today LogoU.S. News: Breaking News Photos, & Videos on the United States - NBC News | NBC News IE 11 is not supported. For an optimal experience visit our site on another browser. SKIP TO CONTENT NBC News Logo Russia-Ukraine full coverage Live Updates Plan Your Vote Politics Covid U.S. News Opinion Share & Save — Search Search Profile My News Sign Out Sign In Create your free profile Sections CORONAVIRUS U.S. News Politics World Local Business Health Investigations Culture Matters Science Sports Tech & Media Decision 2020 Video Features Photos Weather Select Asian America NBCBLK NBC Latino NBC OUT tv Today MSNBC Nightly News Meet The Press Dateline Featured NBC NEWS NOW THINK BETTER NIGHTLY FILMS STAY TUNED SPECIAL FEATURES NEWSLETTERS PODCASTS More From NBC CNBC NBC.COM NBC LEARN Peacock Next Steps for Vets Parent Toolkit NBC Archives Help Follow NBC News Search Search Facebook Twitter Email SMS Print Whatsapp Reddit Pocket Flipboard Pinterest Linkedin My News Manage Profile Email Preferences Sign Out U.S. News Top stories from around the country. NYPD Jose Luis Gonzalez / Reuters file Stephen Lovekin / Getty Images for The Webby Awards 2h ago John C. McGrath, former principal of Mercy Regional Catholic School in Maple Glen, was charged with multiple felonies, including theft by deception. 2h ago A 17-year-old boy, a 16-year-old girl, and two 15-year-old girls were taken into custody and face charges of second-degree murder. 3h ago The e-commerce giant wanted the annual march to be renamed \"Seattle Pride Parade Presented by Amazon,\" according to the nonprofit group's executive director. 3h ago The CDC said it's monitoring the worst avian influenza outbreak since 2015 that has devastated poultry farms along the East Coast and the Midwest. 4h ago Neighbors said the parents of the girl “were screaming” and “traumatized from taking that ‘Wizard of Oz’ ride.” 4h ago If confirmed, Jackson, 51, would become the high court's first Black female justice, capping a distinguished career that included a clerkship for Justice Stephen Breyer. 5h ago The Granbury superintendent’s comments, made on a leaked recording, raise constitutional concerns, legal experts said. 6h ago The donation, which is part of Scott’s pledge to give away the majority of her wealth, was made to Planned Parenthood’s national office and 21 regional affiliates. 6h ago A  school official in Tishomingo, a town of about 3,000, called the students’ deaths a “great loss.” 7h ago Wooten’s Everglades Airboat Tours in southwest Florida says it keeps two tigers as part of its wildlife attraction. 7h ago The ship, called Industry, was hunting whales when a strong storm snapped its masts and opened its hull to the sea on May 26, 1836. Load More About Contact Help Careers Ad Choices Privacy policy Do Not Sell My Personal Information CA Notice Terms of Service NBC NEWS SITEMAP Advertise © 2022 NBC UNIVERSAL NBC News Logo MSNBC Logo Today LogoU.S. News: Breaking News Photos, & Videos on the United States - NBC News | NBC News IE 11 is not supported. For an optimal experience visit our site on another browser. SKIP TO CONTENT NBC News Logo Russia-Ukraine full coverage Live Updates Plan Your Vote Politics Covid U.S. News Opinion Share & Save — Search Search Profile My News Sign Out Sign In Create your free profile Sections CORONAVIRUS U.S. News Politics World Local Business Health Investigations Culture Matters Science Sports Tech & Media Decision 2020 Video Features Photos Weather Select Asian America NBCBLK NBC Latino NBC OUT tv Today MSNBC Nightly News Meet The Press Dateline Featured NBC NEWS NOW THINK BETTER NIGHTLY FILMS STAY TUNED SPECIAL FEATURES NEWSLETTERS PODCASTS More From NBC CNBC NBC.COM NBC LEARN Peacock Next Steps for Vets Parent Toolkit NBC Archives Help Follow NBC News Search Search Facebook Twitter Email SMS Print Whatsapp Reddit Pocket Flipboard Pinterest Linkedin My News Manage Profile Email Preferences Sign Out U.S. News Top stories from around the country. NYPD Jose Luis Gonzalez / Reuters file Stephen Lovekin / Getty Images for The Webby Awards 2h ago John C. McGrath, former principal of Mercy Regional Catholic School in Maple Glen, was charged with multiple felonies, including theft by deception. 2h ago A 17-year-old boy, a 16-year-old girl, and two 15-year-old girls were taken into custody and face charges of second-degree murder. 3h ago The e-commerce giant wanted the annual march to be renamed \"Seattle Pride Parade Presented by Amazon,\" according to the nonprofit group's executive director. 3h ago The CDC said it's monitoring the worst avian influenza outbreak since 2015 that has devastated poultry farms along the East Coast and the Midwest. 4h ago Neighbors said the parents of the girl “were screaming” and “traumatized from taking that ‘Wizard of Oz’ ride.” 4h ago If confirmed, Jackson, 51, would become the high court's first Black female justice, capping a distinguished career that included a clerkship for Justice Stephen Breyer. 5h ago The Granbury superintendent’s comments, made on a leaked recording, raise constitutional concerns, legal experts said. 6h ago The donation, which is part of Scott’s pledge to give away the majority of her wealth, was made to Planned Parenthood’s national office and 21 regional affiliates. 6h ago A  school official in Tishomingo, a town of about 3,000, called the students’ deaths a “great loss.” 7h ago Wooten’s Everglades Airboat Tours in southwest Florida says it keeps two tigers as part of its wildlife attraction. 7h ago The ship, called Industry, was hunting whales when a strong storm snapped its masts and opened its hull to the sea on May 26, 1836. Load More About Contact Help Careers Ad Choices Privacy policy Do Not Sell My Personal Information CA Notice Terms of Service NBC NEWS SITEMAP Advertise © 2022 NBC UNIVERSAL NBC News Logo MSNBC Logo Today LogoU.S. News: Breaking News Photos, & Videos on the United States - NBC News | NBC News IE 11 is not supported. For an optimal experience visit our site on another browser. SKIP TO CONTENT NBC News Logo Russia-Ukraine full coverage Live Updates Plan Your Vote Politics Covid U.S. News Opinion Share & Save — Search Search Profile My News Sign Out Sign In Create your free profile Sections CORONAVIRUS U.S. News Politics World Local Business Health Investigations Culture Matters Science Sports Tech & Media Decision 2020 Video Features Photos Weather Select Asian America NBCBLK NBC Latino NBC OUT tv Today MSNBC Nightly News Meet The Press Dateline Featured NBC NEWS NOW THINK BETTER NIGHTLY FILMS STAY TUNED SPECIAL FEATURES NEWSLETTERS PODCASTS More From NBC CNBC NBC.COM NBC LEARN Peacock Next Steps for Vets Parent Toolkit NBC Archives Help Follow NBC News Search Search Facebook Twitter Email SMS Print Whatsapp Reddit Pocket Flipboard Pinterest Linkedin My News Manage Profile Email Preferences Sign Out U.S. News Top stories from around the country. NYPD Jose Luis Gonzalez / Reuters file Stephen Lovekin / Getty Images for The Webby Awards 2h ago John C. McGrath, former principal of Mercy Regional Catholic School in Maple Glen, was charged with multiple felonies, including theft by deception. 3h ago A 17-year-old boy, a 16-year-old girl, and two 15-year-old girls were taken into custody and face charges of second-degree murder. 3h ago The e-commerce giant wanted the annual march to be renamed \"Seattle Pride Parade Presented by Amazon,\" according to the nonprofit group's executive director. 3h ago The CDC said it's monitoring the worst avian influenza outbreak since 2015 that has devastated poultry farms along the East Coast and the Midwest. 4h ago Neighbors said the parents of the girl “were screaming” and “traumatized from taking that ‘Wizard of Oz’ ride.” 4h ago If confirmed, Jackson, 51, would become the high court's first Black female justice, capping a distinguished career that included a clerkship for Justice Stephen Breyer. 5h ago The Granbury superintendent’s comments, made on a leaked recording, raise constitutional concerns, legal experts said. 6h ago The donation, which is part of Scott’s pledge to give away the majority of her wealth, was made to Planned Parenthood’s national office and 21 regional affiliates. 6h ago A  school official in Tishomingo, a town of about 3,000, called the students’ deaths a “great loss.” 7h ago Wooten’s Everglades Airboat Tours in southwest Florida says it keeps two tigers as part of its wildlife attraction. 7h ago The ship, called Industry, was hunting whales when a strong storm snapped its masts and opened its hull to the sea on May 26, 1836. Load More About Contact Help Careers Ad Choices Privacy policy Do Not Sell My Personal Information CA Notice Terms of Service NBC NEWS SITEMAP Advertise © 2022 NBC UNIVERSAL NBC News Logo MSNBC Logo Today Logo\n"
     ]
    }
   ],
   "source": [
    "print(headlines_corpus)"
   ],
   "metadata": {
    "collapsed": false,
    "pycharm": {
     "name": "#%%\n"
    }
   }
  },
  {
   "cell_type": "markdown",
   "source": [
    "# Text Cleaning for NLP"
   ],
   "metadata": {
    "collapsed": false,
    "pycharm": {
     "name": "#%% md\n"
    }
   }
  },
  {
   "cell_type": "code",
   "execution_count": 28,
   "outputs": [],
   "source": [
    "import csv\n",
    "\n",
    "with open('news_corpus.csv', 'w', newline= '') as csvfile:\n",
    "    writer = csv.writer(csvfile, delimiter = ' ')\n",
    "    writer.writerow(headlines_corpus)"
   ],
   "metadata": {
    "collapsed": false,
    "pycharm": {
     "name": "#%%\n"
    }
   }
  },
  {
   "cell_type": "markdown",
   "source": [],
   "metadata": {
    "collapsed": false
   }
  },
  {
   "cell_type": "code",
   "execution_count": 31,
   "outputs": [],
   "source": [
    "file = open(\"headlines_corpus.txt\", \"w\")\n",
    "file.write(headlines_corpus)\n",
    "file.close()"
   ],
   "metadata": {
    "collapsed": false,
    "pycharm": {
     "name": "#%%\n"
    }
   }
  }
 ],
 "metadata": {
  "kernelspec": {
   "display_name": "Python 3",
   "language": "python",
   "name": "python3"
  },
  "language_info": {
   "codemirror_mode": {
    "name": "ipython",
    "version": 2
   },
   "file_extension": ".py",
   "mimetype": "text/x-python",
   "name": "python",
   "nbconvert_exporter": "python",
   "pygments_lexer": "ipython2",
   "version": "2.7.6"
  }
 },
 "nbformat": 4,
 "nbformat_minor": 0
}