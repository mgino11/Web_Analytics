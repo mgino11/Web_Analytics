{
 "cells": [
  {
   "cell_type": "code",
   "execution_count": null,
   "metadata": {
    "id": "PWIpx9tRlOfv",
    "pycharm": {
     "name": "#%%\n"
    }
   },
   "outputs": [],
   "source": []
  },
  {
   "cell_type": "markdown",
   "metadata": {
    "id": "UBmBJOBklOfx"
   },
   "source": [
    "## Importing Libraries and Data"
   ]
  },
  {
   "cell_type": "code",
   "execution_count": 162,
   "metadata": {
    "id": "NXELmA1BlOfz"
   },
   "outputs": [],
   "source": [
    "import pandas as pd\n",
    "import numpy as np\n",
    "import re #Regex\n",
    "import requests\n",
    "from bs4 import BeautifulSoup\n",
    "\n"
   ]
  },
  {
   "cell_type": "markdown",
   "metadata": {
    "id": "kJ3oBkLklOf0"
   },
   "source": [
    "## Headlines Scraping BS4\n",
    "### Fox Headlines"
   ]
  },
  {
   "cell_type": "code",
   "execution_count": 163,
   "metadata": {
    "colab": {
     "base_uri": "https://localhost:8080/"
    },
    "id": "hPwRoSkklOf1",
    "outputId": "740f2f0e-4fe4-4382-89bc-d7e125d17609",
    "pycharm": {
     "name": "#%%\n"
    }
   },
   "outputs": [
    {
     "name": "stdout",
     "output_type": "stream",
     "text": [
      "U.S. | Fox News Fox News U.S. Politics Media Opinion Business Entertainment Sports Lifestyle Weather TV Fox Nation Listen More Expand / Collapse search Login Watch TV Menu Hot Topics Coronavirus U.S. Crime Military Education Terror Immigration Economy Personal Freedoms Fox News Investigates World U.N. Conflicts Terrorism Disasters Global Economy Environment Religion Scandals Opinion Politics Executive Senate House Judiciary Foreign Policy Polls Elections Entertainment Celebrity News Movies TV News Music News Style News Entertainment Video Business Personal Finance Economy Markets Watchlist Lifestyle Real Estate Tech Lifestyle Food + Drink Cars + Trucks Travel + Outdoors House + Home Fitness + Well-being Style + Beauty Family Faith Science Archaeology Air & Space Planet Earth Wild Nature Natural Science Dinosaurs Tech Security Innovation Drones Computers Video Games Military Tech Health Coronavirus Healthy Living Medical Research Mental Health Cancer Heart Health Children's Health TV Shows Personalities Watch Live Full Episodes Show Clips News Clips About Contact Us Careers Fox Around the World Advertise With Us Media Relations Corporate Information Compliance Supplier Diversity Other Fox Weather Fox Nation Fox News Shop Fox News Go Fox News Radio Newsletters Podcasts Apps & Products Fox News New Terms of Use New Privacy Policy Do Not Sell my Personal Information Closed Captioning Policy Help Contact Us This material may not be published, broadcast, rewritten,\n",
      "      or redistributed. ©2022 FOX News Network, LLC. All rights reserved.\n",
      "      Quotes displayed in real-time or delayed by at least 15 minutes. Market data provided by Factset . Powered and implemented by FactSet Digital Solutions . Legal Statement . Mutual Fund and ETF data provided by Refinitiv Lipper . Facebook Twitter Instagram RSS Email U.S. MARKET MASSACRE AP Photo/Carolyn Thompson New York 20 hours ago The Buffalo Police Department said in a tweet on Saturday afternoon they are on the scene of a “mass shooting” at a grocery store in Buffalo, New York. PULLED FROM THE ASHES Fox 11 California 17 hours ago One California family is thanking firefighters who saved their U.S. flag and 9/11 mug cup from their home that was destroyed by the Coastal Fire. POWER STRUGGLE (AP Photo/David J. Phillip) Texas 1 day ago The Electric Reliability Council of Texas (ERCOT) is asking residents of the Lone Star State to conserve power after six power generation facilities tripped offline. Philadelphia 34 mins ago Philadelphia police are offering a $20,000 reward for information that leads to the arrest of a murder suspect who was seen on video hugging the victim before the fatal shooting last year, authorities said Friday. CRIME 53 mins ago A 16-year-old boy was fatally shot at Chicago's \"The Bean\" sculpture in Millennium Park. US 59 mins ago Pro-choice activists who spoke to The Hill said they are preparing for a potential “big influx” of American women crossing the Mexican and Canadian borders seeking abortions if the Supreme Court overturns Roe v. Wade. Polls 1 hour ago The leak potentially overruling Roe v. Wade has not changes the preference of voters ahead of the midterm election's, with a poll showing a tight race between Republicans and Democrats. Georgia 1 hour ago A Tennessee stay at home mom and a civilian employee for a Georgia police department cracked a 1985 cold case that went unsolved for 37 years. New York 1 hour ago New York state police have released video showing officers and firefighters rescue a driver trapped inside a sinking car that crashed into a reservoir last week. Polls 2 hours ago More Americans say the country has gone too far with transgender policies compared to previous polls, closing the gap with those who say society has to do more to end discrimination against transgender people. POLITICS 2 hours ago Democratic Chicago Mayor Lori Lightfoot was roasted Sunday on Twitter for posting a picture of herself reading “To Kill a Mockingbird” in a Texas bookstore and coming out against book banning. Cold Case 3 hours ago Human remains first discovered nearly three decades ago in Colorado have been identified as a woman who vanished in Washington state, investigators said Wednesday. Indiana 3 hours ago Indiana State Police is pleading for information to identify a Black boy around the age of five found in a Las Vegas-themed suitcase by a mushroom hunter in a heavily wooded area off a roadway last month. The boy is believed to have died within the week his body was found, and investigators are “not precluding anything,” including whether he could from out of the country. New York 3 hours ago New York Gov. Kathy Hochul joined a Buffalo Baptist congregation for worship on Sunday as the community mourned the loss of 10 victims who were killed during Saturday’s mass shooting at a local Tops grocery story. VIDEO 3 hours ago Sen. Bill Hagerty, R-Tenn., discusses his intended 'no' vote for the Ukrainian aid package and shares where he is pinpointing the blame for America's ongoing struggles. More Abortion 6 mins ago CRIME 12 mins ago Cold Case 3 hours ago Donald Trump 4 hours ago More POLITICS 2 hours ago Indiana 3 hours ago Wisconsin 3 hours ago Exclusive 12 hours ago More Abortion 2 hours ago Arizona 5 hours ago Texas 21 hours ago Texas 1 day ago Texas 1 day ago Parenting 1 day ago CRIME 1 day ago Illegal Immigrants 1 day ago More Georgia 1 hour ago Donald Trump 4 hours ago Virginia 4 hours ago LIFESTYLE 4 hours ago More New York 1 hour ago New York 3 hours ago New York 4 hours ago Seattle 5 hours ago Police and Law Enforcement 6 hours ago Police and Law Enforcement 9 hours ago Pennsylvania 12 hours ago New York 13 hours ago More True Crime 1 day ago True Crime 2 days ago Iowa 2 days ago CRIME 2 days ago Wisconsin 3 hours ago Three Wisconsin boys face sexual harassment charges under Title IX from Kiel Middle School for using incorrect gender pronouns. VIDEO 3 hours ago Home contractor Skip Bedell joins 'Fox & Friends Weekend' to explain how to raise your own chickens amid soaring inflation. Virginia 4 hours ago Police in Prince William County, Virginia, outside of Washington, D.C., announced Friday that 21-year-old suspected drug dealer Latae’veion Naveiour Woods had been arrested in connection to last month’s fatal fentanyl overdose of a 14-year-old boy who took counterfeit Percocet pills. VIDEO 4 hours ago Gov. Kevin Stitt, R-Okla., discusses his move to criminalize abortions in his state, pro-choice activists' push to keep abortion rights on indigenous reservations and his decision to veto a public safety bill on tribal convictions. VIDEO 4 hours ago Fox News Flash top headlines are here. Check out what's clicking on Foxnews.com. VIDEO 4 hours ago Retired Army Staff Sergeant David Bellavia, the first living Iraq war veteran to receive the Medal of Honor who was born in Buffalo, NY, weighs in on the fatal shooting that occurred at a grocery store in the city this weekend. New York 4 hours ago New York City police deployed increased patrols and counterterrorism resources to certain parts of the city, including around churches and houses of worship in communities of color, in the wake of Saturday’s horrific attack at a Buffalo grocery story. VIDEO 5 hours ago 'Fox & Friends Weekend' co-hosts Pete Hegseth and Will Cain share headlines to start the week on a positive note. VIDEO 5 hours ago Home contractor Skip Bedell joins 'Fox & Friends Weekend' to demonstrate how to grow food right at home as inflation sits near 40-year highs. VIDEO 5 hours ago Former acting DHS secretary Chad Wolf discusses the disastrous implications of reversing Title 42. Arizona 5 hours ago An inmate in Arizona was mistakenly released Thursday after he assumed the identity of another inmate, authorities said. Seattle 5 hours ago Jabarie Phillips, a 44-year-old man from Seattle, pleaded guilty to federal charged in Boston after allegedly preying on a Massachusetts 14-year-old girl on Facebook and convincing her to run away with him. The two got halfway across the country before authorities intercepted a bus in Minneapolis. Show More Get all the stories you need-to-know from the most powerful name in news delivered first thing every morning to your inbox Arrives Weekdays Subscribe Subscribed Subscribe You've successfully subscribed to this newsletter! 9:36 VIDEO 3 hours ago 4:14 VIDEO 3 hours ago 7:24 VIDEO 4 hours ago 2:38 VIDEO 4 hours ago 3:27 VIDEO 4 hours ago 4:29 VIDEO 5 hours ago 4:25 VIDEO 5 hours ago 1:06 VIDEO 5 hours ago Coronavirus U.S. Crime Military Education Terror Immigration Economy Personal Freedoms Fox News Investigates World U.N. Conflicts Terrorism Disasters Global Economy Environment Religion Scandals Opinion Politics Executive Senate House Judiciary Foreign Policy Polls Elections Entertainment Celebrity News Movies TV News Music News Style News Entertainment Video Business Personal Finance Economy Markets Watchlist Lifestyle Real Estate Tech Lifestyle Food + Drink Cars + Trucks Travel + Outdoors House + Home Fitness + Well-being Style + Beauty Family Faith Science Archaeology Air & Space Planet Earth Wild Nature Natural Science Dinosaurs Tech Security Innovation Drones Computers Video Games Military Tech Health Coronavirus Healthy Living Medical Research Mental Health Cancer Heart Health Children's Health TV Shows Personalities Watch Live Full Episodes Show Clips News Clips About Contact Us Careers Fox Around the World Advertise With Us Media Relations Corporate Information Compliance Supplier Diversity Other Fox Weather Fox Nation Fox News Shop Fox News Go Fox News Radio Newsletters Podcasts Apps & Products Facebook Twitter Instagram Youtube Flipboard LinkedIn Slack RSS Newsletters Spotify iHeartRadio Fox News New Terms of Use New Privacy Policy Do Not Sell my Personal Information Closed Captioning Policy Help Contact Us Accessibility Statement This material may not be published, broadcast, rewritten, or redistributed. ©2022 FOX News Network, LLC. All rights reserved. Quotes displayed in real-time or delayed by at least 15 minutes. Market data provided by Factset . Powered and implemented by FactSet Digital Solutions . Legal Statement . Mutual Fund and ETF data provided by Refinitiv Lipper .\n",
      "Politics | Fox News Fox News U.S. Politics Media Opinion Business Entertainment Sports Lifestyle Weather TV Fox Nation Listen More Expand / Collapse search Login Watch TV Menu Hot Topics Coronavirus U.S. Crime Military Education Terror Immigration Economy Personal Freedoms Fox News Investigates World U.N. Conflicts Terrorism Disasters Global Economy Environment Religion Scandals Opinion Politics Executive Senate House Judiciary Foreign Policy Polls Elections Entertainment Celebrity News Movies TV News Music News Style News Entertainment Video Business Personal Finance Economy Markets Watchlist Lifestyle Real Estate Tech Lifestyle Food + Drink Cars + Trucks Travel + Outdoors House + Home Fitness + Well-being Style + Beauty Family Faith Science Archaeology Air & Space Planet Earth Wild Nature Natural Science Dinosaurs Tech Security Innovation Drones Computers Video Games Military Tech Health Coronavirus Healthy Living Medical Research Mental Health Cancer Heart Health Children's Health TV Shows Personalities Watch Live Full Episodes Show Clips News Clips About Contact Us Careers Fox Around the World Advertise With Us Media Relations Corporate Information Compliance Supplier Diversity Other Fox Weather Fox Nation Fox News Shop Fox News Go Fox News Radio Newsletters Podcasts Apps & Products Fox News New Terms of Use New Privacy Policy Do Not Sell my Personal Information Closed Captioning Policy Help Contact Us This material may not be published, broadcast, rewritten,\n",
      "      or redistributed. ©2022 FOX News Network, LLC. All rights reserved.\n",
      "      Quotes displayed in real-time or delayed by at least 15 minutes. Market data provided by Factset . Powered and implemented by FactSet Digital Solutions . Legal Statement . Mutual Fund and ETF data provided by Refinitiv Lipper . Facebook Twitter Instagram RSS Email Politics Paul Morigi/Getty Images for Women's March Abortion 22 hours ago Thousands of pro-choice activists from different corners in America descended on Washington, D.C., on Saturday for the \"Bans Off Our Bodies\" event organized by a coalition of groups including Planned Parenthood and the Women's March. Jonathan Newton /The Washington Post via Getty Images White House 20 hours ago The White House is facing backlash after it falsely claimed in a tweet this week that \"there was no vaccine available\" for COVID-19 when Joe Biden took office last year, but Twitter, along with the White House remain silent on why the that claim remains on the platform with no \"misinformation\" warning label. Kevin Dietsch/Getty Images Police and Law Enforcement 1 day ago House Democrats appear to be at odds over a bipartisan measure introduced earlier this year that would provide investments in local police departments across America to ensure officers have the resources needed to keep them and their communities safe. Abortion 6 mins ago Colorado Gov. Jared Polis says the government should not intrude in conversations about abortion between a woman and her doctor or faith leader. Colorado recently preserved abortion rights in state law. CRIME 12 mins ago An Arby's manager admitted to police that he urinated in Arby's milkshake mix \"at least twice.\" VIDEO 27 mins ago Fox News contributor and former acting ICE Director Tom Homan discusses the border crisis. VIDEO 30 mins ago Rep. Ted Budd, R-NC, weighs in on the upcoming primary election in his state, his endorsements and the issues connecting most with North Carolina voters. Joe Biden 42 mins ago President Biden said hate \"remains a stain on the soul of America\" after an alleged white supremacist gunned down 10 people Saturday afternoon. VIDEO 55 mins ago Rep. Jim Jordan, R-Ohio., weighs in on the whistleblowers' exposing of the matter, arguing that the FBI and DOJ operated at 'record speed' to 'chill speech.' View More 4:25 VIDEO 2 days ago 3:34 VIDEO May 8 Police and Law Enforcement May 7 4:49 VIDEO May 6 More Polls 1 hour ago US 1 hour ago Pennsylvania 12 hours ago OPINION 21 hours ago TERRORISM 2 hours ago The Biden administration plans to remove five terror organizations from a federal blacklist. Abortion 2 hours ago Oklahoma Gov. Kevin Stitt pushed back against critics of his state's abortion law, which bans abortion when there is a fetal heartbeat, typically six weeks into pregnancy, while recognizing that there is a gaping loophole. VIDEO 2 hours ago Ex-Pentagon chief saved allegations for book VIDEO 2 hours ago Biden, media belatedly confront crisis VIDEO 2 hours ago Pennsylvania Senate candidate David McCormick joined 'Sunday Morning Futures' to discuss the race and issues that matter to voters ahead of the primary election. Supreme Court 2 hours ago The Supreme Court will issue a batch of opinions on an unknown number of cases Monday, but the highly-anticipated decision that could determine the fate of abortion protections is likely weeks away, according to judicial experts. VIDEO 2 hours ago GOP says it goes far beyond Roe POLITICS 2 hours ago House Speaker Nancy Pelosi, D-Calif., on Sunday responded to criticism that Democrats should have been better prepared for the conservative-led attack on abortion rights, saying, \"Who would ever [have] suspected that a creature like Donald Trump would become president of the United States?\" VIDEO 2 hours ago Rep. Jim Jordan, R-Ohio., says he has evidence that the FBI targeted parents who protested schools' COVID policies despite assurances from Attorney General Merrick Garland that it never happened. VIDEO 3 hours ago Trump Media & Technology Group CEO Devin Nunes and Former Department of Defense Chief of Staff Kash Patel discuss the latest in the Durham investigation. VIDEO 4 hours ago Colorado Governor Jared Polis discusses his state’s abortion rights and U.S. inflation. VIDEO 4 hours ago Washington Times opinion editor Charlie Hurt, Fox News contributor Guy Benson, former DNC communications director Mo Elleithee and White House reporter for the Wall Street Journal Catherine Lucey weigh in. Donald Trump 4 hours ago Is the Donald Trump face off with former Vice President Mike Pence in Georgia's GOP gubernatorial showdown an early 2024 skirmish? VIDEO 4 hours ago Pennsylvania Senate candidate Kathy Barnette joined 'Fox News Sunday' to discuss her platform and scrutiny surrounding her social media presence and military record. VIDEO 4 hours ago Fox News contributors Sean Duffy, Leo Terrell and Lara Trump discuss the future of Twitter under Elon Musk. Show More Get all the stories you need-to-know from the most powerful name in news delivered first thing every morning to your inbox Arrives Weekdays Subscribe Subscribed Subscribe You've successfully subscribed to this newsletter! Media Buzz 3 days ago Media Buzz 4 days ago Media Buzz 5 days ago 42 mins ago 4 hours ago 9 hours ago 20 hours ago Coronavirus U.S. Crime Military Education Terror Immigration Economy Personal Freedoms Fox News Investigates World U.N. Conflicts Terrorism Disasters Global Economy Environment Religion Scandals Opinion Politics Executive Senate House Judiciary Foreign Policy Polls Elections Entertainment Celebrity News Movies TV News Music News Style News Entertainment Video Business Personal Finance Economy Markets Watchlist Lifestyle Real Estate Tech Lifestyle Food + Drink Cars + Trucks Travel + Outdoors House + Home Fitness + Well-being Style + Beauty Family Faith Science Archaeology Air & Space Planet Earth Wild Nature Natural Science Dinosaurs Tech Security Innovation Drones Computers Video Games Military Tech Health Coronavirus Healthy Living Medical Research Mental Health Cancer Heart Health Children's Health TV Shows Personalities Watch Live Full Episodes Show Clips News Clips About Contact Us Careers Fox Around the World Advertise With Us Media Relations Corporate Information Compliance Supplier Diversity Other Fox Weather Fox Nation Fox News Shop Fox News Go Fox News Radio Newsletters Podcasts Apps & Products Facebook Twitter Instagram Youtube Flipboard LinkedIn Slack RSS Newsletters Spotify iHeartRadio Fox News New Terms of Use New Privacy Policy Do Not Sell my Personal Information Closed Captioning Policy Help Contact Us Accessibility Statement This material may not be published, broadcast, rewritten, or redistributed. ©2022 FOX News Network, LLC. All rights reserved. Quotes displayed in real-time or delayed by at least 15 minutes. Market data provided by Factset . Powered and implemented by FactSet Digital Solutions . Legal Statement . Mutual Fund and ETF data provided by Refinitiv Lipper .\n",
      "Opinion | Fox News Fox News U.S. Politics Media Opinion Business Entertainment Sports Lifestyle Weather TV Fox Nation Listen More Expand / Collapse search Login Watch TV Menu Hot Topics Coronavirus U.S. Crime Military Education Terror Immigration Economy Personal Freedoms Fox News Investigates World U.N. Conflicts Terrorism Disasters Global Economy Environment Religion Scandals Opinion Politics Executive Senate House Judiciary Foreign Policy Polls Elections Entertainment Celebrity News Movies TV News Music News Style News Entertainment Video Business Personal Finance Economy Markets Watchlist Lifestyle Real Estate Tech Lifestyle Food + Drink Cars + Trucks Travel + Outdoors House + Home Fitness + Well-being Style + Beauty Family Faith Science Archaeology Air & Space Planet Earth Wild Nature Natural Science Dinosaurs Tech Security Innovation Drones Computers Video Games Military Tech Health Coronavirus Healthy Living Medical Research Mental Health Cancer Heart Health Children's Health TV Shows Personalities Watch Live Full Episodes Show Clips News Clips About Contact Us Careers Fox Around the World Advertise With Us Media Relations Corporate Information Compliance Supplier Diversity Other Fox Weather Fox Nation Fox News Shop Fox News Go Fox News Radio Newsletters Podcasts Apps & Products Fox News New Terms of Use New Privacy Policy Do Not Sell my Personal Information Closed Captioning Policy Help Contact Us This material may not be published, broadcast, rewritten,\n",
      "      or redistributed. ©2022 FOX News Network, LLC. All rights reserved.\n",
      "      Quotes displayed in real-time or delayed by at least 15 minutes. Market data provided by Factset . Powered and implemented by FactSet Digital Solutions . Legal Statement . Mutual Fund and ETF data provided by Refinitiv Lipper . Facebook Twitter Instagram RSS Email Opinion OPINION 1 day ago There is no more quintessential American story universe than Star Trek. AP OPINION 2 days ago Recently, much attention has been focused on the Department of Homeland Security’s ill-conceived Disinformation Governance Board. And rightfully so. OPINION 1 day ago President Joe Biden’s approval ratings seem to keep dropping and dropping. As a Democrat who voted for the president, I cannot understand why. 6 hours ago There are millions of Americans who are deeply (and increasingly) unhappy with the current system 7 hours ago May 15th marks the two-year anniversary of President Donald Trump introducing Operation Warp Speed to the world by announcing that America would have millions of safe and effective vaccines delivered to its people before the end of 2020. 21 hours ago The Contract with America became famous because it was the centerpiece of the House Republican campaign, which won a majority for the first time in 40 years. 22 hours ago Robert C. \"Bud\" McFarlane passed away this week. 1 day ago There is no more quintessential American story universe than Star Trek. 1 day ago Greg Gutfeld talks about Patti LuPone's outburst on a Broadway stage over masks on \"Gutfeld!\" 1 day ago Fox News host Tucker Carlson gets to the bottom of the baby formula shortage on 'Tucker Carlson Tonight.' 1 day ago Drug cartels are now using SnapChat, Instagram, and other social media apps to recruit American teenagers from around the country to transport migrants and drugs from the border. 1 day ago President Joe Biden’s approval ratings seem to keep dropping and dropping. As a Democrat who voted for the president, I cannot understand why. 2 days ago The Biden administration has extended the \"pause\" on student loan payments for a sixth time. By the time the latest pause ends, those who took out student loans will have been able to go 30 months—two-and-a-half years—without making a single payment nor accruing any new interest. 2 days ago I haven’t been a dad for too long, but I can tell you one thing I’ve learned -- all the partisan bickering that’s so constant in our politics now seems like so much noise. 2 days ago Recently, much attention has been focused on the Department of Homeland Security’s ill-conceived Disinformation Governance Board. And rightfully so. 2 days ago As federal judges we stand on the frontline protecting democracy and the rule of law. We live in daily danger of retribution. 2 days ago Greg Gutfeld discusses the left's overuse of the word \"racist\" and the right's reaction to that on \"Gutfeld!\" 2 days ago Tucker Carlson voices his concerns about record-high inflation. 3 days ago Now more than ever, police should know that American politicians have their backs, just as they have ours. 3 days ago The Medicare for All Act of 2022, which I have just introduced with 15 co-sponsors, would provide comprehensive health care coverage to every man, woman and child in our country. 3 days ago Big business is no friend to conservatives—that’s been clear for years. And it’s increasingly no friend to America. 3 days ago Families are forced to compete with each other to find a necessity that was becoming alarmingly difficult to find. 3 days ago The NSBA addressed Joe Biden in a letter expressing American public schools are under an immediate threat due to mask mandates, CRT, gender ideology and more. 3 days ago Greg Gutfeld discusses on \"Gutfeld!\" the dangers of excessive social media use. 3 days ago Tucker Carlson shredded lawmakers for prioritizing helping Ukraine in light of problems in the United States on 'Tucker Carlson Tonight.' 3 days ago What would you do if you couldn’t feed your baby? This is a question parents across America are facing as the country continues to grapple with a baby formula shortage. 4 days ago Today, Communist China dominates the global active pharmaceutical ingredient (API) and precursor chemicals, antibiotics, and vitamin markets, leaving patients and policymakers—or even trained pharmacists like me—with very little visibility into the messy supply chain of essential medicines. 4 days ago The strangest thing about the debate over parents’ roles and rights in their children’s education is that there is a debate at all. Show More 4 days ago At the end of April, the U.S. Food and Drug Administration announced its proposal to ban menthol tobacco products. The target of the proposal is menthol cigarettes which are the most common choice of Black smokers. 4 days ago Greg Gutfeld discusses on \"Gutfeld!\" the new White House press secretary. 4 days ago Fox News host Tucker Carlson reveals why Karine Jean-Pierre is perfect for her new job as White House press secretary on 'Tucker Carlson Tonight.' 4 days ago Irony doesn't begin to explain why pro-choice activists chose Mother's Day weekend to picket the homes of Justice Brett Kavanaugh and Chief Justice John Roberts, who appear ready to overturn Roe v. Wade. 4 days ago Competent leadership is difficult to come by these days, but there is an appalling lack of it in the Biden administration. Show More 2 days ago 3 days ago 2 days ago 2 days ago 3 days ago 3 days ago 3 days ago 6 days ago May 8 Get the recap of top opinion commentary and original content throughout the week. Arrives Daily Subscribe Subscribed Subscribe You've successfully subscribed to this newsletter! 7:18 1 day ago 5:11 1 day ago 5:53 1 day ago 6:38 1 day ago Coronavirus U.S. Crime Military Education Terror Immigration Economy Personal Freedoms Fox News Investigates World U.N. Conflicts Terrorism Disasters Global Economy Environment Religion Scandals Opinion Politics Executive Senate House Judiciary Foreign Policy Polls Elections Entertainment Celebrity News Movies TV News Music News Style News Entertainment Video Business Personal Finance Economy Markets Watchlist Lifestyle Real Estate Tech Lifestyle Food + Drink Cars + Trucks Travel + Outdoors House + Home Fitness + Well-being Style + Beauty Family Faith Science Archaeology Air & Space Planet Earth Wild Nature Natural Science Dinosaurs Tech Security Innovation Drones Computers Video Games Military Tech Health Coronavirus Healthy Living Medical Research Mental Health Cancer Heart Health Children's Health TV Shows Personalities Watch Live Full Episodes Show Clips News Clips About Contact Us Careers Fox Around the World Advertise With Us Media Relations Corporate Information Compliance Supplier Diversity Other Fox Weather Fox Nation Fox News Shop Fox News Go Fox News Radio Newsletters Podcasts Apps & Products Facebook Twitter Instagram Youtube Flipboard LinkedIn Slack RSS Newsletters Spotify iHeartRadio Fox News New Terms of Use New Privacy Policy Do Not Sell my Personal Information Closed Captioning Policy Help Contact Us Accessibility Statement This material may not be published, broadcast, rewritten, or redistributed. ©2022 FOX News Network, LLC. All rights reserved. Quotes displayed in real-time or delayed by at least 15 minutes. Market data provided by Factset . Powered and implemented by FactSet Digital Solutions . Legal Statement . Mutual Fund and ETF data provided by Refinitiv Lipper .\n"
     ]
    }
   ],
   "source": [
    "fox_url = 'https://www.foxnews.com/us'\n",
    "fox_url2 = 'https://www.foxnews.com/politics'\n",
    "fox_url3 = 'https://www.foxnews.com/opinion'\n",
    "\n",
    "# Page content from Website URL\n",
    "page = requests.get(fox_url)\n",
    "page2 = requests.get(fox_url2)\n",
    "page3 = requests.get(fox_url3)\n",
    "\n",
    "# Function to remove tags\n",
    "def remove_tags(html):\n",
    "\n",
    "    # parse html content\n",
    "    soup = BeautifulSoup(html, \"html.parser\")\n",
    "    soup.encode(\"utf-8\")\n",
    "\n",
    "    for data in soup(['h2','h3', 'h4']):\n",
    "        # Remove tags\n",
    "        data.decompose()\n",
    "\n",
    "    # return data by retrieving the tag content\n",
    "    return ' '.join(soup.stripped_strings)\n",
    "\n",
    "\n",
    "# Print the extracted data\n",
    "print(remove_tags(page.content))\n",
    "print(remove_tags(page2.content))\n",
    "print(remove_tags(page3.content))"
   ]
  },
  {
   "cell_type": "code",
   "execution_count": 164,
   "metadata": {
    "colab": {
     "base_uri": "https://localhost:8080/"
    },
    "id": "ePo_AIXvlOf3",
    "outputId": "567d5149-d222-4cb4-c4c6-7d210598bb81",
    "pycharm": {
     "name": "#%%\n"
    }
   },
   "outputs": [
    {
     "data": {
      "text/plain": [
       "str"
      ]
     },
     "execution_count": 164,
     "metadata": {},
     "output_type": "execute_result"
    }
   ],
   "source": [
    "fox_data = remove_tags(page.content)\n",
    "fox_data2 = remove_tags(page2.content)\n",
    "fox_data3 = remove_tags(page3.content)\n",
    "type(fox_data)"
   ]
  },
  {
   "cell_type": "markdown",
   "metadata": {
    "id": "jmUyr_v6lOf3"
   },
   "source": [
    "### CNN Headlines"
   ]
  },
  {
   "cell_type": "code",
   "execution_count": 165,
   "metadata": {
    "id": "E0Q_B389lOf4",
    "pycharm": {
     "name": "#%%\n"
    }
   },
   "outputs": [],
   "source": [
    "from datetime import date\n",
    "today = date.today()\n",
    "d = today.strftime(\"%m-%d-%y\")"
   ]
  },
  {
   "cell_type": "code",
   "execution_count": 166,
   "metadata": {
    "id": "ADC1hQe2lOf4",
    "pycharm": {
     "name": "#%%\n"
    }
   },
   "outputs": [],
   "source": [
    "cnn_url = \"https://www.cnn.com/us\".format(d)\n",
    "cnn_url2 = \"https://www.cnn.com/politics\".format(d)\n",
    "cnn_url3 = \"https://www.cnn.com/health\".format(d)\n",
    "\n",
    "\n",
    "# Page content from Website URL\n",
    "cnn_pg1 = requests.get(cnn_url)\n",
    "cnn_pg2 = requests.get(cnn_url2)\n",
    "cnn_pg3 = requests.get(cnn_url3)\n",
    "\n",
    "cnn_data = remove_tags(cnn_pg1.content)\n",
    "cnn_data2 = remove_tags(cnn_pg2.content)\n",
    "cnn_data3 = remove_tags(cnn_pg3.content)"
   ]
  },
  {
   "cell_type": "markdown",
   "metadata": {
    "id": "5QNk07RjlOf5"
   },
   "source": [
    "### NBC Headlines"
   ]
  },
  {
   "cell_type": "code",
   "execution_count": 167,
   "metadata": {
    "id": "00xXwt6nlOf5",
    "pycharm": {
     "name": "#%%\n"
    }
   },
   "outputs": [],
   "source": [
    "nbc_url = 'https://www.nbcnews.com/us-news'\n",
    "nbc_url2 = 'https://www.nbcnews.com/politics'\n",
    "nbc_url3 = 'https://www.nbcnews.com/investigations'\n",
    "\n",
    "# Page content from Website URL\n",
    "nbc_pg1 = requests.get(nbc_url)\n",
    "nbc_pg2 = requests.get(nbc_url2)\n",
    "nbc_pg3 = requests.get(nbc_url3)\n",
    "\n",
    "nbc_data = remove_tags(nbc_pg1.content)\n",
    "nbc_data2 = remove_tags(nbc_pg2.content)\n",
    "nbc_data3 = remove_tags(nbc_pg3.content)"
   ]
  },
  {
   "cell_type": "markdown",
   "metadata": {
    "id": "1Oerl3_HlOf6"
   },
   "source": [
    "### NYT Headlines"
   ]
  },
  {
   "cell_type": "code",
   "execution_count": 168,
   "metadata": {
    "id": "Pz4OFwWalOf6",
    "pycharm": {
     "name": "#%%\n"
    }
   },
   "outputs": [],
   "source": [
    "nyt_url = 'https://www.nytimes.com/section/us'\n",
    "nyt_url2 = 'https://www.nytimes.com/section/politics'\n",
    "nyt_url3 = 'https://www.nytimes.com/section/opinion'\n",
    "\n",
    "# Page content from Website URL\n",
    "nyt_pg1 = requests.get(nyt_url)\n",
    "nyt_pg2 = requests.get(nyt_url2)\n",
    "nyt_pg3 = requests.get(nyt_url3)\n",
    "\n",
    "nyt_data = remove_tags(nyt_pg1.content)\n",
    "nyt_data2 = remove_tags(nyt_pg2.content)\n",
    "nyt_data3 = remove_tags(nyt_pg3.content)"
   ]
  },
  {
   "cell_type": "markdown",
   "metadata": {
    "id": "1vDM6_jClOf7"
   },
   "source": [
    "### Wallstreet Journal Headlines"
   ]
  },
  {
   "cell_type": "code",
   "execution_count": 169,
   "metadata": {
    "id": "DMrWdylhlOf7",
    "pycharm": {
     "name": "#%%\n"
    }
   },
   "outputs": [],
   "source": [
    "twsj_url = 'https://www.wsj.com/news/us?mod=nav_top_section'\n",
    "twsj_url2 = 'https://www.wsj.com/news/politics?mod=nav_left_section'\n",
    "twsj_url3 = 'https://www.wsj.com/news/opinion?mod=nav_left_section'\n",
    "\n",
    "# Page content from Website URL\n",
    "wsj_pg1 = requests.get(twsj_url)\n",
    "wsj_pg2 = requests.get(twsj_url2)\n",
    "wsj_pg3 = requests.get(twsj_url3)\n",
    "\n",
    "twsj_data = remove_tags(wsj_pg1.content)\n",
    "twsj_data2 = remove_tags(wsj_pg2.content)\n",
    "twsj_data3 = remove_tags(wsj_pg3.content)"
   ]
  },
  {
   "cell_type": "markdown",
   "metadata": {
    "id": "GeePyRJGlOf8"
   },
   "source": [
    "### The Boston Glove Headlines"
   ]
  },
  {
   "cell_type": "code",
   "execution_count": 170,
   "metadata": {
    "id": "pXt6PTMYlOf8",
    "pycharm": {
     "name": "#%%\n"
    }
   },
   "outputs": [],
   "source": [
    "boston_url = 'https://www.bostonglobe.com/?refresh=true'\n",
    "boston_url2 = 'https://www.bostonglobe.com/metro/politics/?p1=BGMenu_Sections'\n",
    "boston_url3 = 'https://www.bostonglobe.com/metro/education/k-12/education-project/?p1=BGMenu_Sections'\n",
    "\n",
    "# Page content from Website URL\n",
    "boston_pg1 = requests.get(boston_url)\n",
    "boston_pg2 = requests.get(boston_url2)\n",
    "boston_pg3 = requests.get(boston_url3)\n",
    "\n",
    "bos_data1 = remove_tags(boston_pg1.content)\n",
    "bos_data2 = remove_tags(boston_pg2.content)\n",
    "bos_data3 = remove_tags(boston_pg3.content)"
   ]
  },
  {
   "cell_type": "markdown",
   "metadata": {
    "id": "9dHq3phMlOf8"
   },
   "source": [
    "### The Chicago Tribune Headlines"
   ]
  },
  {
   "cell_type": "code",
   "execution_count": 171,
   "metadata": {
    "id": "-dr0YgxYlOf9",
    "pycharm": {
     "name": "#%%\n"
    }
   },
   "outputs": [],
   "source": [
    "chicago_url = 'https://www.chicagotribune.com/'\n",
    "chicago_url2 = 'https://www.chicagotribune.com/politics/'\n",
    "chicago_url3 = 'https://www.chicagotribune.com/columns/'\n",
    "\n",
    "# Page content from Website URL\n",
    "chicago_pg1 = requests.get(chicago_url)\n",
    "chicago_pg2 = requests.get(chicago_url2)\n",
    "chicago_pg3 = requests.get(chicago_url3)\n",
    "\n",
    "ord_data = remove_tags(chicago_pg1.content)\n",
    "ord_data2 = remove_tags(chicago_pg2.content)\n",
    "ord_data3 = remove_tags(chicago_pg3.content)"
   ]
  },
  {
   "cell_type": "markdown",
   "metadata": {
    "id": "znqTk26MlOf9"
   },
   "source": [
    "### The Washington Post Headlines"
   ]
  },
  {
   "cell_type": "code",
   "execution_count": 172,
   "metadata": {
    "id": "2D2_DFHFlOf9",
    "pycharm": {
     "name": "#%%\n"
    }
   },
   "outputs": [],
   "source": [
    "wapost_url = 'https://www.washingtonpost.com/?reload=true&_=1647990066652'\n",
    "wapost_url2 = 'https://www.washingtonpost.com/politics/?itid=nb_politics'\n",
    "wapost_url3 = 'https://www.washingtonpost.com/local/?itid=nb_dc-md-and-va'\n",
    "\n",
    "wapost_pg1 = requests.get(wapost_url)\n",
    "wapost_pg2 = requests.get(wapost_url2)\n",
    "wapost_pg3 = requests.get(wapost_url3)\n",
    "\n",
    "wapost_data = remove_tags(wapost_pg1.content)\n",
    "wapost_data2 = remove_tags(wapost_pg2.content)\n",
    "wapost_data3 = remove_tags(wapost_pg3.content)"
   ]
  },
  {
   "cell_type": "markdown",
   "metadata": {
    "id": "AiolBUdVlOf-"
   },
   "source": [
    "### NY Post Headlines"
   ]
  },
  {
   "cell_type": "code",
   "execution_count": 173,
   "metadata": {
    "id": "PpPvuJaplOf-",
    "pycharm": {
     "name": "#%%\n"
    }
   },
   "outputs": [],
   "source": [
    "nypost_url = 'https://nypost.com/'\n",
    "nypost_url2 = 'https://nypost.com/news/'\n",
    "nypost_url3 = 'https://nypost.com/opinion/'\n",
    "\n",
    "nypost_pg1 = requests.get(nypost_url)\n",
    "nypost_pg2 = requests.get(nypost_url2)\n",
    "nypost_pg3 = requests.get(nypost_url3)\n",
    "\n",
    "nypost_data = remove_tags(nypost_pg1.content)\n",
    "nypost_data2 = remove_tags(nypost_pg2.content)\n",
    "nypost_data3 = remove_tags(nypost_pg3.content)"
   ]
  },
  {
   "cell_type": "markdown",
   "metadata": {
    "id": "Vts_70iYlOf_",
    "pycharm": {
     "name": "#%% md\n"
    }
   },
   "source": [
    "## Corpus Creation"
   ]
  },
  {
   "cell_type": "code",
   "execution_count": 174,
   "metadata": {
    "id": "QsW0Y_-olOf_",
    "pycharm": {
     "name": "#%%\n"
    }
   },
   "outputs": [],
   "source": [
    "cnn_corpus = cnn_data + cnn_data2 + cnn_data3 \n",
    "nbc_corpus= nbc_data + nbc_data2 + nbc_data3 \n",
    "nuyt_corpus= nyt_data + nyt_data2 + nyt_data3 \n",
    "twsj_corpus=twsj_data + twsj_data2 + twsj_data3 \n",
    "bos_corpus =  bos_data1+ bos_data2 + bos_data3\n",
    "ord_corpus= ord_data + ord_data2 + ord_data3 \n",
    "wapost_corpus= wapost_data + wapost_data2 + wapost_data3 \n",
    "nypost_corpus = nypost_data + nypost_data2 + nypost_data3 \n",
    "fox_corpus= fox_data + fox_data2 + fox_data3"
   ]
  },
  {
   "cell_type": "code",
   "execution_count": 175,
   "metadata": {
    "colab": {
     "base_uri": "https://localhost:8080/"
    },
    "id": "3vvD6z9klOf_",
    "outputId": "cbe284a5-ecdb-468a-ad47-ef41eae3b714",
    "pycharm": {
     "name": "#%%\n"
    }
   },
   "outputs": [],
   "source": [
    "file = open(\"cnn_corpus.txt\", \"w\", encoding='utf-8')\n",
    "file.write(cnn_corpus)\n",
    "file.close()"
   ]
  },
  {
   "cell_type": "markdown",
   "metadata": {
    "id": "Qd5wxsZGlOgA",
    "pycharm": {
     "name": "#%% md\n"
    }
   },
   "source": [
    "# Text Cleaning for NLP\n",
    "\n",
    "Split 4 of the news outlets articles in order to perfrom sentiment analysis by headline."
   ]
  },
  {
   "cell_type": "code",
   "execution_count": 176,
   "metadata": {
    "id": "DKTX1d4glOgA",
    "pycharm": {
     "name": "#%%\n"
    }
   },
   "outputs": [],
   "source": [
    "# import csv\n",
    "\n",
    "fox = fox_corpus.split(\" ago\")\n",
    "nbc = nbc_corpus.split(\" ago\")\n",
    "nyt = nuyt_corpus.split(\" By \")\n",
    "nypost = nypost_corpus.split(\". \")\n",
    "\n",
    "#delete headers for each corpus\n",
    "\n",
    "del fox[0]\n",
    "del nbc[0]\n",
    "del nyt[0]\n",
    "del nypost[0]\n",
    "\n",
    "\n",
    "\n"
   ]
  },
  {
   "cell_type": "markdown",
   "metadata": {
    "id": "GCgQLXoYlOgB"
   },
   "source": [
    "Sentiment Analysis for each headline in each of the 4 corpus in each news outlet."
   ]
  },
  {
   "cell_type": "markdown",
   "metadata": {
    "colab": {
     "base_uri": "https://localhost:8080/",
     "height": 123
    },
    "id": "SGv40weUlOgB",
    "outputId": "fa399fd2-e6de-4d4e-b890-1fe7fa6b388e",
    "pycharm": {
     "name": "#%%\n"
    }
   },
   "source": [
    "https://www.analyticsvidhya.com/blog/2021/11/web-scraping-a-news-article-and-performing-sentiment-analysis-using-nlp/"
   ]
  },
  {
   "cell_type": "code",
   "execution_count": 178,
   "metadata": {},
   "outputs": [],
   "source": [
    "import requests\n",
    "import nltk\n",
    "from bs4 import BeautifulSoup\n",
    "import numpy as np \n",
    "import pandas as pd \n",
    "import seaborn as sns\n",
    "import matplotlib.pyplot as plt\n",
    "%matplotlib inline\n",
    "import random\n",
    "\n",
    "from wordcloud import WordCloud\n",
    "import os\n",
    "import spacy\n",
    "\n",
    "from textblob import TextBlob\n",
    "\n",
    "\n",
    "\n",
    "#from pattern.en import sentiment\n",
    "\n",
    "tbs_nyt=[]\n",
    "for s in nyt:\n",
    "    txt= TextBlob(s)\n",
    "    a= txt.sentiment.polarity\n",
    "    b= txt.sentiment.subjectivity\n",
    "    tbs_nyt.append([s,a,b])\n",
    "    \n",
    "tbs_nypost=[]\n",
    "for s in nypost:\n",
    "    txt= TextBlob(s)\n",
    "    a= txt.sentiment.polarity\n",
    "    b= txt.sentiment.subjectivity\n",
    "    tbs_nypost.append([s,a,b])\n",
    "\n",
    "tbs_nbc=[]\n",
    "for s in nbc:\n",
    "    txt= TextBlob(s)\n",
    "    a= txt.sentiment.polarity\n",
    "    b= txt.sentiment.subjectivity\n",
    "    tbs_nbc.append([s,a,b])\n",
    "\n",
    "tbs_fox=[]\n",
    "for s in fox:\n",
    "    txt= TextBlob(s)\n",
    "    a= txt.sentiment.polarity\n",
    "    b= txt.sentiment.subjectivity\n",
    "    tbs_fox.append([s,a,b])\n",
    "    \n",
    "df_textblob_nyt = pd.DataFrame(tbs_nyt, columns =['Sentence', 'Polarity', 'Subjectivity'])\n",
    "df_textblob_nypost = pd.DataFrame(tbs_nypost, columns =['Sentence', 'Polarity', 'Subjectivity'])\n",
    "df_textblob_nbc = pd.DataFrame(tbs_nbc, columns =['Sentence', 'Polarity', 'Subjectivity'])\n",
    "df_textblob_fox = pd.DataFrame(tbs_fox, columns =['Sentence', 'Polarity', 'Subjectivity'])"
   ]
  },
  {
   "cell_type": "markdown",
   "metadata": {},
   "source": [
    "# Subjectivity and Polarity in Fox, NBC, New York Times and NY Post Headlines\n",
    "\n",
    "Polarity is float which lies in the range of [-1,1] where 1 means positive statement and -1 means a negative statement. Subjective sentences generally refer to personal opinion, emotion or judgment whereas objective refers to factual information. Subjectivity is also a float which lies in the range of [0,1]\n",
    "\n",
    "https://www.analyticsvidhya.com/blog/2018/02/natural-language-processing-for-beginners-using-textblob/#:~:text=3.6%20Sentiment%20Analysis&text=Polarity%20is%20float%20which%20lies,objective%20refers%20to%20factual%20information.\n",
    "\n",
    "\n",
    "We can see in the plots below that Fox and NY Post have greater extremes in both subjectivity and Polarity of their headlines. They both have polarity of -0.5 or less and 0.5 or greater and subjectivity reaching 1. New York Times also has high positive polarity in some cases but not the subjectivity extremes. Fox and NYT have subjectivity ratings above 0.8 indicating those headlines are rooted in opinion not fact. However NBC and NYT typically have more somehwat subjective articles then the other 2 outlets All 4 news outlets have the majority of their polarity of headlines as slightly positive and low subjectivity."
   ]
  },
  {
   "cell_type": "code",
   "execution_count": 181,
   "metadata": {},
   "outputs": [
    {
     "data": {
      "text/plain": [
       "Text(0.5, 1.0, 'NY Post Polarity')"
      ]
     },
     "execution_count": 181,
     "metadata": {},
     "output_type": "execute_result"
    },
    {
     "data": {
      "image/png": "[encoded data removed]",
      "text/plain": [
       "<Figure size 648x360 with 1 Axes>"
      ]
     },
     "metadata": {
      "needs_background": "light"
     },
     "output_type": "display_data"
    },
    {
     "data": {
      "image/png": "[encoded data removed]",
      "text/plain": [
       "<Figure size 648x360 with 1 Axes>"
      ]
     },
     "metadata": {
      "needs_background": "light"
     },
     "output_type": "display_data"
    },
    {
     "data": {
      "image/png": "[encoded data removed]",
      "text/plain": [
       "<Figure size 648x360 with 1 Axes>"
      ]
     },
     "metadata": {
      "needs_background": "light"
     },
     "output_type": "display_data"
    },
    {
     "data": {
      "image/png": "[encoded data removed]",
      "text/plain": [
       "<Figure size 648x360 with 1 Axes>"
      ]
     },
     "metadata": {
      "needs_background": "light"
     },
     "output_type": "display_data"
    }
   ],
   "source": [
    "sns.displot(df_textblob_fox[\"Polarity\"], height= 5, aspect=1.8)\n",
    "plt.xlabel(\"Sentence Polarity (Textblob)\")\n",
    "plt.title(\"Fox Polarity\")\n",
    "\n",
    "sns.displot(df_textblob_nbc[\"Polarity\"], height= 5, aspect=1.8)\n",
    "plt.xlabel(\"Sentence Polarity (Textblob)\")\n",
    "plt.title(\"NBC Polarity\")\n",
    "\n",
    "sns.displot(df_textblob_nyt[\"Polarity\"], height= 5, aspect=1.8)\n",
    "plt.xlabel(\"Sentence Polarity (Textblob)\")\n",
    "plt.title(\"NYT Polarity\")\n",
    "\n",
    "sns.displot(df_textblob_nypost[\"Polarity\"], height= 5, aspect=1.8)\n",
    "plt.xlabel(\"Sentence Polarity (Textblob)\")\n",
    "plt.title(\"NY Post Polarity\")"
   ]
  },
  {
   "cell_type": "code",
   "execution_count": 182,
   "metadata": {},
   "outputs": [
    {
     "data": {
      "text/plain": [
       "Text(0.5, 1.0, 'NY Post Subjectivity')"
      ]
     },
     "execution_count": 182,
     "metadata": {},
     "output_type": "execute_result"
    },
    {
     "data": {
      "image/png": "[encoded data removed]",
      "text/plain": [
       "<Figure size 648x360 with 1 Axes>"
      ]
     },
     "metadata": {
      "needs_background": "light"
     },
     "output_type": "display_data"
    },
    {
     "data": {
      "image/png": "[encoded data removed]",
      "text/plain": [
       "<Figure size 648x360 with 1 Axes>"
      ]
     },
     "metadata": {
      "needs_background": "light"
     },
     "output_type": "display_data"
    },
    {
     "data": {
      "image/png": "[encoded data removed]",
      "text/plain": [
       "<Figure size 648x360 with 1 Axes>"
      ]
     },
     "metadata": {
      "needs_background": "light"
     },
     "output_type": "display_data"
    },
    {
     "data": {
      "image/png": "[encoded data removed]",
      "text/plain": [
       "<Figure size 648x360 with 1 Axes>"
      ]
     },
     "metadata": {
      "needs_background": "light"
     },
     "output_type": "display_data"
    }
   ],
   "source": [
    "sns.displot(df_textblob_fox[\"Subjectivity\"], height= 5, aspect=1.8)\n",
    "plt.xlabel(\"Sentence Subjectivity (Textblob)\")\n",
    "plt.title(\"Fox Subjectivity\")\n",
    "\n",
    "sns.displot(df_textblob_nbc[\"Subjectivity\"], height= 5, aspect=1.8)\n",
    "plt.xlabel(\"Sentence Subjectivity (Textblob)\")\n",
    "plt.title(\"NBC Subjectivity\")\n",
    "\n",
    "sns.displot(df_textblob_nyt[\"Subjectivity\"], height= 5, aspect=1.8)\n",
    "plt.xlabel(\"Sentence Subjectivity (Textblob)\")\n",
    "plt.title(\"NYT Subjectivity\")\n",
    "\n",
    "sns.displot(df_textblob_nypost[\"Subjectivity\"], height= 5, aspect=1.8)\n",
    "plt.xlabel(\"Sentence Subjectivity (Textblob)\")\n",
    "plt.title(\"NY Post Subjectivity\")"
   ]
  },
  {
   "cell_type": "code",
   "execution_count": 203,
   "metadata": {},
   "outputs": [
    {
     "name": "stderr",
     "output_type": "stream",
     "text": [
      "/Users/adamgersowitz/opt/anaconda3/lib/python3.8/site-packages/pandas/core/frame.py:3065: SettingWithCopyWarning: \n",
      "A value is trying to be set on a copy of a slice from a DataFrame.\n",
      "Try using .loc[row_indexer,col_indexer] = value instead\n",
      "\n",
      "See the caveats in the documentation: https://pandas.pydata.org/pandas-docs/stable/user_guide/indexing.html#returning-a-view-versus-a-copy\n",
      "  self[k1] = value[k2]\n"
     ]
    }
   ],
   "source": [
    "cols = ['Subjectivity','Polarity']\n",
    "df_textblob_fox[cols] = df_textblob_fox[df_textblob_fox[cols] > 0][cols]\n",
    "df_textblob_fox=df_textblob_fox.dropna()\n",
    "\n",
    "df_textblob_nbc[cols] = df_textblob_nbc[df_textblob_nbc[cols] > 0][cols]\n",
    "df_textblob_nbc=df_textblob_nbc.dropna()\n",
    "\n",
    "df_textblob_nyt[cols] = df_textblob_nyt[df_textblob_nyt[cols] > 0][cols]\n",
    "df_textblob_nyt=df_textblob_nyt.dropna()\n",
    "\n",
    "df_textblob_nypost[cols] = df_textblob_nypost[df_textblob_nypost[cols] > 0][cols]\n",
    "df_textblob_nypost=df_textblob_nypost.dropna()\n",
    "\n",
    "df_textblob_fox['SOURCE']='FOX'\n",
    "df_textblob_nbc['SOURCE']='NBC'\n",
    "df_textblob_nyt['SOURCE']='NYT'\n",
    "df_textblob_nypost['SOURCE']='NY Post'\n",
    "\n",
    "\n",
    "\n",
    "df_textblob_fox['Sentence']=df_textblob_fox['Sentence'].str.upper()\n",
    "df_textblob_nbc['Sentence']=df_textblob_nbc['Sentence'].str.upper()\n",
    "df_textblob_nyt['Sentence']=df_textblob_nyt['Sentence'].str.upper()\n",
    "df_textblob_nypost['Sentence']=df_textblob_nypost['Sentence'].str.upper()\n",
    "\n",
    "\n",
    "\n",
    "fox_trump=df_textblob_fox[df_textblob_fox['Sentence'].str.contains(\"TRUMP\")]\n",
    "nbc_trump=df_textblob_nbc[df_textblob_nbc['Sentence'].str.contains(\"TRUMP\")]\n",
    "nyt_trump=df_textblob_nyt[df_textblob_nyt['Sentence'].str.contains(\"TRUMP\")]\n",
    "nyp_trump=df_textblob_nypost[df_textblob_nypost['Sentence'].str.contains(\"TRUMP\")]\n",
    "\n",
    "\n",
    "fox_biden=df_textblob_fox[df_textblob_fox['Sentence'].str.contains(\"BIDEN\")]\n",
    "nbc_biden=df_textblob_nbc[df_textblob_nbc['Sentence'].str.contains(\"BIDEN\")]\n",
    "nyt_biden=df_textblob_nyt[df_textblob_nyt['Sentence'].str.contains(\"BIDEN\")]\n",
    "nyp_biden=df_textblob_nypost[df_textblob_nypost['Sentence'].str.contains(\"BIDEN\")]\n",
    "\n",
    "fox_dem=df_textblob_fox[df_textblob_fox['Sentence'].str.contains(\"DEMOCRAT\")]\n",
    "nbc_dem=df_textblob_nbc[df_textblob_nbc['Sentence'].str.contains(\"DEMOCRAT\")]\n",
    "nyt_dem=df_textblob_nyt[df_textblob_nyt['Sentence'].str.contains(\"DEMOCRAT\")]\n",
    "nyp_dem=df_textblob_nypost[df_textblob_nypost['Sentence'].str.contains(\"DEMOCRAT\")]\n",
    "\n",
    "fox_rep=df_textblob_fox[df_textblob_fox['Sentence'].str.contains(\"REPUBLICAN\")]\n",
    "nbc_rep=df_textblob_nbc[df_textblob_nbc['Sentence'].str.contains(\"REPUBLICAN\")]\n",
    "nyt_rep=df_textblob_nyt[df_textblob_nyt['Sentence'].str.contains(\"REPUBLICAN\")]\n",
    "nyp_rep=df_textblob_nypost[df_textblob_nypost['Sentence'].str.contains(\"REPUBLICAN\")]\n",
    "\n",
    "fox_roe=df_textblob_fox[df_textblob_fox['Sentence'].str.contains(\"ROE \")]\n",
    "nbc_roe=df_textblob_nbc[df_textblob_nbc['Sentence'].str.contains(\"ROE \")]\n",
    "nyt_roe=df_textblob_nyt[df_textblob_nyt['Sentence'].str.contains(\"ROE \")]\n",
    "nyp_roe=df_textblob_nypost[df_textblob_nypost['Sentence'].str.contains(\"ROE \")]\n",
    "\n",
    "fox_trans=df_textblob_fox[df_textblob_fox['Sentence'].str.contains(\"TRANSGENDER\")]\n",
    "nbc_trans=df_textblob_nbc[df_textblob_nbc['Sentence'].str.contains(\"TRANSGENDER\")]\n",
    "nyt_trans=df_textblob_nyt[df_textblob_nyt['Sentence'].str.contains(\"TRANSGENDER\")]\n",
    "nyp_trans=df_textblob_nypost[df_textblob_nypost['Sentence'].str.contains(\"TRANSGENDER\")]\n",
    "\n",
    "\n",
    "fox_cc=df_textblob_fox[df_textblob_fox['Sentence'].str.contains(\"CLIMATE CHANGE\")]\n",
    "nbc_cc=df_textblob_nbc[df_textblob_nbc['Sentence'].str.contains(\"CLIMATE CHANGE\")]\n",
    "nyt_cc=df_textblob_nyt[df_textblob_nyt['Sentence'].str.contains(\"CLIMATE CHANGE\")]\n",
    "nyp_cc=df_textblob_nypost[df_textblob_nypost['Sentence'].str.contains(\"CLIMATE CHANGE\")]\n",
    "\n",
    "fox_covid=df_textblob_fox[df_textblob_fox['Sentence'].str.contains(\"COVID\")]\n",
    "nbc_covid=df_textblob_nbc[df_textblob_nbc['Sentence'].str.contains(\"COVID\")]\n",
    "nyt_covid=df_textblob_nyt[df_textblob_nyt['Sentence'].str.contains(\"COVID\")]\n",
    "nyp_covid=df_textblob_nypost[df_textblob_nypost['Sentence'].str.contains(\"COVID\")]\n",
    "\n",
    "fox_mask=df_textblob_fox[df_textblob_fox['Sentence'].str.contains(\"MASK\")]\n",
    "nbc_mask=df_textblob_nbc[df_textblob_nbc['Sentence'].str.contains(\"MASK\")]\n",
    "nyt_mask=df_textblob_nyt[df_textblob_nyt['Sentence'].str.contains(\"MASK\")]\n",
    "nyp_mask=df_textblob_nypost[df_textblob_nypost['Sentence'].str.contains(\"MASK\")]\n",
    "\n",
    "fox_vax=df_textblob_fox[df_textblob_fox['Sentence'].str.contains(\"VACCIN\")]\n",
    "nbc_vax=df_textblob_nbc[df_textblob_nbc['Sentence'].str.contains(\"VACCIN\")]\n",
    "nyt_vax=df_textblob_nyt[df_textblob_nyt['Sentence'].str.contains(\"VACCIN\")]\n",
    "nyp_vax=df_textblob_nypost[df_textblob_nypost['Sentence'].str.contains(\"VACCIN\")]\n",
    "\n",
    "fox_cdc=df_textblob_fox[df_textblob_fox['Sentence'].str.contains(\"CDC\")]\n",
    "nbc_cdc=df_textblob_nbc[df_textblob_nbc['Sentence'].str.contains(\"CDC\")]\n",
    "nyt_cdc=df_textblob_nyt[df_textblob_nyt['Sentence'].str.contains(\"CDC\")]\n",
    "nyp_cdc=df_textblob_nypost[df_textblob_nypost['Sentence'].str.contains(\"CDC\")]\n",
    "\n",
    "fox_fauci=df_textblob_fox[df_textblob_fox['Sentence'].str.contains(\"FAUCI\")]\n",
    "nbc_fauci=df_textblob_nbc[df_textblob_nbc['Sentence'].str.contains(\"FAUCI\")]\n",
    "nyt_fauci=df_textblob_nyt[df_textblob_nyt['Sentence'].str.contains(\"FAUCI\")]\n",
    "nyp_fauci=df_textblob_nypost[df_textblob_nypost['Sentence'].str.contains(\"FAUCI\")]\n",
    "\n",
    "\n",
    "\n",
    "\n",
    "\n"
   ]
  },
  {
   "cell_type": "code",
   "execution_count": 248,
   "metadata": {},
   "outputs": [
    {
     "data": {
      "text/html": [
       "<div>\n",
       "<style scoped>\n",
       "    .dataframe tbody tr th:only-of-type {\n",
       "        vertical-align: middle;\n",
       "    }\n",
       "\n",
       "    .dataframe tbody tr th {\n",
       "        vertical-align: top;\n",
       "    }\n",
       "\n",
       "    .dataframe thead th {\n",
       "        text-align: right;\n",
       "    }\n",
       "</style>\n",
       "<table border=\"1\" class=\"dataframe\">\n",
       "  <thead>\n",
       "    <tr style=\"text-align: right;\">\n",
       "      <th></th>\n",
       "      <th>Sentence</th>\n",
       "      <th>Polarity</th>\n",
       "      <th>Subjectivity</th>\n",
       "      <th>SOURCE</th>\n",
       "      <th>TOPIC</th>\n",
       "    </tr>\n",
       "  </thead>\n",
       "  <tbody>\n",
       "    <tr>\n",
       "      <th>90</th>\n",
       "      <td>REP. JIM JORDAN, R-OHIO., SAYS HE HAS EVIDENC...</td>\n",
       "      <td>0.050000</td>\n",
       "      <td>0.500000</td>\n",
       "      <td>FOX</td>\n",
       "      <td>COVID</td>\n",
       "    </tr>\n",
       "    <tr>\n",
       "      <th>10</th>\n",
       "      <td>HE DESCRIBED THE LEAK AS AN UNTHINKABLE BREAC...</td>\n",
       "      <td>0.127143</td>\n",
       "      <td>0.371429</td>\n",
       "      <td>NBC</td>\n",
       "      <td>COVID</td>\n",
       "    </tr>\n",
       "    <tr>\n",
       "      <th>21</th>\n",
       "      <td>BIDEN OFFICIALS, THOUGH, ARE DIGGING IN. \"THE...</td>\n",
       "      <td>0.059932</td>\n",
       "      <td>0.339817</td>\n",
       "      <td>NBC</td>\n",
       "      <td>COVID</td>\n",
       "    </tr>\n",
       "    <tr>\n",
       "      <th>0</th>\n",
       "      <td>RICHARD FAUSSET PHOTO CREDIT JOSH CHANEY FOR T...</td>\n",
       "      <td>0.176623</td>\n",
       "      <td>0.422078</td>\n",
       "      <td>NYT</td>\n",
       "      <td>COVID</td>\n",
       "    </tr>\n",
       "    <tr>\n",
       "      <th>126</th>\n",
       "      <td>THE NSBA ADDRESSED JOE BIDEN IN A LETTER EXPR...</td>\n",
       "      <td>0.093750</td>\n",
       "      <td>0.235417</td>\n",
       "      <td>FOX</td>\n",
       "      <td>MASK</td>\n",
       "    </tr>\n",
       "    <tr>\n",
       "      <th>108</th>\n",
       "      <td>MAY 15TH MARKS THE TWO-YEAR ANNIVERSARY OF PR...</td>\n",
       "      <td>0.550000</td>\n",
       "      <td>0.650000</td>\n",
       "      <td>FOX</td>\n",
       "      <td>VACCINE</td>\n",
       "    </tr>\n",
       "  </tbody>\n",
       "</table>\n",
       "</div>"
      ],
      "text/plain": [
       "                                              Sentence  Polarity  \\\n",
       "90    REP. JIM JORDAN, R-OHIO., SAYS HE HAS EVIDENC...  0.050000   \n",
       "10    HE DESCRIBED THE LEAK AS AN UNTHINKABLE BREAC...  0.127143   \n",
       "21    BIDEN OFFICIALS, THOUGH, ARE DIGGING IN. \"THE...  0.059932   \n",
       "0    RICHARD FAUSSET PHOTO CREDIT JOSH CHANEY FOR T...  0.176623   \n",
       "126   THE NSBA ADDRESSED JOE BIDEN IN A LETTER EXPR...  0.093750   \n",
       "108   MAY 15TH MARKS THE TWO-YEAR ANNIVERSARY OF PR...  0.550000   \n",
       "\n",
       "     Subjectivity SOURCE    TOPIC  \n",
       "90       0.500000    FOX    COVID  \n",
       "10       0.371429    NBC    COVID  \n",
       "21       0.339817    NBC    COVID  \n",
       "0        0.422078    NYT    COVID  \n",
       "126      0.235417    FOX     MASK  \n",
       "108      0.650000    FOX  VACCINE  "
      ]
     },
     "execution_count": 248,
     "metadata": {},
     "output_type": "execute_result"
    }
   ],
   "source": [
    "trump=fox_trump.append(nbc_trump.append(nyt_trump.append(nyp_trump)))\n",
    "trump['TOPIC']='TRUMP'\n",
    "\n",
    "biden=fox_biden.append(nbc_biden.append(nyt_biden.append(nyp_biden)))\n",
    "biden['TOPIC']='BIDEN'\n",
    "\n",
    "dem=fox_dem.append(nbc_dem.append(nyt_dem.append(nyp_dem)))\n",
    "dem['TOPIC']='DEMOCRAT'\n",
    "\n",
    "rep=fox_rep.append(nbc_rep.append(nyt_rep.append(nyp_rep)))\n",
    "rep['TOPIC']='REPUBLICAN'\n",
    "\n",
    "roe=fox_roe.append(nbc_roe.append(nyt_roe.append(nyp_roe)))\n",
    "roe['TOPIC']='ROE'\n",
    "\n",
    "trans=fox_trans.append(nbc_trans.append(nyt_trans.append(nyp_trans)))\n",
    "trans['TOPIC']='TRANSGENDER'\n",
    "\n",
    "cc=fox_cc.append(nbc_cc.append(nyt_cc.append(nyp_cc)))\n",
    "cc['TOPIC']='CLIMATE CHANGE'\n",
    "\n",
    "covid=fox_covid.append(nbc_covid.append(nyt_covid.append(nyp_covid)))\n",
    "covid['TOPIC']='COVID'\n",
    "\n",
    "mask=fox_mask.append(nbc_mask.append(nyt_mask.append(nyp_mask)))\n",
    "mask['TOPIC']='MASK'\n",
    "\n",
    "cdc=fox_cdc.append(nbc_cdc.append(nyt_cdc.append(nyp_cdc)))\n",
    "cdc['TOPIC']='CDC'\n",
    "\n",
    "vax=fox_vax.append(nbc_vax.append(nyt_vax.append(nyp_vax)))\n",
    "vax['TOPIC']='VACCINE'\n",
    "\n",
    "fauci=fox_fauci.append(nbc_fauci.append(nyt_fauci.append(nyp_fauci)))\n",
    "fauci['TOPIC']='FAUCI'\n",
    "\n",
    "\n",
    "sentiment = trump.append(biden)\n",
    "\n",
    "\n",
    "sentiment2=rep.append(dem)\n",
    "\n",
    "\n",
    "\n"
   ]
  },
  {
   "cell_type": "markdown",
   "metadata": {},
   "source": [
    "# Plotting Sentiment on Presdential Names, Political Party and Row vs Wade\n",
    "\n",
    "Below we will plot the subjectivity and polarity of headlines that had the phrases Biden or Trump in the first plot, and headlines that were focused on Roe vs Wade in the second.\n",
    "\n",
    "In both cases the further to the right on the x-axis the more positive the sentiment and the higher up on the y axis the more subjective the sentiment. Being in the lower left of the plot indicates the news outlet is being more objective and neutral when having headlines with these key words. \n",
    "\n",
    "We can see a similar pattern to what we discoviered above in the first plot. Both Fox and the NY Post tend to have more extremes in both polarity and subjectivity when discussing presidents while the New York Times is notable for not having any plots of plarity greater than .25 or subjectivity greater than 0.6.\n",
    "\n",
    "Interestingly in the Roe vs Wade plot the NYT has the most subjective and polarizing headline of any of those examined with polarity > 0.6 and subjectivity > 0.8\n",
    "\n",
    "For the plot on political party there is a lot more even spread of sentiment amongst the news outlets which makes sense given the key words are less inflamatory and could be spoken about in any light."
   ]
  },
  {
   "cell_type": "code",
   "execution_count": 242,
   "metadata": {},
   "outputs": [
    {
     "data": {
      "text/plain": [
       "<matplotlib.legend.Legend at 0x7fa09ef18070>"
      ]
     },
     "execution_count": 242,
     "metadata": {},
     "output_type": "execute_result"
    },
    {
     "data": {
      "image/png": "[encoded data removed]",
      "text/plain": [
       "<Figure size 432x288 with 1 Axes>"
      ]
     },
     "metadata": {
      "needs_background": "light"
     },
     "output_type": "display_data"
    }
   ],
   "source": [
    "\n",
    "sns.scatterplot(data=sentiment, x=\"Polarity\", y=\"Subjectivity\", hue=\"SOURCE\", style = \"TOPIC\").set(title='Subjectivity and Polarity of News Sources and Presidential key terms')\n",
    "plt.legend(bbox_to_anchor=(1.02, 1), loc='upper left', borderaxespad=0)"
   ]
  },
  {
   "cell_type": "code",
   "execution_count": 249,
   "metadata": {},
   "outputs": [
    {
     "data": {
      "text/plain": [
       "<matplotlib.legend.Legend at 0x7fa09838a0d0>"
      ]
     },
     "execution_count": 249,
     "metadata": {},
     "output_type": "execute_result"
    },
    {
     "data": {
      "image/png": "[encoded data removed]",
      "text/plain": [
       "<Figure size 432x288 with 1 Axes>"
      ]
     },
     "metadata": {
      "needs_background": "light"
     },
     "output_type": "display_data"
    }
   ],
   "source": [
    "\n",
    "sns.scatterplot(data=sentiment2, x=\"Polarity\", y=\"Subjectivity\", hue=\"SOURCE\", style = \"TOPIC\").set(title='Subjectivity and Polarity of News Sources and Presidential key terms')\n",
    "plt.legend(bbox_to_anchor=(1.02, 1), loc='upper left', borderaxespad=0)"
   ]
  },
  {
   "cell_type": "code",
   "execution_count": 243,
   "metadata": {},
   "outputs": [
    {
     "data": {
      "text/plain": [
       "<matplotlib.legend.Legend at 0x7fa09e1e40a0>"
      ]
     },
     "execution_count": 243,
     "metadata": {},
     "output_type": "execute_result"
    },
    {
     "data": {
      "image/png": "[encoded data removed]",
      "text/plain": [
       "<Figure size 432x288 with 1 Axes>"
      ]
     },
     "metadata": {
      "needs_background": "light"
     },
     "output_type": "display_data"
    }
   ],
   "source": [
    "\n",
    "sns.scatterplot(data=roe, x=\"Polarity\", y=\"Subjectivity\", hue=\"SOURCE\")\\\n",
    ".set(title='Subjectivity and Polarity of News Sources and Roe vs Wade')\n",
    "plt.legend(bbox_to_anchor=(1.02, 1), loc='upper left', borderaxespad=0)\n",
    "                                                                                   "
   ]
  },
  {
   "cell_type": "markdown",
   "metadata": {},
   "source": [
    "# Conclusion\n",
    "\n",
    "We can see from the analysis above that Fox and NY Post tend to have more extremes in Polarity and Subjectivity analysis when compared to the NYT and NBC. However, all 4 news outlets can have extremes in sentiment in certain categories. It will be interesting to examine if any of these news outlets are related via investors."
   ]
  }
 ],
 "metadata": {
  "colab": {
   "name": "news_scrapper.ipynb",
   "provenance": []
  },
  "kernelspec": {
   "display_name": "Python 3",
   "language": "python",
   "name": "python3"
  },
  "language_info": {
   "codemirror_mode": {
    "name": "ipython",
    "version": 3
   },
   "file_extension": ".py",
   "mimetype": "text/x-python",
   "name": "python",
   "nbconvert_exporter": "python",
   "pygments_lexer": "ipython3",
   "version": "3.8.5"
  }
 },
 "nbformat": 4,
 "nbformat_minor": 1
}
