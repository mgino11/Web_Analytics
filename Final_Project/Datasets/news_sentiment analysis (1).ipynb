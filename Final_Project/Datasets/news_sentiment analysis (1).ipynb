{
 "cells": [
  {
   "cell_type": "markdown",
   "metadata": {
    "id": "kJ3oBkLklOf0"
   },
   "source": [
    "## Group 1",
    "### Maria Ginorio, Diego Correa, Adam Gersowitz"
   ]
  },
   "outputs": [],
   "source": []
  },
  {
   "cell_type": "markdown",
   "metadata": {
    "id": "UBmBJOBklOfx"
   },
   "source": [
    "## Importing Libraries and Data"
   ]
  },
  {
   "cell_type": "code",
   "execution_count": 1,
   "metadata": {
    "id": "NXELmA1BlOfz"
   },
   "outputs": [],
   "source": [
    "import pandas as pd\n",
    "import numpy as np\n",
    "import re #Regex\n",
    "import requests\n",
    "from bs4 import BeautifulSoup\n",
    "\n"
   ]
  },
  {
   "cell_type": "markdown",
   "metadata": {
    "id": "kJ3oBkLklOf0"
   },
   "source": [
    "## Headlines Scraping BS4\n",
    "### Fox Headlines"
   ]
  },
  {
   "cell_type": "code",
   "execution_count": 2,
   "metadata": {
    "colab": {
     "base_uri": "https://localhost:8080/"
    },
    "id": "hPwRoSkklOf1",
    "outputId": "740f2f0e-4fe4-4382-89bc-d7e125d17609",
    "pycharm": {
     "name": "#%%\n"
    }
   },
   "outputs": [
    {
     "name": "stdout",
     "output_type": "stream",
     "text": [
      "U.S. | Fox News Fox News U.S. Politics Media Opinion Business Entertainment Sports Lifestyle Weather TV Fox Nation Listen More Expand / Collapse search Login Watch TV Menu Hot Topics Coronavirus U.S. Crime Military Education Terror Immigration Economy Personal Freedoms Fox News Investigates World U.N. Conflicts Terrorism Disasters Global Economy Environment Religion Scandals Opinion Politics Executive Senate House Judiciary Foreign Policy Polls Elections Entertainment Celebrity News Movies TV News Music News Style News Entertainment Video Business Personal Finance Economy Markets Watchlist Lifestyle Real Estate Tech Lifestyle Food + Drink Cars + Trucks Travel + Outdoors House + Home Fitness + Well-being Style + Beauty Family Faith Science Archaeology Air & Space Planet Earth Wild Nature Natural Science Dinosaurs Tech Security Innovation Drones Computers Video Games Military Tech Health Coronavirus Healthy Living Medical Research Mental Health Cancer Heart Health Children's Health TV Shows Personalities Watch Live Full Episodes Show Clips News Clips About Contact Us Careers Fox Around the World Advertise With Us Media Relations Corporate Information Compliance Supplier Diversity Other Fox Weather Fox Nation Fox News Shop Fox News Go Fox News Radio Newsletters Podcasts Apps & Products Fox News New Terms of Use New Privacy Policy Do Not Sell my Personal Information Closed Captioning Policy Help Contact Us This material may not be published, broadcast, rewritten,\n",
      "      or redistributed. ©2022 FOX News Network, LLC. All rights reserved.\n",
      "      Quotes displayed in real-time or delayed by at least 15 minutes. Market data provided by Factset . Powered and implemented by FactSet Digital Solutions . Legal Statement . Mutual Fund and ETF data provided by Refinitiv Lipper . Facebook Twitter Instagram RSS Email U.S. MARKET MASSACRE (Erie County DA / AP Photo) New York 3 hours ago Accused Buffalo shooter Payton Gendron was hospitalized and underwent a mental health evaluation in 2021 after making a \"generalized threat,\" according to police officials. PISTOLS RECOVERED Fox 26 Houston Texas 33 mins ago Thousands of people were at a flea market in northern Houston on Sunday afternoon when a gunfight broke out between two groups of people, leaving two dead and at least three others wounded, according to Harris County Sheriff Ed Gonzalez. SUSPECT DETAINED Fox News California 1 hour ago California police are responding to reports of a shooting at a Laguna Woods church on Sunday afternoon where they say multiple people have been shot. Texas 33 mins ago Thousands of people were at a flea market in northern Houston on Sunday afternoon when a gunfight broke out between two groups of people, leaving two dead and at least three others wounded, according to Harris County Sheriff Ed Gonzalez. VIDEO 35 mins ago Bernard Zapor joins 'Fox Report' to discuss the potential motives of mass casualty shooters. California 1 hour ago California police are responding to reports of a shooting at a Laguna Woods church on Sunday afternoon where they say multiple people have been shot. VIDEO 2 hours ago Erie County D.A. John Flynn discusses first-degree murder charge and potential hate crime charges for alleged shooter Peyton Gendron on 'Fox News Live.' Austin 2 hours ago A rising star in gravel and mountain bike racing who had traveled to Austin, Texas, for a competition was shot and killed in her friend's home on Wednesday, according to reports. New York 2 hours ago Payton Gendron, an 18-year-old from Conklin, New York, is accused of killing 10 people and injuring three others during a shooting on Saturday that police consider a racist attack New York 3 hours ago Accused Buffalo shooter Payton Gendron was hospitalized and underwent a mental health evaluation in 2021 after making a \"generalized threat,\" according to police officials. New York 3 hours ago Federal and state investigators have interviewed the parents of accused mass shooter Payton Gendron and have executed a number of search warrant in connection with his alleged Saturday attack, which left 10 people dead and another three wounded, officials said Sunday. Georgia 4 hours ago A Tennessee stay at home mom and a civilian employee for a Georgia police department cracked a 1985 cold case that went unsolved for 37 years. Philadelphia 5 hours ago Philadelphia police are offering a $20,000 reward for information that leads to the arrest of a murder suspect who was seen on video hugging the victim before the fatal shooting last year, authorities said Friday. CRIME 5 hours ago A 16-year-old boy was fatally shot at Chicago's \"The Bean\" sculpture in Millennium Park. US 6 hours ago Pro-choice activists who spoke to The Hill said they are preparing for a potential “big influx” of American women crossing the Mexican and Canadian borders seeking abortions if the Supreme Court overturns Roe v. Wade. More California 1 hour ago Abortion 5 hours ago CRIME 5 hours ago Cold Case 8 hours ago More POLITICS 8 hours ago Indiana 8 hours ago Wisconsin 8 hours ago Exclusive 17 hours ago More Texas 33 mins ago Austin 2 hours ago Abortion 7 hours ago Arizona 10 hours ago Texas 1 day ago Texas 1 day ago Texas 1 day ago Parenting 1 day ago More Georgia 4 hours ago Donald Trump 9 hours ago Virginia 9 hours ago LIFESTYLE 9 hours ago More LIFESTYLE 2 hours ago New York 2 hours ago New York 3 hours ago Pennsylvania 3 hours ago Politics 3 hours ago New York 3 hours ago Media 4 hours ago New York 6 hours ago More True Crime 1 day ago True Crime 2 days ago Iowa 2 days ago CRIME 3 days ago Polls 6 hours ago The leak potentially overruling Roe v. Wade has not changes the preference of voters ahead of the midterm election's, with a poll showing a tight race between Republicans and Democrats. New York 6 hours ago New York state police have released video showing officers and firefighters rescue a driver trapped inside a sinking car that crashed into a reservoir last week. Polls 7 hours ago More Americans say the country has gone too far with transgender policies compared to previous polls, closing the gap with those who say society has to do more to end discrimination against transgender people. POLITICS 8 hours ago Democratic Chicago Mayor Lori Lightfoot was roasted Sunday on Twitter for posting a picture of herself reading “To Kill a Mockingbird” in a Texas bookstore and coming out against book banning. Cold Case 8 hours ago Human remains first discovered nearly three decades ago in Colorado have been identified as a woman who vanished in Washington state, investigators said Wednesday. Indiana 8 hours ago Indiana State Police is pleading for information to identify a Black boy around the age of five found in a Las Vegas-themed suitcase by a mushroom hunter in a heavily wooded area off a roadway last month. The boy is believed to have died within the week his body was found, and investigators are “not precluding anything,” including whether he could from out of the country. New York 8 hours ago New York Gov. Kathy Hochul joined a Buffalo Baptist congregation for worship on Sunday as the community mourned the loss of 10 victims who were killed during Saturday’s mass shooting at a local Tops grocery story. VIDEO 8 hours ago Sen. Bill Hagerty, R-Tenn., discusses his intended 'no' vote for the Ukrainian aid package and shares where he is pinpointing the blame for America's ongoing struggles. Wisconsin 8 hours ago Three Wisconsin boys face sexual harassment charges under Title IX from Kiel Middle School for using incorrect gender pronouns. VIDEO 9 hours ago Home contractor Skip Bedell joins 'Fox & Friends Weekend' to explain how to raise your own chickens amid soaring inflation. Virginia 9 hours ago Police in Prince William County, Virginia, outside of Washington, D.C., announced Friday that 21-year-old suspected drug dealer Latae’veion Naveiour Woods had been arrested in connection to last month’s fatal fentanyl overdose of a 14-year-old boy who took counterfeit Percocet pills. VIDEO 9 hours ago Gov. Kevin Stitt, R-Okla., discusses his move to criminalize abortions in his state, pro-choice activists' push to keep abortion rights on indigenous reservations and his decision to veto a public safety bill on tribal convictions. Show More Get all the stories you need-to-know from the most powerful name in news delivered first thing every morning to your inbox Arrives Weekdays Subscribe Subscribed Subscribe You've successfully subscribed to this newsletter! 6:26 VIDEO 35 mins ago 6:32 VIDEO 2 hours ago 9:36 VIDEO 8 hours ago 4:14 VIDEO 9 hours ago 7:24 VIDEO 9 hours ago 2:38 VIDEO 9 hours ago 3:27 VIDEO 9 hours ago 4:29 VIDEO 10 hours ago Coronavirus U.S. Crime Military Education Terror Immigration Economy Personal Freedoms Fox News Investigates World U.N. Conflicts Terrorism Disasters Global Economy Environment Religion Scandals Opinion Politics Executive Senate House Judiciary Foreign Policy Polls Elections Entertainment Celebrity News Movies TV News Music News Style News Entertainment Video Business Personal Finance Economy Markets Watchlist Lifestyle Real Estate Tech Lifestyle Food + Drink Cars + Trucks Travel + Outdoors House + Home Fitness + Well-being Style + Beauty Family Faith Science Archaeology Air & Space Planet Earth Wild Nature Natural Science Dinosaurs Tech Security Innovation Drones Computers Video Games Military Tech Health Coronavirus Healthy Living Medical Research Mental Health Cancer Heart Health Children's Health TV Shows Personalities Watch Live Full Episodes Show Clips News Clips About Contact Us Careers Fox Around the World Advertise With Us Media Relations Corporate Information Compliance Supplier Diversity Other Fox Weather Fox Nation Fox News Shop Fox News Go Fox News Radio Newsletters Podcasts Apps & Products Facebook Twitter Instagram Youtube Flipboard LinkedIn Slack RSS Newsletters Spotify iHeartRadio Fox News New Terms of Use New Privacy Policy Do Not Sell my Personal Information Closed Captioning Policy Help Contact Us Accessibility Statement This material may not be published, broadcast, rewritten, or redistributed. ©2022 FOX News Network, LLC. All rights reserved. Quotes displayed in real-time or delayed by at least 15 minutes. Market data provided by Factset . Powered and implemented by FactSet Digital Solutions . Legal Statement . Mutual Fund and ETF data provided by Refinitiv Lipper .\n",
      "Politics | Fox News Fox News U.S. Politics Media Opinion Business Entertainment Sports Lifestyle Weather TV Fox Nation Listen More Expand / Collapse search Login Watch TV Menu Hot Topics Coronavirus U.S. Crime Military Education Terror Immigration Economy Personal Freedoms Fox News Investigates World U.N. Conflicts Terrorism Disasters Global Economy Environment Religion Scandals Opinion Politics Executive Senate House Judiciary Foreign Policy Polls Elections Entertainment Celebrity News Movies TV News Music News Style News Entertainment Video Business Personal Finance Economy Markets Watchlist Lifestyle Real Estate Tech Lifestyle Food + Drink Cars + Trucks Travel + Outdoors House + Home Fitness + Well-being Style + Beauty Family Faith Science Archaeology Air & Space Planet Earth Wild Nature Natural Science Dinosaurs Tech Security Innovation Drones Computers Video Games Military Tech Health Coronavirus Healthy Living Medical Research Mental Health Cancer Heart Health Children's Health TV Shows Personalities Watch Live Full Episodes Show Clips News Clips About Contact Us Careers Fox Around the World Advertise With Us Media Relations Corporate Information Compliance Supplier Diversity Other Fox Weather Fox Nation Fox News Shop Fox News Go Fox News Radio Newsletters Podcasts Apps & Products Fox News New Terms of Use New Privacy Policy Do Not Sell my Personal Information Closed Captioning Policy Help Contact Us This material may not be published, broadcast, rewritten,\n",
      "      or redistributed. ©2022 FOX News Network, LLC. All rights reserved.\n",
      "      Quotes displayed in real-time or delayed by at least 15 minutes. Market data provided by Factset . Powered and implemented by FactSet Digital Solutions . Legal Statement . Mutual Fund and ETF data provided by Refinitiv Lipper . Facebook Twitter Instagram RSS Email Politics Paul Morigi/Getty Images for Women's March Abortion 1 day ago Thousands of pro-choice activists from different corners in America descended on Washington, D.C., on Saturday for the \"Bans Off Our Bodies\" event organized by a coalition of groups including Planned Parenthood and the Women's March. Jonathan Newton /The Washington Post via Getty Images White House 1 day ago The White House is facing backlash after it falsely claimed in a tweet this week that \"there was no vaccine available\" for COVID-19 when Joe Biden took office last year, but Twitter, along with the White House remain silent on why the that claim remains on the platform with no \"misinformation\" warning label. Kevin Dietsch/Getty Images Police and Law Enforcement 1 day ago House Democrats appear to be at odds over a bipartisan measure introduced earlier this year that would provide investments in local police departments across America to ensure officers have the resources needed to keep them and their communities safe. VIDEO 1 hour ago 'The Big Sunday Show' panelists weigh in on President Biden's worsening inflation in America. VIDEO 1 hour ago National security military analyst breaks down Russia's threats if Finland and Sweden join the military alliance on 'Fox News Live' VIDEO 2 hours ago Erie County D.A. John Flynn discusses first-degree murder charge and potential hate crime charges for alleged shooter Peyton Gendron on 'Fox News Live.' VIDEO 3 hours ago Former Acting ICE Director Tom Homan argues Democrats are expressing concern now because 'it’s all about midterm elections.' Pennsylvania 3 hours ago Pennsylvania U.S. Senate candidate David McCormick said Sunday \"stakes are so high\" for the upcoming GOP primary, adding he is the America First candidate to help Republicans regain control of the upper chamber of Congress. Politics 3 hours ago Pennsylvania Lt. Governor and U.S. Senate candidate John Fetterman suffered a stroke on Friday, according to a statement issued by his campaign on Sunday. View More 4:25 VIDEO 2 days ago 3:34 VIDEO May 8 Police and Law Enforcement May 7 4:49 VIDEO May 6 More Pennsylvania 3 hours ago Polls 6 hours ago US 6 hours ago Pennsylvania 17 hours ago Abortion 5 hours ago Colorado Gov. Jared Polis says the government should not intrude in conversations about abortion between a woman and her doctor or faith leader. Colorado recently preserved abortion rights in state law. CRIME 5 hours ago An Arby's manager admitted to police that he urinated in Arby's milkshake mix \"at least twice.\" VIDEO 5 hours ago Fox News contributor and former acting ICE Director Tom Homan discusses the border crisis. VIDEO 5 hours ago Rep. Ted Budd, R-NC, weighs in on the upcoming primary election in his state, his endorsements and the issues connecting most with North Carolina voters. Joe Biden 5 hours ago President Biden said hate \"remains a stain on the soul of America\" after an alleged white supremacist gunned down 10 people Saturday afternoon. VIDEO 6 hours ago Rep. Jim Jordan, R-Ohio., weighs in on the whistleblowers' exposing of the matter, arguing that the FBI and DOJ operated at 'record speed' to 'chill speech.' TERRORISM 7 hours ago The Biden administration plans to remove five terror organizations from a federal blacklist. Abortion 7 hours ago Oklahoma Gov. Kevin Stitt pushed back against critics of his state's abortion law, which bans abortion when there is a fetal heartbeat, typically six weeks into pregnancy, while recognizing that there is a gaping loophole. VIDEO 7 hours ago Ex-Pentagon chief saved allegations for book VIDEO 7 hours ago Biden, media belatedly confront crisis VIDEO 7 hours ago Pennsylvania Senate candidate David McCormick joined 'Sunday Morning Futures' to discuss the race and issues that matter to voters ahead of the primary election. Supreme Court 7 hours ago The Supreme Court will issue a batch of opinions on an unknown number of cases Monday, but the highly-anticipated decision that could determine the fate of abortion protections is likely weeks away, according to judicial experts. VIDEO 7 hours ago GOP says it goes far beyond Roe POLITICS 8 hours ago House Speaker Nancy Pelosi, D-Calif., on Sunday responded to criticism that Democrats should have been better prepared for the conservative-led attack on abortion rights, saying, \"Who would ever [have] suspected that a creature like Donald Trump would become president of the United States?\" VIDEO 8 hours ago Rep. Jim Jordan, R-Ohio., says he has evidence that the FBI targeted parents who protested schools' COVID policies despite assurances from Attorney General Merrick Garland that it never happened. Show More Get all the stories you need-to-know from the most powerful name in news delivered first thing every morning to your inbox Arrives Weekdays Subscribe Subscribed Subscribe You've successfully subscribed to this newsletter! Media Buzz 3 days ago Media Buzz 4 days ago Media Buzz 5 days ago 5 hours ago 9 hours ago 14 hours ago 1 day ago Coronavirus U.S. Crime Military Education Terror Immigration Economy Personal Freedoms Fox News Investigates World U.N. Conflicts Terrorism Disasters Global Economy Environment Religion Scandals Opinion Politics Executive Senate House Judiciary Foreign Policy Polls Elections Entertainment Celebrity News Movies TV News Music News Style News Entertainment Video Business Personal Finance Economy Markets Watchlist Lifestyle Real Estate Tech Lifestyle Food + Drink Cars + Trucks Travel + Outdoors House + Home Fitness + Well-being Style + Beauty Family Faith Science Archaeology Air & Space Planet Earth Wild Nature Natural Science Dinosaurs Tech Security Innovation Drones Computers Video Games Military Tech Health Coronavirus Healthy Living Medical Research Mental Health Cancer Heart Health Children's Health TV Shows Personalities Watch Live Full Episodes Show Clips News Clips About Contact Us Careers Fox Around the World Advertise With Us Media Relations Corporate Information Compliance Supplier Diversity Other Fox Weather Fox Nation Fox News Shop Fox News Go Fox News Radio Newsletters Podcasts Apps & Products Facebook Twitter Instagram Youtube Flipboard LinkedIn Slack RSS Newsletters Spotify iHeartRadio Fox News New Terms of Use New Privacy Policy Do Not Sell my Personal Information Closed Captioning Policy Help Contact Us Accessibility Statement This material may not be published, broadcast, rewritten, or redistributed. ©2022 FOX News Network, LLC. All rights reserved. Quotes displayed in real-time or delayed by at least 15 minutes. Market data provided by Factset . Powered and implemented by FactSet Digital Solutions . Legal Statement . Mutual Fund and ETF data provided by Refinitiv Lipper .\n",
      "Opinion | Fox News Fox News U.S. Politics Media Opinion Business Entertainment Sports Lifestyle Weather TV Fox Nation Listen More Expand / Collapse search Login Watch TV Menu Hot Topics Coronavirus U.S. Crime Military Education Terror Immigration Economy Personal Freedoms Fox News Investigates World U.N. Conflicts Terrorism Disasters Global Economy Environment Religion Scandals Opinion Politics Executive Senate House Judiciary Foreign Policy Polls Elections Entertainment Celebrity News Movies TV News Music News Style News Entertainment Video Business Personal Finance Economy Markets Watchlist Lifestyle Real Estate Tech Lifestyle Food + Drink Cars + Trucks Travel + Outdoors House + Home Fitness + Well-being Style + Beauty Family Faith Science Archaeology Air & Space Planet Earth Wild Nature Natural Science Dinosaurs Tech Security Innovation Drones Computers Video Games Military Tech Health Coronavirus Healthy Living Medical Research Mental Health Cancer Heart Health Children's Health TV Shows Personalities Watch Live Full Episodes Show Clips News Clips About Contact Us Careers Fox Around the World Advertise With Us Media Relations Corporate Information Compliance Supplier Diversity Other Fox Weather Fox Nation Fox News Shop Fox News Go Fox News Radio Newsletters Podcasts Apps & Products Fox News New Terms of Use New Privacy Policy Do Not Sell my Personal Information Closed Captioning Policy Help Contact Us This material may not be published, broadcast, rewritten,\n",
      "      or redistributed. ©2022 FOX News Network, LLC. All rights reserved.\n",
      "      Quotes displayed in real-time or delayed by at least 15 minutes. Market data provided by Factset . Powered and implemented by FactSet Digital Solutions . Legal Statement . Mutual Fund and ETF data provided by Refinitiv Lipper . Facebook Twitter Instagram RSS Email Opinion OPINION 1 day ago There is no more quintessential American story universe than Star Trek. AP OPINION 2 days ago Recently, much attention has been focused on the Department of Homeland Security’s ill-conceived Disinformation Governance Board. And rightfully so. OPINION 2 days ago President Joe Biden’s approval ratings seem to keep dropping and dropping. As a Democrat who voted for the president, I cannot understand why. 11 hours ago There are millions of Americans who are deeply (and increasingly) unhappy with the current system 12 hours ago May 15th marks the two-year anniversary of President Donald Trump introducing Operation Warp Speed to the world by announcing that America would have millions of safe and effective vaccines delivered to its people before the end of 2020. 1 day ago The Contract with America became famous because it was the centerpiece of the House Republican campaign, which won a majority for the first time in 40 years. 1 day ago Robert C. \"Bud\" McFarlane passed away this week. 1 day ago There is no more quintessential American story universe than Star Trek. 1 day ago Greg Gutfeld talks about Patti LuPone's outburst on a Broadway stage over masks on \"Gutfeld!\" 1 day ago Fox News host Tucker Carlson gets to the bottom of the baby formula shortage on 'Tucker Carlson Tonight.' 2 days ago Drug cartels are now using SnapChat, Instagram, and other social media apps to recruit American teenagers from around the country to transport migrants and drugs from the border. 2 days ago President Joe Biden’s approval ratings seem to keep dropping and dropping. As a Democrat who voted for the president, I cannot understand why. 2 days ago The Biden administration has extended the \"pause\" on student loan payments for a sixth time. By the time the latest pause ends, those who took out student loans will have been able to go 30 months—two-and-a-half years—without making a single payment nor accruing any new interest. 2 days ago I haven’t been a dad for too long, but I can tell you one thing I’ve learned -- all the partisan bickering that’s so constant in our politics now seems like so much noise. 2 days ago Recently, much attention has been focused on the Department of Homeland Security’s ill-conceived Disinformation Governance Board. And rightfully so. 2 days ago As federal judges we stand on the frontline protecting democracy and the rule of law. We live in daily danger of retribution. 2 days ago Greg Gutfeld discusses the left's overuse of the word \"racist\" and the right's reaction to that on \"Gutfeld!\" 2 days ago Tucker Carlson voices his concerns about record-high inflation. 3 days ago Now more than ever, police should know that American politicians have their backs, just as they have ours. 3 days ago The Medicare for All Act of 2022, which I have just introduced with 15 co-sponsors, would provide comprehensive health care coverage to every man, woman and child in our country. 3 days ago Big business is no friend to conservatives—that’s been clear for years. And it’s increasingly no friend to America. 3 days ago Families are forced to compete with each other to find a necessity that was becoming alarmingly difficult to find. 3 days ago The NSBA addressed Joe Biden in a letter expressing American public schools are under an immediate threat due to mask mandates, CRT, gender ideology and more. 3 days ago Greg Gutfeld discusses on \"Gutfeld!\" the dangers of excessive social media use. 3 days ago Tucker Carlson shredded lawmakers for prioritizing helping Ukraine in light of problems in the United States on 'Tucker Carlson Tonight.' 4 days ago What would you do if you couldn’t feed your baby? This is a question parents across America are facing as the country continues to grapple with a baby formula shortage. 4 days ago Today, Communist China dominates the global active pharmaceutical ingredient (API) and precursor chemicals, antibiotics, and vitamin markets, leaving patients and policymakers—or even trained pharmacists like me—with very little visibility into the messy supply chain of essential medicines. 4 days ago The strangest thing about the debate over parents’ roles and rights in their children’s education is that there is a debate at all. Show More 4 days ago At the end of April, the U.S. Food and Drug Administration announced its proposal to ban menthol tobacco products. The target of the proposal is menthol cigarettes which are the most common choice of Black smokers. 4 days ago Greg Gutfeld discusses on \"Gutfeld!\" the new White House press secretary. 4 days ago Fox News host Tucker Carlson reveals why Karine Jean-Pierre is perfect for her new job as White House press secretary on 'Tucker Carlson Tonight.' 4 days ago Irony doesn't begin to explain why pro-choice activists chose Mother's Day weekend to picket the homes of Justice Brett Kavanaugh and Chief Justice John Roberts, who appear ready to overturn Roe v. Wade. 5 days ago Competent leadership is difficult to come by these days, but there is an appalling lack of it in the Biden administration. Show More 2 days ago 3 days ago 2 days ago 2 days ago 3 days ago 3 days ago 3 days ago 6 days ago May 8 Get the recap of top opinion commentary and original content throughout the week. Arrives Daily Subscribe Subscribed Subscribe You've successfully subscribed to this newsletter! 7:18 1 day ago 5:11 1 day ago 5:53 1 day ago 6:38 1 day ago Coronavirus U.S. Crime Military Education Terror Immigration Economy Personal Freedoms Fox News Investigates World U.N. Conflicts Terrorism Disasters Global Economy Environment Religion Scandals Opinion Politics Executive Senate House Judiciary Foreign Policy Polls Elections Entertainment Celebrity News Movies TV News Music News Style News Entertainment Video Business Personal Finance Economy Markets Watchlist Lifestyle Real Estate Tech Lifestyle Food + Drink Cars + Trucks Travel + Outdoors House + Home Fitness + Well-being Style + Beauty Family Faith Science Archaeology Air & Space Planet Earth Wild Nature Natural Science Dinosaurs Tech Security Innovation Drones Computers Video Games Military Tech Health Coronavirus Healthy Living Medical Research Mental Health Cancer Heart Health Children's Health TV Shows Personalities Watch Live Full Episodes Show Clips News Clips About Contact Us Careers Fox Around the World Advertise With Us Media Relations Corporate Information Compliance Supplier Diversity Other Fox Weather Fox Nation Fox News Shop Fox News Go Fox News Radio Newsletters Podcasts Apps & Products Facebook Twitter Instagram Youtube Flipboard LinkedIn Slack RSS Newsletters Spotify iHeartRadio Fox News New Terms of Use New Privacy Policy Do Not Sell my Personal Information Closed Captioning Policy Help Contact Us Accessibility Statement This material may not be published, broadcast, rewritten, or redistributed. ©2022 FOX News Network, LLC. All rights reserved. Quotes displayed in real-time or delayed by at least 15 minutes. Market data provided by Factset . Powered and implemented by FactSet Digital Solutions . Legal Statement . Mutual Fund and ETF data provided by Refinitiv Lipper .\n"
     ]
    }
   ],
   "source": [
    "fox_url = 'https://www.foxnews.com/us'\n",
    "fox_url2 = 'https://www.foxnews.com/politics'\n",
    "fox_url3 = 'https://www.foxnews.com/opinion'\n",
    "\n",
    "# Page content from Website URL\n",
    "page = requests.get(fox_url)\n",
    "page2 = requests.get(fox_url2)\n",
    "page3 = requests.get(fox_url3)\n",
    "\n",
    "# Function to remove tags\n",
    "def remove_tags(html):\n",
    "\n",
    "    # parse html content\n",
    "    soup = BeautifulSoup(html, \"html.parser\")\n",
    "    soup.encode(\"utf-8\")\n",
    "\n",
    "    for data in soup(['h2','h3', 'h4']):\n",
    "        # Remove tags\n",
    "        data.decompose()\n",
    "\n",
    "    # return data by retrieving the tag content\n",
    "    return ' '.join(soup.stripped_strings)\n",
    "\n",
    "\n",
    "# Print the extracted data\n",
    "print(remove_tags(page.content))\n",
    "print(remove_tags(page2.content))\n",
    "print(remove_tags(page3.content))"
   ]
  },
  {
   "cell_type": "code",
   "execution_count": 3,
   "metadata": {
    "colab": {
     "base_uri": "https://localhost:8080/"
    },
    "id": "ePo_AIXvlOf3",
    "outputId": "567d5149-d222-4cb4-c4c6-7d210598bb81",
    "pycharm": {
     "name": "#%%\n"
    }
   },
   "outputs": [
    {
     "data": {
      "text/plain": [
       "str"
      ]
     },
     "execution_count": 3,
     "metadata": {},
     "output_type": "execute_result"
    }
   ],
   "source": [
    "fox_data = remove_tags(page.content)\n",
    "fox_data2 = remove_tags(page2.content)\n",
    "fox_data3 = remove_tags(page3.content)\n",
    "type(fox_data)"
   ]
  },
  {
   "cell_type": "markdown",
   "metadata": {
    "id": "jmUyr_v6lOf3"
   },
   "source": [
    "### CNN Headlines"
   ]
  },
  {
   "cell_type": "code",
   "execution_count": 4,
   "metadata": {
    "id": "E0Q_B389lOf4",
    "pycharm": {
     "name": "#%%\n"
    }
   },
   "outputs": [],
   "source": [
    "from datetime import date\n",
    "today = date.today()\n",
    "d = today.strftime(\"%m-%d-%y\")"
   ]
  },
  {
   "cell_type": "code",
   "execution_count": 5,
   "metadata": {
    "id": "ADC1hQe2lOf4",
    "pycharm": {
     "name": "#%%\n"
    }
   },
   "outputs": [],
   "source": [
    "cnn_url = \"https://www.cnn.com/us\".format(d)\n",
    "cnn_url2 = \"https://www.cnn.com/politics\".format(d)\n",
    "cnn_url3 = \"https://www.cnn.com/health\".format(d)\n",
    "\n",
    "\n",
    "# Page content from Website URL\n",
    "cnn_pg1 = requests.get(cnn_url)\n",
    "cnn_pg2 = requests.get(cnn_url2)\n",
    "cnn_pg3 = requests.get(cnn_url3)\n",
    "\n",
    "cnn_data = remove_tags(cnn_pg1.content)\n",
    "cnn_data2 = remove_tags(cnn_pg2.content)\n",
    "cnn_data3 = remove_tags(cnn_pg3.content)"
   ]
  },
  {
   "cell_type": "markdown",
   "metadata": {
    "id": "5QNk07RjlOf5"
   },
   "source": [
    "### NBC Headlines"
   ]
  },
  {
   "cell_type": "code",
   "execution_count": 6,
   "metadata": {
    "id": "00xXwt6nlOf5",
    "pycharm": {
     "name": "#%%\n"
    }
   },
   "outputs": [],
   "source": [
    "nbc_url = 'https://www.nbcnews.com/us-news'\n",
    "nbc_url2 = 'https://www.nbcnews.com/politics'\n",
    "nbc_url3 = 'https://www.nbcnews.com/investigations'\n",
    "\n",
    "# Page content from Website URL\n",
    "nbc_pg1 = requests.get(nbc_url)\n",
    "nbc_pg2 = requests.get(nbc_url2)\n",
    "nbc_pg3 = requests.get(nbc_url3)\n",
    "\n",
    "nbc_data = remove_tags(nbc_pg1.content)\n",
    "nbc_data2 = remove_tags(nbc_pg2.content)\n",
    "nbc_data3 = remove_tags(nbc_pg3.content)"
   ]
  },
  {
   "cell_type": "markdown",
   "metadata": {
    "id": "1Oerl3_HlOf6"
   },
   "source": [
    "### NYT Headlines"
   ]
  },
  {
   "cell_type": "code",
   "execution_count": 7,
   "metadata": {
    "id": "Pz4OFwWalOf6",
    "pycharm": {
     "name": "#%%\n"
    }
   },
   "outputs": [],
   "source": [
    "nyt_url = 'https://www.nytimes.com/section/us'\n",
    "nyt_url2 = 'https://www.nytimes.com/section/politics'\n",
    "nyt_url3 = 'https://www.nytimes.com/section/opinion'\n",
    "\n",
    "# Page content from Website URL\n",
    "nyt_pg1 = requests.get(nyt_url)\n",
    "nyt_pg2 = requests.get(nyt_url2)\n",
    "nyt_pg3 = requests.get(nyt_url3)\n",
    "\n",
    "nyt_data = remove_tags(nyt_pg1.content)\n",
    "nyt_data2 = remove_tags(nyt_pg2.content)\n",
    "nyt_data3 = remove_tags(nyt_pg3.content)"
   ]
  },
  {
   "cell_type": "markdown",
   "metadata": {
    "id": "1vDM6_jClOf7"
   },
   "source": [
    "### Wallstreet Journal Headlines"
   ]
  },
  {
   "cell_type": "code",
   "execution_count": 8,
   "metadata": {
    "id": "DMrWdylhlOf7",
    "pycharm": {
     "name": "#%%\n"
    }
   },
   "outputs": [],
   "source": [
    "twsj_url = 'https://www.wsj.com/news/us?mod=nav_top_section'\n",
    "twsj_url2 = 'https://www.wsj.com/news/politics?mod=nav_left_section'\n",
    "twsj_url3 = 'https://www.wsj.com/news/opinion?mod=nav_left_section'\n",
    "\n",
    "# Page content from Website URL\n",
    "wsj_pg1 = requests.get(twsj_url)\n",
    "wsj_pg2 = requests.get(twsj_url2)\n",
    "wsj_pg3 = requests.get(twsj_url3)\n",
    "\n",
    "twsj_data = remove_tags(wsj_pg1.content)\n",
    "twsj_data2 = remove_tags(wsj_pg2.content)\n",
    "twsj_data3 = remove_tags(wsj_pg3.content)"
   ]
  },
  {
   "cell_type": "markdown",
   "metadata": {
    "id": "GeePyRJGlOf8"
   },
   "source": [
    "### The Boston Glove Headlines"
   ]
  },
  {
   "cell_type": "code",
   "execution_count": 9,
   "metadata": {
    "id": "pXt6PTMYlOf8",
    "pycharm": {
     "name": "#%%\n"
    }
   },
   "outputs": [],
   "source": [
    "boston_url = 'https://www.bostonglobe.com/?refresh=true'\n",
    "boston_url2 = 'https://www.bostonglobe.com/metro/politics/?p1=BGMenu_Sections'\n",
    "boston_url3 = 'https://www.bostonglobe.com/metro/education/k-12/education-project/?p1=BGMenu_Sections'\n",
    "\n",
    "# Page content from Website URL\n",
    "boston_pg1 = requests.get(boston_url)\n",
    "boston_pg2 = requests.get(boston_url2)\n",
    "boston_pg3 = requests.get(boston_url3)\n",
    "\n",
    "bos_data1 = remove_tags(boston_pg1.content)\n",
    "bos_data2 = remove_tags(boston_pg2.content)\n",
    "bos_data3 = remove_tags(boston_pg3.content)"
   ]
  },
  {
   "cell_type": "markdown",
   "metadata": {
    "id": "9dHq3phMlOf8"
   },
   "source": [
    "### The Chicago Tribune Headlines"
   ]
  },
  {
   "cell_type": "code",
   "execution_count": 10,
   "metadata": {
    "id": "-dr0YgxYlOf9",
    "pycharm": {
     "name": "#%%\n"
    }
   },
   "outputs": [],
   "source": [
    "chicago_url = 'https://www.chicagotribune.com/'\n",
    "chicago_url2 = 'https://www.chicagotribune.com/politics/'\n",
    "chicago_url3 = 'https://www.chicagotribune.com/columns/'\n",
    "\n",
    "# Page content from Website URL\n",
    "chicago_pg1 = requests.get(chicago_url)\n",
    "chicago_pg2 = requests.get(chicago_url2)\n",
    "chicago_pg3 = requests.get(chicago_url3)\n",
    "\n",
    "ord_data = remove_tags(chicago_pg1.content)\n",
    "ord_data2 = remove_tags(chicago_pg2.content)\n",
    "ord_data3 = remove_tags(chicago_pg3.content)"
   ]
  },
  {
   "cell_type": "markdown",
   "metadata": {
    "id": "znqTk26MlOf9"
   },
   "source": [
    "### The Washington Post Headlines"
   ]
  },
  {
   "cell_type": "code",
   "execution_count": 11,
   "metadata": {
    "id": "2D2_DFHFlOf9",
    "pycharm": {
     "name": "#%%\n"
    }
   },
   "outputs": [],
   "source": [
    "wapost_url = 'https://www.washingtonpost.com/?reload=true&_=1647990066652'\n",
    "wapost_url2 = 'https://www.washingtonpost.com/politics/?itid=nb_politics'\n",
    "wapost_url3 = 'https://www.washingtonpost.com/local/?itid=nb_dc-md-and-va'\n",
    "\n",
    "wapost_pg1 = requests.get(wapost_url)\n",
    "wapost_pg2 = requests.get(wapost_url2)\n",
    "wapost_pg3 = requests.get(wapost_url3)\n",
    "\n",
    "wapost_data = remove_tags(wapost_pg1.content)\n",
    "wapost_data2 = remove_tags(wapost_pg2.content)\n",
    "wapost_data3 = remove_tags(wapost_pg3.content)"
   ]
  },
  {
   "cell_type": "markdown",
   "metadata": {
    "id": "AiolBUdVlOf-"
   },
   "source": [
    "### NY Post Headlines"
   ]
  },
  {
   "cell_type": "code",
   "execution_count": 12,
   "metadata": {
    "id": "PpPvuJaplOf-",
    "pycharm": {
     "name": "#%%\n"
    }
   },
   "outputs": [],
   "source": [
    "nypost_url = 'https://nypost.com/'\n",
    "nypost_url2 = 'https://nypost.com/news/'\n",
    "nypost_url3 = 'https://nypost.com/opinion/'\n",
    "\n",
    "nypost_pg1 = requests.get(nypost_url)\n",
    "nypost_pg2 = requests.get(nypost_url2)\n",
    "nypost_pg3 = requests.get(nypost_url3)\n",
    "\n",
    "nypost_data = remove_tags(nypost_pg1.content)\n",
    "nypost_data2 = remove_tags(nypost_pg2.content)\n",
    "nypost_data3 = remove_tags(nypost_pg3.content)"
   ]
  },
  {
   "cell_type": "markdown",
   "metadata": {
    "id": "Vts_70iYlOf_",
    "pycharm": {
     "name": "#%% md\n"
    }
   },
   "source": [
    "## Corpus Creation"
   ]
  },
  {
   "cell_type": "code",
   "execution_count": 13,
   "metadata": {
    "id": "QsW0Y_-olOf_",
    "pycharm": {
     "name": "#%%\n"
    }
   },
   "outputs": [],
   "source": [
    "cnn_corpus = cnn_data + cnn_data2 + cnn_data3 \n",
    "nbc_corpus= nbc_data + nbc_data2 + nbc_data3 \n",
    "nuyt_corpus= nyt_data + nyt_data2 + nyt_data3 \n",
    "twsj_corpus=twsj_data + twsj_data2 + twsj_data3 \n",
    "bos_corpus =  bos_data1+ bos_data2 + bos_data3\n",
    "ord_corpus= ord_data + ord_data2 + ord_data3 \n",
    "wapost_corpus= wapost_data + wapost_data2 + wapost_data3 \n",
    "nypost_corpus = nypost_data + nypost_data2 + nypost_data3 \n",
    "fox_corpus= fox_data + fox_data2 + fox_data3"
   ]
  },
  {
   "cell_type": "code",
   "execution_count": 14,
   "metadata": {
    "colab": {
     "base_uri": "https://localhost:8080/"
    },
    "id": "3vvD6z9klOf_",
    "outputId": "cbe284a5-ecdb-468a-ad47-ef41eae3b714",
    "pycharm": {
     "name": "#%%\n"
    }
   },
   "outputs": [],
   "source": [
    "file = open(\"cnn_corpus.txt\", \"w\", encoding='utf-8')\n",
    "file.write(cnn_corpus)\n",
    "file.close()"
   ]
  },
  {
   "cell_type": "markdown",
   "metadata": {
    "id": "Qd5wxsZGlOgA",
    "pycharm": {
     "name": "#%% md\n"
    }
   },
   "source": [
    "# Text Cleaning for NLP\n",
    "\n",
    "Split 4 of the news outlets articles in order to perfrom sentiment analysis by headline."
   ]
  },
  {
   "cell_type": "code",
   "execution_count": 15,
   "metadata": {
    "id": "DKTX1d4glOgA",
    "pycharm": {
     "name": "#%%\n"
    }
   },
   "outputs": [],
   "source": [
    "# import csv\n",
    "\n",
    "fox = fox_corpus.split(\" ago\")\n",
    "nbc = nbc_corpus.split(\" ago\")\n",
    "nyt = nuyt_corpus.split(\" By \")\n",
    "nypost = nypost_corpus.split(\". \")\n",
    "\n",
    "#delete headers for each corpus\n",
    "\n",
    "del fox[0]\n",
    "del nbc[0]\n",
    "del nyt[0]\n",
    "del nypost[0]\n",
    "\n",
    "\n",
    "\n"
   ]
  },
  {
   "cell_type": "markdown",
   "metadata": {
    "id": "GCgQLXoYlOgB"
   },
   "source": [
    "Sentiment Analysis for each headline in each of the 4 corpus in each news outlet."
   ]
  },
  {
   "cell_type": "markdown",
   "metadata": {
    "colab": {
     "base_uri": "https://localhost:8080/",
     "height": 123
    },
    "id": "SGv40weUlOgB",
    "outputId": "fa399fd2-e6de-4d4e-b890-1fe7fa6b388e",
    "pycharm": {
     "name": "#%%\n"
    }
   },
   "source": [
    "https://www.analyticsvidhya.com/blog/2021/11/web-scraping-a-news-article-and-performing-sentiment-analysis-using-nlp/"
   ]
  },
  {
   "cell_type": "code",
   "execution_count": 16,
   "metadata": {},
   "outputs": [],
   "source": [
    "import requests\n",
    "import nltk\n",
    "from bs4 import BeautifulSoup\n",
    "import numpy as np \n",
    "import pandas as pd \n",
    "import seaborn as sns\n",
    "import matplotlib.pyplot as plt\n",
    "%matplotlib inline\n",
    "import random\n",
    "\n",
    "from wordcloud import WordCloud\n",
    "import os\n",
    "import spacy\n",
    "\n",
    "from textblob import TextBlob\n",
    "\n",
    "\n",
    "\n",
    "#from pattern.en import sentiment\n",
    "\n",
    "tbs_nyt=[]\n",
    "for s in nyt:\n",
    "    txt= TextBlob(s)\n",
    "    a= txt.sentiment.polarity\n",
    "    b= txt.sentiment.subjectivity\n",
    "    tbs_nyt.append([s,a,b])\n",
    "    \n",
    "tbs_nypost=[]\n",
    "for s in nypost:\n",
    "    txt= TextBlob(s)\n",
    "    a= txt.sentiment.polarity\n",
    "    b= txt.sentiment.subjectivity\n",
    "    tbs_nypost.append([s,a,b])\n",
    "\n",
    "tbs_nbc=[]\n",
    "for s in nbc:\n",
    "    txt= TextBlob(s)\n",
    "    a= txt.sentiment.polarity\n",
    "    b= txt.sentiment.subjectivity\n",
    "    tbs_nbc.append([s,a,b])\n",
    "\n",
    "tbs_fox=[]\n",
    "for s in fox:\n",
    "    txt= TextBlob(s)\n",
    "    a= txt.sentiment.polarity\n",
    "    b= txt.sentiment.subjectivity\n",
    "    tbs_fox.append([s,a,b])\n",
    "    \n",
    "df_textblob_nyt = pd.DataFrame(tbs_nyt, columns =['Sentence', 'Polarity', 'Subjectivity'])\n",
    "df_textblob_nypost = pd.DataFrame(tbs_nypost, columns =['Sentence', 'Polarity', 'Subjectivity'])\n",
    "df_textblob_nbc = pd.DataFrame(tbs_nbc, columns =['Sentence', 'Polarity', 'Subjectivity'])\n",
    "df_textblob_fox = pd.DataFrame(tbs_fox, columns =['Sentence', 'Polarity', 'Subjectivity'])"
   ]
  },
  {
   "cell_type": "markdown",
   "metadata": {},
   "source": [
    "# Subjectivity and Polarity in Fox, NBC, New York Times and NY Post Headlines\n",
    "\n",
    "Polarity is float which lies in the range of [-1,1] where 1 means positive statement and -1 means a negative statement. Subjective sentences generally refer to personal opinion, emotion or judgment whereas objective refers to factual information. Subjectivity is also a float which lies in the range of [0,1]\n",
    "\n",
    "https://www.analyticsvidhya.com/blog/2018/02/natural-language-processing-for-beginners-using-textblob/#:~:text=3.6%20Sentiment%20Analysis&text=Polarity%20is%20float%20which%20lies,objective%20refers%20to%20factual%20information.\n",
    "\n",
    "\n",
    "We can see in the plots below that Fox and NY Post have greater extremes in both subjectivity and Polarity of their headlines. They both have polarity of -0.5 or less and 0.5 or greater and subjectivity reaching 1. New York Times also has high positive polarity in some cases but not the subjectivity extremes. Fox and NYT have subjectivity ratings above 0.8 indicating those headlines are rooted in opinion not fact. However NBC and NYT typically have more somehwat subjective articles then the other 2 outlets All 4 news outlets have the majority of their polarity of headlines as slightly positive and low subjectivity."
   ]
  },
  {
   "cell_type": "code",
   "execution_count": 17,
   "metadata": {},
   "outputs": [
    {
     "data": {
      "text/plain": [
       "Text(0.5, 1.0, 'NY Post Polarity')"
      ]
     },
     "execution_count": 17,
     "metadata": {},
     "output_type": "execute_result"
    },
    {
     "data": {
      "image/png": "iVBORw0KGgoAAAANSUhEUgAAAoAAAAFwCAYAAAAot8qnAAAAOXRFWHRTb2Z0d2FyZQBNYXRwbG90bGliIHZlcnNpb24zLjMuMiwgaHR0cHM6Ly9tYXRwbG90bGliLm9yZy8vihELAAAACXBIWXMAAAsTAAALEwEAmpwYAAAe/0lEQVR4nO3dfbildV3v8ffHGRAVCMiBM/IQakSayagDivgYUlAGmCB6EMcONXpVpOVDdCwr03NRpyuxPGocVEZDBRGCrFAaHsxAdEBEcTDUVIhpZkPi85HA7/lj3TsXe/bsvfbMvtfes3/v13Wta6376Xd/12/23nz43U+pKiRJktSOBy10AZIkSRovA6AkSVJjDICSJEmNMQBKkiQ1xgAoSZLUGAOgJElSYwyAkjTPkpyX5I07sP0/JFkznzVJ0jADoKSdVpKvJPlekm8PvR4xj+2fl+Tert3/SHJFkp+cr/a3paqOq6p1XQ0vTfLxvvcpqS0GQEk7u1+sqt2HXnfOc/t/WlW7AwcAW4Dz5rn9/5IB/y5L6p1/aCQtOUkenOTsJHd2r7O7ebsmuSnJGd16y5L8c5LXz9ZmVX0XeB/wuG7bxyS5Osk9SW5Jcvw2atk7yYeTTCT5evf5gKHlVyd5U5J/Br4LPKqb9ytJHgO8AziyG4W8J8nhSTYnWT7UxvOT3LQDXSapMQZASUvR64CnAKuAw4AjgN+rqnuBFwNv6MLVmcAy4E2zNZhkd+BU4NNJdgH+FvgosC9wBnB+kkOn2fRBwLuBHwMOAr4HvHXKOqcBa4E9gK9OzqyqjcDLgeu60c29qupTwN3AMUPbvxh472zfQZImGQAl7ez+phsZuyfJ33TzTgXeUFVbqmoC+CMGIYuq+hzwRuAS4NXAaVV1/wztvzrJPcAXgd2BlzIIl7sDZ1XVvVV1JfBh4EVTN66qu6vqQ1X13ar6FoOw+cwpq51XVbdU1X1V9Z8jfOd1DEIfSfYBfo7B6KQkjWT57KtI0qJ2YlX945R5j2BoJK37PHxxyDoGQexDVXXbLO3/WVX93vCMJKuB26vqB1P2sf/UjZM8FHgzcCywdzd7jyTLhoLn7bPUMNVfAxu7UckXAP9UVZvm2IakhjkCKGkpupPBIddJB3XzJr2NwYjdzyV52na2f+CUCzYOAv5tmnVfBRwKPLmq9gSe0c3P0Do1w762WlZV/wZcBzyPwcimh38lzYkBUNJS9H7g95KsSPJw4PUMRs1IchrwJAaHcn8TWNeNpM3F9cB3gNcm2SXJs4BfBD4wzbp7MDjv757ucO0fzHFfm4EDkuw6Zf57gNcCP83gcLYkjcwAKGkpeiOwAbgZ+CxwI/DGJAcBZwMvqapvV9X7uvXePJfGu4tJjgeOA+5iMKL4kqq6dZrVzwYe0q33CeDyOX6XK4FbgH9PctfQ/EsYjHJeUlXfmWObkhqXqpmOPEiSFqskXwJeNs05kJI0I0cAJWknlOT5DM4PvHKha5G08/EqYEnaySS5Gngsg1vY/GCW1SVpKx4CliRJaoyHgCVJkhqzUxwCPvbYY+vyy+d64ZwkSVLzMt3MnWIE8K677pp9JUmSJI1kpwiAkiRJmj8GQEmSpMYYACVJkhpjAJQkSWqMAVCSJKkxBkBJkqTGGAAlSZIaYwCUJElqjAFQkiSpMQZASZKkxhgAJUmSGmMAlCRJaowBUJIkqTEGQEnaAfsfeBBJdui1/4EHLfTXkNSY5QtdgCTtzO6843ZO+atrd6iNC1721HmqRpJG4wigJElSYwyAkiRJjTEASpIkNcYAKEmS1BgDoCRJUmMMgJIkSY0xAEqSJDXGAChJktQYA6AkSVJjDICSJEmNMQBKkiQ1prcAmOTQJDcNvb6Z5JVJ9klyRZLbuve9+6pBkiRJW+stAFbVF6pqVVWtAp4EfBe4BDgTWF9VhwDru2lJkiSNybgOAR8NfKmqvgqcAKzr5q8DThxTDZIkSWJ8AfCFwPu7z/tV1SaA7n3f6TZIsjbJhiQbJiYmxlSmJEnS0td7AEyyK3A88MG5bFdV51TV6qpavWLFin6KkyRJatA4RgCPA26sqs3d9OYkKwG69y1jqEGSJEmdcQTAF/HDw78AlwFrus9rgEvHUIMkSZI6vQbAJA8FjgEuHpp9FnBMktu6ZWf1WYMkSZIeaHmfjVfVd4EfnTLvbgZXBUuSJGkB+CQQSZKkxhgAJUmSGmMAlCRJaowBUJIkqTEGQEmSpMYYACVJkhpjAJQkSWqMAVCSJKkxBkBJkqTGGAAlSZIaYwCUJElqjAFQkiSpMQZASZKkxhgAJUmSGmMAlCRJaowBUJIkqTEGQEmSpMYYACVJkhpjAJQkSWqMAVCSJKkxBkBJkqTGGAAlSZIaYwCUJElqjAFQkiSpMQZASZKkxhgAJUmSGmMAlCRJaowBUJIkqTEGQEmSpMYYACVJkhrTawBMsleSi5LcmmRjkiOT7JPkiiS3de9791mDJEmSHqjvEcC3AJdX1U8ChwEbgTOB9VV1CLC+m5YkSdKY9BYAk+wJPAN4J0BV3VtV9wAnAOu61dYBJ/ZVgyRJkrbW5wjgo4AJ4N1JPp3k3CQPA/arqk0A3fu+022cZG2SDUk2TExM9FimJElSW/oMgMuBJwJvr6onAN9hDod7q+qcqlpdVatXrFjRV42SJEnN6TMA3gHcUVXXd9MXMQiEm5OsBOjet/RYgyRJkqboLQBW1b8Dtyc5tJt1NPB54DJgTTdvDXBpXzVIkiRpa8t7bv8M4PwkuwJfBn6ZQei8MMnpwNeAk3uuQZIkSUN6DYBVdROweppFR/e5X0mSJG2bTwKRJElqjAFQkiSpMQZASZKkxhgAJUmSGmMAlCRJaowBUJIkqTEGQEmSpMYYACVJkhpjAJQkSWqMAVCSJKkxBkBJkqTGGAAlSZIaYwCUJElqjAFQkiSpMQZASZKkxhgAJUmSGmMAlCRJaowBUJIkqTEGQEmSpMYYACVJkhpjAJQkSWqMAVCSJKkxBkBJkqTGGAAlSZIaYwCUJElqjAFQkiSpMQZASZKkxhgAJUmSGmMAlCRJaowBUJIkqTEGQEmSpMYs77PxJF8BvgXcD9xXVauT7ANcABwMfAV4QVV9vc86JEmS9EPjGAF8dlWtqqrV3fSZwPqqOgRY301LkiRpTBbiEPAJwLru8zrgxAWoQZIkqVl9B8ACPprkhiRru3n7VdUmgO593+k2TLI2yYYkGyYmJnouU5IkqR29ngMIHFVVdybZF7giya2jblhV5wDnAKxevbr6KlCSJKk1vY4AVtWd3fsW4BLgCGBzkpUA3fuWPmuQJEnSA/UWAJM8LMkek5+BnwU+B1wGrOlWWwNc2lcNkiRJ2lqfh4D3Ay5JMrmf91XV5Uk+BVyY5HTga8DJPdYgSZKkKXoLgFX1ZeCwaebfDRzd134lSZI0M58EIkmS1BgDoCRJUmMMgJIkSY0xAEqSJDXGAChJktQYA6AkSVJjDICSJEmNMQBKkiQ1xgAoSZLUGAOgJElSYwyAkiRJjTEASpIkNcYAKEmS1BgDoCRJUmMMgJIkSY0xAEqSJDXGAChJktQYA6AkSVJjDICSJEmNMQBKkiQ1xgAoSZLUGAOgJElSYwyAkiRJjTEASpIkNcYAKEmS1BgDoCRJUmNGCoBJjhplniRJkha/UUcA/3LEeZIkSVrkls+0MMmRwFOBFUl+e2jRnsCyPguTJElSP2YMgMCuwO7densMzf8mcFJfRUmSJKk/MwbAqroGuCbJeVX11e3ZQZJlwAbg36rquUn2AS4ADga+Arygqr6+PW1LkiRp7kY9B/DBSc5J8tEkV06+Rtz2FcDGoekzgfVVdQiwvpuWJEnSmMx2CHjSB4F3AOcC94/aeJIDgF8A3gRMnkN4AvCs7vM64Grgd0ZtU5IkSTtm1AB4X1W9fTvaPxt4LQ88f3C/qtoEUFWbkuy7He1KkiRpO416CPhvk/xakpVJ9pl8zbRBkucCW6rqhu0pLMnaJBuSbJiYmNieJiRJkjSNUUcA13TvrxmaV8CjZtjmKOD4JD8P7AbsmeSvgc1JVnajfyuBLdNtXFXnAOcArF69ukasU5IkSbMYaQSwqh45zWum8EdV/W5VHVBVBwMvBK6sqhcDl/HDQLkGuHQH6pckSdIcjTQCmOQl082vqvdsxz7PAi5McjrwNeDk7WhDkiRJ22nUQ8CHD33eDTgauBEYKQBW1dUMrvalqu7utpckSdICGCkAVtUZw9NJfgR4by8VSZIkqVejXgU81XeBQ+azEEmSJI3HqOcA/i2Dq34BlgGPAS7sqyhJkiT1Z9RzAP9s6PN9wFer6o4e6pEkSVLPRr0NzDXArQye6LE3cG+fRUmSJKk/IwXAJC8APsngli0vAK5PclKfhUmSJKkfox4Cfh1weFVtAUiyAvhH4KK+CpMkSVI/Rr0K+EGT4a9z9xy2lSRJ0iIy6gjg5Uk+Ary/mz4F+Pt+SpIkSVKfZgyASX4c2K+qXpPkl4CnAQGuA84fQ32SJEmaZ7Mdxj0b+BZAVV1cVb9dVb/FYPTv7H5LkyRJUh9mC4AHV9XNU2dW1Qbg4F4qkiRJUq9mC4C7zbDsIfNZiCRJksZjtgD4qSS/OnVmktOBG/opSZIkSX2a7SrgVwKXJDmVHwa+1cCuwPN6rEuSJEk9mTEAVtVm4KlJng08rpv9d1V1Ze+VSZIkqRcj3Qewqq4Cruq5FkmSJI2BT/OQJElqjAFQkiSpMQZASZKkxhgAJUmSGmMAlCRJaowBUJIkqTEGQEmSpMYYACVJkhpjAJQkSWqMAVCSJKkxBkBJkqTGGAAlSZIaYwCUJElqjAFQkiSpMb0FwCS7Jflkks8kuSXJH3Xz90lyRZLbuve9+6pBkiRJW+tzBPD7wM9U1WHAKuDYJE8BzgTWV9UhwPpuWpIkSWPSWwCsgW93k7t0rwJOANZ189cBJ/ZVgyRJkrbW6zmASZYluQnYAlxRVdcD+1XVJoDufd9tbLs2yYYkGyYmJvosU5IkqSm9BsCqur+qVgEHAEckedwctj2nqlZX1eoVK1b0VqMkSVJrxnIVcFXdA1wNHAtsTrISoHvfMo4aJEmSNNDnVcArkuzVfX4I8BzgVuAyYE232hrg0r5qkCRJ0taW99j2SmBdkmUMguaFVfXhJNcBFyY5HfgacHKPNUiSJGmK3gJgVd0MPGGa+XcDR/e1X0mSJM3MJ4FIkiQ1xgAoSZLUGAOgJElSYwyAkiRJjTEASpIkNcYAKEmS1BgDoCRJUmMMgJIkSY0xAEqSJDXGAChJktQYA6AkSVJjDICSJEmNMQBKkiQ1xgAoSZLUGAOgJElSYwyAkiRJjTEASpIkNcYAKEmS1BgDoCRJUmMMgJIkSY0xAEqSJDXGAChJktQYA6AkSVJjDICSJEmNMQBKkiQ1xgAoSZLUGAOgJElSYwyAkiRJjTEASpIkNcYAKEmS1JjeAmCSA5NclWRjkluSvKKbv0+SK5Lc1r3v3VcNkiRJ2lqfI4D3Aa+qqscATwF+PcljgTOB9VV1CLC+m5YkSdKY9BYAq2pTVd3Yff4WsBHYHzgBWNettg44sa8aJEmStLWxnAOY5GDgCcD1wH5VtQkGIRHYdxw1SJIkaaD3AJhkd+BDwCur6ptz2G5tkg1JNkxMTPRXoCRJUmN6DYBJdmEQ/s6vqou72ZuTrOyWrwS2TLdtVZ1TVauravWKFSv6LFOSJKkpfV4FHOCdwMaq+vOhRZcBa7rPa4BL+6pBkiRJW1veY9tHAacBn01yUzfvfwJnARcmOR34GnByjzVIkiRpit4CYFV9HMg2Fh/d134lSZI0M58EIkmS1BgDoCRJUmMMgJIkSY0xAEqSJDXGAChJktQYA6AkSVJjDICSJEmNMQBKkiQ1xgAoSZLUGAOgJElSYwyAkiRJjTEASpIkNcYAKEmS1BgDoCRJUmMMgJIkSY0xAEqSJDXGAChJktQYA6AkSVJjDICSJEmNMQBKkiQ1xgAoSZLUGAOgJElSYwyAkiRJjTEASpIkNcYAKEmS1BgDoCRJUmMMgJIkSY0xAEqSJDXGAChJktQYA6AkSVJjDICSJEmN6S0AJnlXki1JPjc0b58kVyS5rXvfu6/9S5IkaXp9jgCeBxw7Zd6ZwPqqOgRY301LkiRpjHoLgFX1MeA/psw+AVjXfV4HnNjX/iVJkjS9cZ8DuF9VbQLo3vfd1opJ1ibZkGTDxMTE2AqUJEla6hbtRSBVdU5Vra6q1StWrFjociRJkpaMcQfAzUlWAnTvW8a8f0mSpOaNOwBeBqzpPq8BLh3z/iVJkprX521g3g9cBxya5I4kpwNnAcckuQ04ppuWJEnSGC3vq+GqetE2Fh3d1z4lSZI0u0V7EYgkSZL6YQCUJElqjAFQkhbag5aTZIde+x940EJ/C6lX+x94kL8n86i3cwAlSSP6wX2c8lfX7lATF7zsqfNUjLQ43XnH7f6ezCNHACVJkhpjAJQkSWqMAVCSJKkxBkBJkqTGGAAlSZIaYwCUJElqjAFQUrPm475iS4n3WZPa4X0AJTXL+4o9kP0htcMRQEmSpMYYACVJkhpjAJQkSWqMAVCSJKkxBkBJkqTGGAAlSZIaYwCUNGfzcb+45bvutuBtaPHxXoTzb0f7dD5+V/03WXy8D6CkOZuv+8UtdBves27x8V6E829H+3S+fle1uDgCKEmS1BgDoCRJUmMMgFN4/okWM38+tU0PWr7DPxtLxjz0hb8nWuo8B3AKzz/RYubPp7bpB/f5szHJvpBm5QigJElSYwyAkiRJjfEQsDSi/Q88iDvvuH27t1+2y4O5/z+/P48VSYtQd/6dpMXNACiNyHtpSSPYwfPv/BmXxsNDwJIkSY0xAEqSJDXGAChJ0lSL5F6C83Hvz0Vhsdynch7qWCrPRl6QcwCTHAu8BVgGnFtVZy1EHZIkTWuR3Etwydz7c5H053zVsSi+yw4a+whgkmXA/wGOAx4LvCjJY8ddhyRJUqsW4hDwEcAXq+rLVXUv8AHghAWoQ5IkqUmpqvHuMDkJOLaqfqWbPg14clX9xpT11gJru8lDgS+MqcSHA3eNaV8ts5/7Zx+Ph/08HvbzeNjP4zHOfr6rqo6dOnMhzgGc7kzOrVJoVZ0DnNN/OQ+UZENVrR73fltjP/fPPh4P+3k87OfxsJ/HYzH080IcAr4DOHBo+gDgzgWoQ5IkqUkLEQA/BRyS5JFJdgVeCFy2AHVIkiQ1aeyHgKvqviS/AXyEwW1g3lVVt4y7jhmM/bBzo+zn/tnH42E/j4f9PB7283gseD+P/SIQSZIkLSyfBCJJktQYA6AkSVJjmg+ASfZJckWS27r3vbex3l5JLkpya5KNSY4cd607s1H7uVt3WZJPJ/nwOGvc2Y3Sx0kOTHJV9zN8S5JXLEStO6Mkxyb5QpIvJjlzmuVJ8hfd8puTPHEh6tzZjdDPp3b9e3OSa5McthB17sxm6+Oh9Q5Pcn93/17N0Sj9nORZSW7q/h5fM876mg+AwJnA+qo6BFjfTU/nLcDlVfWTwGHAxjHVt1SM2s8Ar8D+3R6j9PF9wKuq6jHAU4Bf91GMsxvxEZbHAYd0r7XA28da5BIwYj//K/DMqno88McsgpPpdyajPo61W+9PGFywqTkapZ+T7AW8DTi+qn4KOHmcNRoAB4+hW9d9XgecOHWFJHsCzwDeCVBV91bVPWOqb6mYtZ8BkhwA/AJw7njKWlJm7eOq2lRVN3afv8UgaO8/rgJ3YqM8wvIE4D018AlgryQrx13oTm7Wfq6qa6vq693kJxjcS1ajG/VxrGcAHwK2jLO4JWSUfv7vwMVV9TWAqhprXxsAYb+q2gSD/zgC+06zzqOACeDd3aHJc5M8bJxFLgGj9DPA2cBrgR+Mqa6lZNQ+BiDJwcATgOv7L22ntz9w+9D0HWwdnEdZRzObax+eDvxDrxUtPbP2cZL9gecB7xhjXUvNKD/LPwHsneTqJDckecnYqmNhHgU3dkn+Efhv0yx63YhNLAeeCJxRVdcneQuDw2u/P08lLgk72s9JngtsqaobkjxrHktbMubhZ3mynd0Z/N/9K6vqm/NR2xI3yiMsR3rMpWY0ch8meTaDAPi0Xitaekbp47OB36mq+5PpVtcIRunn5cCTgKOBhwDXJflEVf1L38VN7nzJq6rnbGtZks1JVlbVpu5wzXRDsHcAd1TV5EjJRcx8DluT5qGfjwKOT/LzwG7Ankn+uqpe3FPJO5156GOS7MIg/J1fVRf3VOpSM8ojLH3M5Y4bqQ+TPJ7BaSLHVdXdY6ptqRilj1cDH+jC38OBn09yX1X9zVgqXBpG/ZtxV1V9B/hOko8xuMZgLAHQQ8CDx9Ct6T6vAS6dukJV/Ttwe5JDu1lHA58fT3lLxij9/LtVdUBVHczgEYFXGv7mZNY+zuAv+juBjVX152OsbWc3yiMsLwNe0l0N/BTgG5OH5DWyWfs5yUHAxcBp4xopWWJm7eOqemRVHdz9Lb4I+DXD35yN8jfjUuDpSZYneSjwZMZ4AaQBEM4CjklyG3BMN02SRyT5+6H1zgDOT3IzsAr4X+MudCc3aj9r+43Sx0cBpwE/09164KZuxFUzqKr7gMlHWG4ELqyqW5K8PMnLu9X+Hvgy8EXg/wK/tiDF7sRG7OfXAz8KvK37+d2wQOXulEbsY+2gUfq5qjYClwM3A58Ezq2qz42rRh8FJ0mS1BhHACVJkhpjAJQkSWqMAVCSJKkxBkBJkqTGGAAlSZIaYwCUNCdJXpfkliQ3d7fhePJ2trNqoW5Bk+TgJN/r6v98knck2ebfwyR/mOTVc9zH8UnO7D6fOPVB8CO2cXaSZyS5pKv1i0m+MXQLn6fOoa2XJnnE0PRXkjx8mvVm/a7do6tWTzP/uUn+aNSaJC0cA6CkkSU5Engu8MSqejzwHB74vMu5WAUs5D0Iv1RVq4DHA48FTpyvhpMsr6rLquqsbtaJ3T7m0sY+wFOq6mNV9byu1l8B/qmqVnWva+fQ5EuBR8y20g76OwZP83loz/uRtIMMgJLmYiWDRxd9H6Cq7qqqOwGSPCnJNd1DzT/SPY5ucrToT5J8Msm/JHl6d2f8NwCndCNZpyR5WJJ3JflUkk8nOaHb/qVJLk5yeZLbkvzpZDFJjk1yY5LPJFnfzZu2nW3pbth6LfDjSX4syfpudHN999SJB0jyq13bn0nyocmwk+S8JH+e5CrgT7q639qN0h0P/O/uuz46yY1D7R2S5IZpSjuJwU1ip5VkRbf/T3Wvo7r5l6Z7qHySlyU5P8lJDB7vdX5Xw0O6Zl7T/bt8MsmPT7OPVUk+0fXHJUn2Hlr84iTXJvlckiO6vizgagb/kyBpETMASpqLjwIHdkHubUmeCf/1fOG/BE6qqicB7wLeNLTd8qo6Angl8AdVdS+DJzpc0I1kXQC8jsHj/w4Hns0gMD2s234VcArw0wxC44FJVjB44sbzq+ow4ORu3Zna2UoX4I4GPgu8FXhPN7p5PvAX02xycVUd3u1zI3D60LKfAJ5TVa+anNGN0l0GvKb7rl8CvpFkVbfKLwPnTbOfo4DpguGktwBv7r7n8xk8GxdgLfD6JE8HXgWcUVUXARuAU7savtet+83u3+WtwNnT7OM9wO90/fFZ4A+Glj2sqp7K4Ikn7xqavwF4+gx1S1oEli90AZJ2HlX17SRPYvAf+GcDF3TnuW0AHgdckcED5JcBw8/Bvbh7vwE4eBvN/yyDw4eT55/tBkyOwK2vqm8AJPk88GPA3sDHqupfu9r+Y5Z2pj5j89FJbgIKuLSq/iHJe4Ff6pa/F/hTtva4JG8E9gJ2Z/Cop0kfrKr7t/H9hp0L/HKS32YQbI+YZp2VwMQMbTwHeGzX3wB7JtmjqjYneT1wFfC8oX6ZzvuH3t88vCDJjwB7VdU13ax1wAenbltVH0uyZ5K9quoeYAv9H2qWtIMMgJLmpAs4VwNXJ/kssIZBsLulqo7cxmbf797vZ9t/d8JgNO8LD5g5uMjk+0OzJtsIg/A2UjvTmDwHcCbTtX8ecGJVfSbJS4FnDS37ziztTfoQg9G0K4Ebquruadb5HoPwui0PAo4cGs0b9tPA3cwexGobn0cxdf3J6d0Y1C5pEfMQsKSRJTk0ySFDs1YBXwW+AKzoLhIhyS5JfmqW5r4F7DE0/RHgjHRDWkmeMMv21wHPTPLIbv19trOdYdcCL+w+nwp8fJp19gA2dYe9Tx2x3Qd816r6f12dbwfevY1tNgJbnZc35KMMHjYPDM7X696PAI4DngC8erJ/ptbQOWXo/brhBd2I69e7Q8kApwHXTN02ydOAb0yO0DI4DD62B9pL2j4GQElzsTuwLoNbp9zM4MrWP+zO6TuJwcUPnwFuAma7RclVDA5h3pTkFOCPgV2Am5N8rpvepqqaYHC+28XdPi/oFs2pnSl+k8Gh2ZsZBJ5XTLPO7wPXA1cAt47Y7gcYXHDx6SSP7uadz2DU7KPb2ObveODo4nS1ru4u0Pg88PIkD2ZwXuT/6C7OeRXwri4Mnwe8Y8pFIA9Ocn33PX9rmn2sYXAO5c0Mwv4bhpZ9Pcm1wDt44HmQz+5ql7SIZXDRliRpnLpzFH+kqn5/hnU+Djy3O7du0UuyH/C+qjp6oWuRNDMDoCSNWZJLgEcDP1NVd82w3pOB71XVzWMrbgckORz4z6q6aaFrkTQzA6AkSVJjPAdQkiSpMQZASZKkxhgAJUmSGmMAlCRJaowBUJIkqTH/HwYiiit3yAr1AAAAAElFTkSuQmCC\n",
      "text/plain": [
       "<Figure size 648x360 with 1 Axes>"
      ]
     },
     "metadata": {
      "needs_background": "light"
     },
     "output_type": "display_data"
    },
    {
     "data": {
      "image/png": "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\n",
      "text/plain": [
       "<Figure size 648x360 with 1 Axes>"
      ]
     },
     "metadata": {
      "needs_background": "light"
     },
     "output_type": "display_data"
    },
    {
     "data": {
      "image/png": "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\n",
      "text/plain": [
       "<Figure size 648x360 with 1 Axes>"
      ]
     },
     "metadata": {
      "needs_background": "light"
     },
     "output_type": "display_data"
    },
    {
     "data": {
      "image/png": "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\n",
      "text/plain": [
       "<Figure size 648x360 with 1 Axes>"
      ]
     },
     "metadata": {
      "needs_background": "light"
     },
     "output_type": "display_data"
    }
   ],
   "source": [
    "sns.displot(df_textblob_fox[\"Polarity\"], height= 5, aspect=1.8)\n",
    "plt.xlabel(\"Sentence Polarity (Textblob)\")\n",
    "plt.title(\"Fox Polarity\")\n",
    "\n",
    "sns.displot(df_textblob_nbc[\"Polarity\"], height= 5, aspect=1.8)\n",
    "plt.xlabel(\"Sentence Polarity (Textblob)\")\n",
    "plt.title(\"NBC Polarity\")\n",
    "\n",
    "sns.displot(df_textblob_nyt[\"Polarity\"], height= 5, aspect=1.8)\n",
    "plt.xlabel(\"Sentence Polarity (Textblob)\")\n",
    "plt.title(\"NYT Polarity\")\n",
    "\n",
    "sns.displot(df_textblob_nypost[\"Polarity\"], height= 5, aspect=1.8)\n",
    "plt.xlabel(\"Sentence Polarity (Textblob)\")\n",
    "plt.title(\"NY Post Polarity\")"
   ]
  },
  {
   "cell_type": "code",
   "execution_count": 18,
   "metadata": {},
   "outputs": [
    {
     "data": {
      "text/plain": [
       "Text(0.5, 1.0, 'NY Post Subjectivity')"
      ]
     },
     "execution_count": 18,
     "metadata": {},
     "output_type": "execute_result"
    },
    {
     "data": {
      "image/png": "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\n",
      "text/plain": [
       "<Figure size 648x360 with 1 Axes>"
      ]
     },
     "metadata": {
      "needs_background": "light"
     },
     "output_type": "display_data"
    },
    {
     "data": {
      "image/png": "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\n",
      "text/plain": [
       "<Figure size 648x360 with 1 Axes>"
      ]
     },
     "metadata": {
      "needs_background": "light"
     },
     "output_type": "display_data"
    },
    {
     "data": {
      "image/png": "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\n",
      "text/plain": [
       "<Figure size 648x360 with 1 Axes>"
      ]
     },
     "metadata": {
      "needs_background": "light"
     },
     "output_type": "display_data"
    },
    {
     "data": {
      "image/png": "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\n",
      "text/plain": [
       "<Figure size 648x360 with 1 Axes>"
      ]
     },
     "metadata": {
      "needs_background": "light"
     },
     "output_type": "display_data"
    }
   ],
   "source": [
    "sns.displot(df_textblob_fox[\"Subjectivity\"], height= 5, aspect=1.8)\n",
    "plt.xlabel(\"Sentence Subjectivity (Textblob)\")\n",
    "plt.title(\"Fox Subjectivity\")\n",
    "\n",
    "sns.displot(df_textblob_nbc[\"Subjectivity\"], height= 5, aspect=1.8)\n",
    "plt.xlabel(\"Sentence Subjectivity (Textblob)\")\n",
    "plt.title(\"NBC Subjectivity\")\n",
    "\n",
    "sns.displot(df_textblob_nyt[\"Subjectivity\"], height= 5, aspect=1.8)\n",
    "plt.xlabel(\"Sentence Subjectivity (Textblob)\")\n",
    "plt.title(\"NYT Subjectivity\")\n",
    "\n",
    "sns.displot(df_textblob_nypost[\"Subjectivity\"], height= 5, aspect=1.8)\n",
    "plt.xlabel(\"Sentence Subjectivity (Textblob)\")\n",
    "plt.title(\"NY Post Subjectivity\")"
   ]
  },
  {
   "cell_type": "code",
   "execution_count": 19,
   "metadata": {},
   "outputs": [],
   "source": [
    "cols = ['Subjectivity','Polarity']\n",
    "df_textblob_fox[cols] = df_textblob_fox[df_textblob_fox[cols] != 0][cols]\n",
    "df_textblob_fox=df_textblob_fox.dropna()\n",
    "\n",
    "df_textblob_nbc[cols] = df_textblob_nbc[df_textblob_nbc[cols] != 0][cols]\n",
    "df_textblob_nbc=df_textblob_nbc.dropna()\n",
    "\n",
    "df_textblob_nyt[cols] = df_textblob_nyt[df_textblob_nyt[cols] != 0][cols]\n",
    "df_textblob_nyt=df_textblob_nyt.dropna()\n",
    "\n",
    "df_textblob_nypost[cols] = df_textblob_nypost[df_textblob_nypost[cols] != 0][cols]\n",
    "df_textblob_nypost=df_textblob_nypost.dropna()\n",
    "\n",
    "df_textblob_fox['SOURCE']='FOX'\n",
    "df_textblob_nbc['SOURCE']='NBC'\n",
    "df_textblob_nyt['SOURCE']='NYT'\n",
    "df_textblob_nypost['SOURCE']='NY Post'\n",
    "\n",
    "\n",
    "\n",
    "df_textblob_fox['Sentence']=df_textblob_fox['Sentence'].str.upper()\n",
    "df_textblob_nbc['Sentence']=df_textblob_nbc['Sentence'].str.upper()\n",
    "df_textblob_nyt['Sentence']=df_textblob_nyt['Sentence'].str.upper()\n",
    "df_textblob_nypost['Sentence']=df_textblob_nypost['Sentence'].str.upper()\n",
    "\n",
    "\n",
    "\n",
    "fox_trump=df_textblob_fox[df_textblob_fox['Sentence'].str.contains(\"TRUMP\")]\n",
    "nbc_trump=df_textblob_nbc[df_textblob_nbc['Sentence'].str.contains(\"TRUMP\")]\n",
    "nyt_trump=df_textblob_nyt[df_textblob_nyt['Sentence'].str.contains(\"TRUMP\")]\n",
    "nyp_trump=df_textblob_nypost[df_textblob_nypost['Sentence'].str.contains(\"TRUMP\")]\n",
    "\n",
    "\n",
    "fox_biden=df_textblob_fox[df_textblob_fox['Sentence'].str.contains(\"BIDEN\")]\n",
    "nbc_biden=df_textblob_nbc[df_textblob_nbc['Sentence'].str.contains(\"BIDEN\")]\n",
    "nyt_biden=df_textblob_nyt[df_textblob_nyt['Sentence'].str.contains(\"BIDEN\")]\n",
    "nyp_biden=df_textblob_nypost[df_textblob_nypost['Sentence'].str.contains(\"BIDEN\")]\n",
    "\n",
    "fox_dem=df_textblob_fox[df_textblob_fox['Sentence'].str.contains(\"DEMOCRAT\")]\n",
    "nbc_dem=df_textblob_nbc[df_textblob_nbc['Sentence'].str.contains(\"DEMOCRAT\")]\n",
    "nyt_dem=df_textblob_nyt[df_textblob_nyt['Sentence'].str.contains(\"DEMOCRAT\")]\n",
    "nyp_dem=df_textblob_nypost[df_textblob_nypost['Sentence'].str.contains(\"DEMOCRAT\")]\n",
    "\n",
    "fox_rep=df_textblob_fox[df_textblob_fox['Sentence'].str.contains(\"REPUBLICAN\")]\n",
    "nbc_rep=df_textblob_nbc[df_textblob_nbc['Sentence'].str.contains(\"REPUBLICAN\")]\n",
    "nyt_rep=df_textblob_nyt[df_textblob_nyt['Sentence'].str.contains(\"REPUBLICAN\")]\n",
    "nyp_rep=df_textblob_nypost[df_textblob_nypost['Sentence'].str.contains(\"REPUBLICAN\")]\n",
    "\n",
    "fox_roe=df_textblob_fox[df_textblob_fox['Sentence'].str.contains(\"ROE \")]\n",
    "nbc_roe=df_textblob_nbc[df_textblob_nbc['Sentence'].str.contains(\"ROE \")]\n",
    "nyt_roe=df_textblob_nyt[df_textblob_nyt['Sentence'].str.contains(\"ROE \")]\n",
    "nyp_roe=df_textblob_nypost[df_textblob_nypost['Sentence'].str.contains(\"ROE \")]\n",
    "\n",
    "fox_trans=df_textblob_fox[df_textblob_fox['Sentence'].str.contains(\"TRANSGENDER\")]\n",
    "nbc_trans=df_textblob_nbc[df_textblob_nbc['Sentence'].str.contains(\"TRANSGENDER\")]\n",
    "nyt_trans=df_textblob_nyt[df_textblob_nyt['Sentence'].str.contains(\"TRANSGENDER\")]\n",
    "nyp_trans=df_textblob_nypost[df_textblob_nypost['Sentence'].str.contains(\"TRANSGENDER\")]\n",
    "\n",
    "\n",
    "fox_cc=df_textblob_fox[df_textblob_fox['Sentence'].str.contains(\"CLIMATE CHANGE\")]\n",
    "nbc_cc=df_textblob_nbc[df_textblob_nbc['Sentence'].str.contains(\"CLIMATE CHANGE\")]\n",
    "nyt_cc=df_textblob_nyt[df_textblob_nyt['Sentence'].str.contains(\"CLIMATE CHANGE\")]\n",
    "nyp_cc=df_textblob_nypost[df_textblob_nypost['Sentence'].str.contains(\"CLIMATE CHANGE\")]\n",
    "\n",
    "fox_covid=df_textblob_fox[df_textblob_fox['Sentence'].str.contains(\"COVID\")]\n",
    "nbc_covid=df_textblob_nbc[df_textblob_nbc['Sentence'].str.contains(\"COVID\")]\n",
    "nyt_covid=df_textblob_nyt[df_textblob_nyt['Sentence'].str.contains(\"COVID\")]\n",
    "nyp_covid=df_textblob_nypost[df_textblob_nypost['Sentence'].str.contains(\"COVID\")]\n",
    "\n",
    "fox_mask=df_textblob_fox[df_textblob_fox['Sentence'].str.contains(\"MASK\")]\n",
    "nbc_mask=df_textblob_nbc[df_textblob_nbc['Sentence'].str.contains(\"MASK\")]\n",
    "nyt_mask=df_textblob_nyt[df_textblob_nyt['Sentence'].str.contains(\"MASK\")]\n",
    "nyp_mask=df_textblob_nypost[df_textblob_nypost['Sentence'].str.contains(\"MASK\")]\n",
    "\n",
    "fox_vax=df_textblob_fox[df_textblob_fox['Sentence'].str.contains(\"VACCIN\")]\n",
    "nbc_vax=df_textblob_nbc[df_textblob_nbc['Sentence'].str.contains(\"VACCIN\")]\n",
    "nyt_vax=df_textblob_nyt[df_textblob_nyt['Sentence'].str.contains(\"VACCIN\")]\n",
    "nyp_vax=df_textblob_nypost[df_textblob_nypost['Sentence'].str.contains(\"VACCIN\")]\n",
    "\n",
    "fox_cdc=df_textblob_fox[df_textblob_fox['Sentence'].str.contains(\"CDC\")]\n",
    "nbc_cdc=df_textblob_nbc[df_textblob_nbc['Sentence'].str.contains(\"CDC\")]\n",
    "nyt_cdc=df_textblob_nyt[df_textblob_nyt['Sentence'].str.contains(\"CDC\")]\n",
    "nyp_cdc=df_textblob_nypost[df_textblob_nypost['Sentence'].str.contains(\"CDC\")]\n",
    "\n",
    "fox_fauci=df_textblob_fox[df_textblob_fox['Sentence'].str.contains(\"FAUCI\")]\n",
    "nbc_fauci=df_textblob_nbc[df_textblob_nbc['Sentence'].str.contains(\"FAUCI\")]\n",
    "nyt_fauci=df_textblob_nyt[df_textblob_nyt['Sentence'].str.contains(\"FAUCI\")]\n",
    "nyp_fauci=df_textblob_nypost[df_textblob_nypost['Sentence'].str.contains(\"FAUCI\")]\n",
    "\n",
    "\n",
    "\n",
    "\n",
    "\n"
   ]
  },
  {
   "cell_type": "code",
   "execution_count": 20,
   "metadata": {},
   "outputs": [],
   "source": [
    "trump=fox_trump.append(nbc_trump.append(nyt_trump.append(nyp_trump)))\n",
    "trump['TOPIC']='TRUMP'\n",
    "\n",
    "biden=fox_biden.append(nbc_biden.append(nyt_biden.append(nyp_biden)))\n",
    "biden['TOPIC']='BIDEN'\n",
    "\n",
    "dem=fox_dem.append(nbc_dem.append(nyt_dem.append(nyp_dem)))\n",
    "dem['TOPIC']='DEMOCRAT'\n",
    "\n",
    "rep=fox_rep.append(nbc_rep.append(nyt_rep.append(nyp_rep)))\n",
    "rep['TOPIC']='REPUBLICAN'\n",
    "\n",
    "roe=fox_roe.append(nbc_roe.append(nyt_roe.append(nyp_roe)))\n",
    "roe['TOPIC']='ROE'\n",
    "\n",
    "trans=fox_trans.append(nbc_trans.append(nyt_trans.append(nyp_trans)))\n",
    "trans['TOPIC']='TRANSGENDER'\n",
    "\n",
    "cc=fox_cc.append(nbc_cc.append(nyt_cc.append(nyp_cc)))\n",
    "cc['TOPIC']='CLIMATE CHANGE'\n",
    "\n",
    "covid=fox_covid.append(nbc_covid.append(nyt_covid.append(nyp_covid)))\n",
    "covid['TOPIC']='COVID'\n",
    "\n",
    "mask=fox_mask.append(nbc_mask.append(nyt_mask.append(nyp_mask)))\n",
    "mask['TOPIC']='MASK'\n",
    "\n",
    "cdc=fox_cdc.append(nbc_cdc.append(nyt_cdc.append(nyp_cdc)))\n",
    "cdc['TOPIC']='CDC'\n",
    "\n",
    "vax=fox_vax.append(nbc_vax.append(nyt_vax.append(nyp_vax)))\n",
    "vax['TOPIC']='VACCINE'\n",
    "\n",
    "fauci=fox_fauci.append(nbc_fauci.append(nyt_fauci.append(nyp_fauci)))\n",
    "fauci['TOPIC']='FAUCI'\n",
    "\n",
    "\n",
    "sentiment = trump.append(biden)\n",
    "\n",
    "\n",
    "sentiment2=rep.append(dem)\n",
    "\n",
    "\n",
    "\n"
   ]
  },
  {
   "cell_type": "markdown",
   "metadata": {},
   "source": [
    "# Plotting Sentiment on Presdential Names, Political Party and Row vs Wade\n",
    "\n",
    "Below we will plot the subjectivity and polarity of headlines that had the phrases Biden or Trump in the first plot, and headlines that were focused on Roe vs Wade in the second.\n",
    "\n",
    "In both cases the further to the right on the x-axis the more positive the sentiment and the higher up on the y axis the more subjective the sentiment. Being in the lower left of the plot indicates the news outlet is being more objective and neutral when having headlines with these key words. \n",
    "\n",
    "We can see a similar pattern to what we discoviered above in the first plot. Both Fox and the NY Post tend to have more extremes in both polarity and subjectivity when discussing presidents while the New York Times is notable for not having any plots of plarity greater than .25 or subjectivity greater than 0.6.\n",
    "\n",
    "Interestingly in the Roe vs Wade plot the NYT has the most subjective and polarizing headline of any of those examined with polarity > 0.6 and subjectivity > 0.8\n",
    "\n",
    "For the plot on political party there is a lot more even spread of sentiment amongst the news outlets which makes sense given the key words are less inflamatory and could be spoken about in any light."
   ]
  },
  {
   "cell_type": "code",
   "execution_count": 21,
   "metadata": {},
   "outputs": [
    {
     "data": {
      "text/plain": [
       "<matplotlib.legend.Legend at 0x7fd23bcfd250>"
      ]
     },
     "execution_count": 21,
     "metadata": {},
     "output_type": "execute_result"
    },
    {
     "data": {
      "image/png": "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\n",
      "text/plain": [
       "<Figure size 432x288 with 1 Axes>"
      ]
     },
     "metadata": {
      "needs_background": "light"
     },
     "output_type": "display_data"
    }
   ],
   "source": [
    "\n",
    "sns.scatterplot(data=sentiment, x=\"Polarity\", y=\"Subjectivity\", hue=\"SOURCE\", style = \"TOPIC\").set(title='Subjectivity and Polarity of News Sources and Presidential key terms')\n",
    "plt.legend(bbox_to_anchor=(1.02, 1), loc='upper left', borderaxespad=0)"
   ]
  },
  {
   "cell_type": "code",
   "execution_count": 22,
   "metadata": {},
   "outputs": [
    {
     "data": {
      "text/plain": [
       "<matplotlib.legend.Legend at 0x7fd23bef3d90>"
      ]
     },
     "execution_count": 22,
     "metadata": {},
     "output_type": "execute_result"
    },
    {
     "data": {
      "image/png": "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\n",
      "text/plain": [
       "<Figure size 432x288 with 1 Axes>"
      ]
     },
     "metadata": {
      "needs_background": "light"
     },
     "output_type": "display_data"
    }
   ],
   "source": [
    "\n",
    "sns.scatterplot(data=sentiment2, x=\"Polarity\", y=\"Subjectivity\", hue=\"SOURCE\", style = \"TOPIC\").set(title='Subjectivity and Polarity of News Sources and Presidential key terms')\n",
    "plt.legend(bbox_to_anchor=(1.02, 1), loc='upper left', borderaxespad=0)"
   ]
  },
  {
   "cell_type": "code",
   "execution_count": 23,
   "metadata": {},
   "outputs": [
    {
     "data": {
      "text/plain": [
       "<matplotlib.legend.Legend at 0x7fd25177ec10>"
      ]
     },
     "execution_count": 23,
     "metadata": {},
     "output_type": "execute_result"
    },
    {
     "data": {
      "image/png": "iVBORw0KGgoAAAANSUhEUgAAAcIAAAEWCAYAAAD1t5d8AAAAOXRFWHRTb2Z0d2FyZQBNYXRwbG90bGliIHZlcnNpb24zLjMuMiwgaHR0cHM6Ly9tYXRwbG90bGliLm9yZy8vihELAAAACXBIWXMAAAsTAAALEwEAmpwYAAAxIElEQVR4nO3de5xVdb3/8dd7ZmBEAREYQO6oKIIXihG1SC211FKzY0e08ljeyFNaWolmHcs07XYs0/iZetIMb2lmHgo9XbyboIkKouCdmww3uQoM8/n9sdbonmHvmT0we/bM7Pfz8ZjHrPVda6/1+e611/qs9V03RQRmZmalqqzYAZiZmRWTE6GZmZU0J0IzMytpToRmZlbSnAjNzKykORGamVlJ6xSJUNI/JJ2RY9hQSWsllbfyPPOerqQpkr7TmvNvDZKGSwpJFa083dclHbEdn18rabfWjCnHfLpJ+pOkdyTdVej5WeFIulTSrcWOo71raltZytpNIpQ0QdLj6UZphaTHJB2wvdONiDcjontEbNnO+Bps3Fsy3YiYFBGXpdM5TNKC7YmlraR13pAmprcl/Y+k7oWeb/q9vprG8BtJPyjQrE4E+gN9IuKzjQemG9eQ9NmMsoq0bHiBYmqSpNMlzZW0Jl0m/yupRzFi6SjSda4u/R2vkfSSpC8WO65sJB0saXXmDrakX+com1KcKDufdpEIJfUE7geuAXoDg4DvARuLGZcBcGxEdAc+CBwAXFKoGbX2kWkehgEvR0RtE+OsAL7f2i0K20LSocAVwMkR0QPYG7izAPORpHaxbWhFi9LfcU/g68CvJe1V5JiymQmUk6xv9T4CLGpUdgjwcBvG1am1lx/7ngARcVtEbImIDRHxQEQ8B1s3e+Ro0ttd0lPpEeUfJfXONq6knSXdKGmxpIWSftBoT+tMSS+me45zJH1Q0m+BocCf0r3Kb2VOV9JESTMzKyTp65LuS7t/k85nJ+DPwMB0OmslDZS0XlKfjM+Ok1QjqUvjL0rSeElPSFqV1uGXkrpmDA9JkyTNk7RS0rWSlA4rl/QTScskvQp8Mt8FFBEL09j3Sad1nKTZaRz/kLR3ts/lGe9/SpoHzMso20PSWcDngG+l39WfJH1T0t2N5nGNpKtzzH/vNL5VabzHpeXfA74LnJRO+/QcVf8LsAn4fI7pV6bf6ZvpEdoUSd3SYQ9J+re0e0Jar2PS/iMkPZt275GO+066bO7IEcsBwBMR8S+AiFgRETdHxJp0OjtLuiX97bwh6ZL6hNbcOpR+R5dLegxYD+wmaYykB5W00Lwt6eJ03DJJkyW9Imm5pDv1/vq2g6Rb0/JVkmZI6p/ju6ufRv26dkLGsNMkPZp+tyslvSbp6IzhI9LvbI2kB4G+Ob6zBiIxjWQHZ7+MZXi1pEXp39WSKjPm9SlJz6b1eVzSfjnqM0XSTxqV/VHS+Wn3hUq2OfVHpYdniW8z8CRJokNSP6ArcEejsj2Bh/NYv45U0oLwjqRfAmoU35eUbO9WSpouaVg+32OnExFF/yPZS1sO3AwcDezSaPilwK0Z/cOBACrS/n8AC0k20jsBd9ePn2Xce4H/l47XD3gKODsd9tl0OgeQ/GD2AIalw14HjsgWA7AjsAYYmTF8BjAx7f4N8IO0+zBgQaP6TQO+nNH/38A1Ob6rccBB6XyHAy8CX8sYHiRH171IkncNcFQ6bBIwFxhCcuT998zvJsu83qtz+pnZwGUkK+E64EigC/AtYD7QNcvn8on3wTSebhllezT+7tL+XdN590r7K4ClwLgs8XdJ47qYZGPysXQ57ZXtd5Xl85cCtwLHAa+m06tI4xuejnM1cF8afw/gT8AP02Hfr1+OaQyvAFdlDPt52n0b8G2SHdMdgAk54vkIsIGkteTDQGWj4bcAf0zjGA68DJzegnXoTWBMWscewGLggjSmHsCB6bhfI9lYDwYqSdan29JhZ6ffwY4kRzbjgJ456vNZYGBa75PS5bprOuw0YDNwZjqdL5McFSkd/gTws3T+h6TLNeuyJGOdS+d1HFAHfCBjWTxJsj2oAh4HLkuHfZDk93VgGsd/kPy+K7PM5xDgrYwYd0mX10Bgr3TYwIzvf/cc8f4X8Me0+8R0uR7ZqOzV5tYvkp2D1en4XUiOhGuBM9LhnyZZP/ZOP38J8HihtvPt+a/oAWQs/L1JNnoL0oV1H9A/HXYpza/EV2YMH02yF19Ow4TVn6S5tVvGuCcDf0+7pwPn5YjvdXIkwrT/VuC7afdIkhVzx7T/NzSdCE8CHku7y4ElwPg8v7evAX/I6A8yNqQkTWeT0+6/AZMyhn2c5hPhWmAV8AZwHdAN+A5wZ8Z4ZSQ7EIdl+67yiPdjjcbJmQjTsj8DZ6bdnwLm5JjXR9Lvsiyj7Dbg0my/qyyff2848E+SjfF7iZBkZ2kdGRs04GDgtbT7cOC5tPsvwBnAk2n/Q8Bn0u5bgOuBwXks76NJEs2qdNn8LP3NlJP8tkdnjHs28I8WrEPfb7Re/CtHDC8Ch2f070qStCqAL5Ekkv22YRvwLHB82n0aMD9j2I5pvANIdvBqgZ0yhk/NtSxJ1rm69DvbCGyh4c7YK8AxGf2fAF5Pu39FmhQzhr8EHJplPiLZmTgk7T8T+FvavQdJQj0C6NLM93AYyYGBgJ+n0+kOvJ1R9j/NrV/AqfW/t4z4FvB+Ivwz6Y5Sxnq8nnTnv5T+2kvTKBHxYkScFhGDSY7sBpLsbefrrYzuN0j2gBo3lwxLyxenTQmrSPZm+6XDh5CsFNtiKsnGA+AU4N6IWJ/nZ/8IjFZypeSRwDsR8VS2ESXtKel+SUskrSY5Z9S4nksyuteTrESQfKeNv6fmfDoiekXEsIg4JyLq93Df+2xE1KXTHbSN8b7V+HPNuJn3myo/D/w2x3gDgbfS+Oq9kS3OPFxCctS2Q0ZZFckG+umM39Nf0nJIjlr2TJsGx5IkvCGS+gLjef8cz7dINlJPKWm+/VKuICLizxFxLMkR6PEkCeMMku+0Kw2XaUvrmrkcmloXhgF/yKjziyTJpT/JspgO3J42M/5IWZr4ASSdmtHkuIpkvc/8bbz3O85Yl7qTLNeVEbEuY9zmfsuLIqIXSevTL0haB+o1+D2n3QMz6npBfYxpnEMyhr8nkmxyOw23A79Lh80nSVKXAksl3S5pq2mknkzruQ/JUeYjEbGWZPnUlz0Mza5fDdb3NL7MZTwM+HlGvVaQ/A63Zf3o0NpNIswUEXNJjgT2SYvWkWxw6g3I8rEhGd1DSfZQlzUa5y2SPcK+6ca9V0T0jIgxGcN3zxVWM2E/APSVNJZkRZia73Qi4l2SI7fPAV8g94Ydkj3UuSTNsD1JmtzUxPiZFrP197QtFpGsREBycUU63YVZxs0n3qa+22zD7gX2k7QPyRHh75qIc4gaXvgxNEecTYqIB0makc7JKF5G0vQ1JuP3tHMkF2XUb7yfBs4DXoiITSRHS+cDr0TEsnS8JRFxZkQMJDmKu07SHs3EUxcRfyU5yt8njWUzGculUV3zWYcyv+um1oW3gKMz6twrInaIiIURsTkivhcRo4EPkSyfUxtPID0X9WvgKyRX7fYCXiC/3/JiYBcl59zr5fVbjoiNwIXAvpI+nRY3+D2n01qUUdfLG9V1x4i4LccsbgNOTOt3IMlpmvp5T42ICem8ArgqR4zvkpxa+RRJU/HcdNAjadl+vL8T1dT61WB9z1hP671Fcloos27dIuLxHHXrtNpFIpQ0StIFkgan/UNIksmT6SjPAocouXdvZ+CiLJP5vKTRknYkafP/fTS6tSEiFpMkrJ9K6pme9N9dydV4ADcA31BysYqUXMRQv4K8DeS8ty2SKw9/D/yYZG/9wRyjvg30SeuR6RaSvfvjSJpZc+lB0u6/VtIokua6fN0JnCtpsKRdgMkt+Gzj6XxS0uHp3v4FJDsY2Vag7YkXsnzv6Ybi9yQ7G09FxJs5PvtPkgTwLUldJB0GHEuy174tvk1y9FYfRx3Jxvy/0wsYkDRI0icyPvMQycb+obT/H436kfTZ+t8+sJJkI7nVbTmSjldyYdYu6e9zPHAoSfPXFpLlcrmkHunv9nze/y09S/PrUKb7gQGSvqbkYpIekg5Mh01J5zMsjatK0vFp90cl7avkArTVJMk52y1GO6X1rEk/90Xe3/FtUkS8QXJ15fckdZU0gWS55iXdIfkpycVSkCSvS9J69E3L67+3XwOTJB2Yfuc7SfqkctyyEsmFTDUk25LpEbEqrd9ekj6m5CKcd0l2oJq69ephkiPIzHXq0bRsSUTUH603tX79LzBG0meUXBR1Lg13gKYAF0kak8a4szJuFSol7SIRkpxPOxD4p6R1JAnwBZINbP3e+B3AcyR72PdnmcZvSY4il5A0X52bY16nkjQhzSHZ6Pye5BwHEXEXcDnJBnYNyZFH7/RzPyRZWVZJ+kaOaU8lOQdwV+S4JD/du7sNeDWd1sC0/DGS8xjPRMTrOaYP8A2SJpc1JCtprisMs/k1SbPVLOAZ4J4WfPY9EfESSZPkNSRHIseS3GaxqZXjBbiRpNl4laR7M8pvBvaliaPnNJ7jSM6rLSM5x3lqxh52i6TLqHGT9YUkR4pPpk1T/0dyYUS9h0g2Vg/n6Ifk4qx/SlpLcm78vIh4LUsIK0nOF80j2fjdCvw4IuqPiL9KkvhfJdloTgVuSmPPZx3KrOsakmb6Y0nWqXnAR9PBP0/jfEDSGpL1tT5JDiBZp1aTNJk+RJYdu4iYQ5KMniDZ2dkXeKypmBo5JZ3nCpKLS25pwWch+V6GSjoW+AFJYn0OeJ5k3fhBGudMku/8lyTf/3ySHdam3EayHchsFaoEriT5HS4hOR1zcRPTeCgd59GMskfTsszfTs71K21x+Gw63+Uk1y48ljH8DyRHpbenv90XSNaVklN/dVOnpeS82zySiwLadWUl/Q2YGhE3FDuW9k7SUJImoQERsbrY8ZhZx9XWNzAXwz4kV4C19yR4AMml2scXO5b2Lj3ndz5wu5OgmW2vTp0IldzI+i2SJqN2S9LNJPf0nJc2SVkO6QUSb5Nc2XdUkcMxs06g0zeNmpmZNaW9XCxjZmZWFB2uabRv374xfPjwYodhZtahPP3008sioirHsH4VFRU3kFxT0dkOkOqAF2pra88YN27c0mwjdLhEOHz4cGbOnNn8iGZm9h5JOZ++U1FRccOAAQP2rqqqWllWVtapzpfV1dWppqZm9JIlS24guZ1qK50t85uZWcvtU1VVtbqzJUGAsrKyqKqqeocmHtjgRGhmZmWdMQnWS+uWM985EZqZWUlzIjQzs6IrLy8fN2rUqNH1fy+99FJXgOnTp3ffd9999x4xYsSYESNGjPnJT37SF+Dhhx/eceTIkWPeffddAcyePbty8ODB+65YsaLFea3DXSxjZmadT2VlZd3cuXPnZJa9+eabFaeddtqIu+6665UJEyasX7x4ccURRxwxcvDgwZsnTpz4zoEHHrjm0ksv7X/llVcumTRp0tDvfOc7C3v37l2Xax65FCwRSrqJ5JUhSyNiq5OU6StBfg4cQ/LOvNMi4plCxdPZvbRkDS8uXk1ZmdhnYE92q+re/IfMzLbBrU++0fsXf503qGbNxq5VPSo3nXv4yIWfP2jYitaez09/+tN+J5100vIJEyasB9h1111rr7jiigXf//73B06cOPGdq6++euHYsWNHV1RURG1trc4+++xtiqGQR4S/IXlie66nwh9N8jT0kSRPkf8V7z/B3lrguQWrOPn6J1m3KXmrS++dujL1zAMZNaBnkSMzs87m1iff6H3Z/XOGbaytKwNYumZj18vunzMMYHuS4caNG8tGjRo1GmDIkCEbH3zwwVdefPHFbqeeeuryzPEmTJiwfv78+d0A+vbtu+W8885bPHny5GHPPPPMC9s674KdI4yIh0lekZLL8cAtkXgS6CVp10LF01lFBFP/+eZ7SRBgxbpNPDD77SJGZWad1S/+Om9QfRKst7G2ruwXf523XW+2r28anTt37pwHH3zwFUi2b5K2upo1aVBMTJ8+fec+ffpsnjVrVrdtnXcxL5YZRPKG5HoL0rKtSDpL0kxJM2tqatokuI5iS10wb+narcpfW7auCNGYWWdXs2Zj15aUb4+99957w4wZM3bKLHvsscd23H333TcA3HbbbTuvWbOm/P777593ySWXDF6zZs025bRiJkJlKct6H0tEXB8R1RFRXVWV9QlBJauivIyTxw/ZqvyYfQdkGdvMbPtU9ajM9gLunOXb44ILLqi54447+jz++OPdAJYsWVJ+8cUXD77ggguWrF27VhdddNGQ66677s3x48dv+MQnPrHq4osv3qZWxWImwgVA5hZ8MLCoSLF0aIft1Y8Lj9qLHpUV7LJjFy779BjGj+hd7LDMrBM69/CRCysryhpcmVlZUVZ37uEjF7b2vIYNG7b5pptueu2ss84aPmLEiDEHHXTQ3l/4wheWnXLKKe9Mnjx54NFHH71y3Lhx7wL86Ec/WnTvvffu8vzzz1e2dD4FfQ2TpOHA/TmuGv0k8BWSq0YPBH4REeObm2Z1dXX4WaPZLX5nA+US/XruUOxQzKydkfR0RFRnGzZr1qzX999//2X5TqutrhptTbNmzeq7//77D882rJC3T9wGHAb0lbQA+C+gC0BETAGmkSTB+SS3T3yxULGUil133uZzxWZmefv8QcNWtPfE1xIFS4QRcXIzwwP4z0LN38zMLB9+xJqZmZU0J0IzMytpToRmZlbSnAjNzKykORGamVnRSRp35plnDq7v/+53v9v//PPPHwhw/vnnD+zXr99+o0aNGj1ixIgxn/vc54Zu2ZI8VnLjxo0655xzBg0bNmyfkSNHjtl33333vvPOO1v0oGUnQjMzK7quXbvGtGnTdlm8eHHWuxkmTZr09ty5c+fMnz9/9ty5c7tNmzatB8DXv/71gUuWLOkyd+7c2fPmzZs9bdq0eatXry5vybydCM3MrGVm3Nibn+y5L5f2GsdP9tyXGTdu96OsysvL49RTT6254oor+jc13saNG7Vx48ayPn361K5Zs6Zs6tSpVTfccMOb3bp1C4AhQ4bUnnHGGStbMm8nQjMzy9+MG3sz/aJhrH27KwSsfbsr0y8a1hrJ8Jvf/ObSe+65p/fy5cu3OqKbMmVK/1GjRo0eMGDA/iNGjHj3Qx/60IY5c+ZU7rrrrpu25WW8mZwIzcwsfw9dNYjajQ1zR+3GMh66artewwTQu3fvus9+9rPLr7zyyn6Nh9U3jdbU1Mxav3592fXXX7/L9s6vnhOhmZnlb+3S7K9bylXeQhdddNHbU6dO7btu3bqs+amysjI+/vGPr3744Yd7jB49euPixYu7rly5crtymROhmZnlr3u/7K9bylXeQv37999y7LHHrpw6dWrfbMPr6up44oknuu++++4be/ToUTdx4sRlZ5555tB3331XAG+88UaX6667rkXNtE6EZmaWv0MvXEhFZcNzchWVdRx6Yau9hunb3/72klWrVjW4erT+HOGee+45ZsuWLXzzm99cCnD11Vcv7Nu3b+2ee+45ZuTIkWOOPfbY3fv371/bkvkV9DVMheDXMJmZtVxrvoaJGTf25qGrBrF2aVe699vEoRcu5IDT2/XbKIryGiYzM+ukDjh9RXtPfC3hplEzMytpToRmZlbSnAjNzKykORGamVlJcyI0M7OS5kRoZmZFl+s1TPfcc0/PsWPHjqqrS25drK2tZdSoUaMvvPDCAaNGjRo9atSo0eXl5ePqu3/wgx9s9Xi25hQ0EUo6StJLkuZLmpxl+C6S/iDpOUlPSdqnkPGYmXU0EcHLK19m+mvTeXTBo9Ssryl2SAWR6zVMn/nMZ1YPHjx409VXX90X4Iorrug3duzYdVddddWSuXPnzpk7d+6cysrKuvruSy65ZGlL512w+wgllQPXAkcCC4AZku6LiDkZo10MPBsRJ0galY5/eKFiMjPraGa+PZOzHzybzXWbAajuX80PP/JDBuw0oGgx3fHSHb2nzJoyaPmG5V37dOuzadL+kxaetNdJ23VfYeZrmK655poGT6m59tpr35owYcJehxxyyNobbrih34wZM17cvho0VMgjwvHA/Ih4NSI2AbcDxzcaZzTwV4CImAsMl9Tku6jMzErF6o2r+cmMn7yXBCFJjHOWz2niU4V1x0t39P7RjB8NW7ZhWdcgWLZhWdcfzfjRsDteuqNgr2EaNmzY5kmTJi097LDD9v7GN76xuH///lu2d16ZCpkIBwFvZfQvSMsyzQI+AyBpPDAMGNxoHCSdJWmmpJk1NZ2zWcDMrLH1tet5bfVrW5WveLd4D3WZMmvKoE1bNjXIHZu2bCqbMmtKQV/DNHny5KVbtmzh3HPPXb6982mskIlQWcoaP9j0SmAXSc8CXwX+BWz1sNSIuD4iqiOiuqqqqtUDNTNrj/rs0Iejhx+9VfluO+9WhGgSyzcsz/q6pVzlLZXrNUzl5eVI2dLK9itkIlwADMnoHwwsyhwhIlZHxBcjYixwKlAFbL37Y2ZWgrqUd+H0fU/n48M+jhC9Kntx+YTLGd1ndNFi6tOtT9bXLeUqb6nmXsNUCIVMhDOAkZJGSOoKTATuyxxBUq90GMAZwMMRsbqAMZmZdShDew7l8gmX86cT/sRdx97Fcbsfxw4VOxQtnkn7T1rYtbxrg9cwdS3vWjdp/0kFfQ1TIRVsRhFRK+krwHSgHLgpImZLmpQOnwLsDdwiaQswBzi9UPGYmXVUO1TswLCew4odBgD1V4e29lWj69ev/1d995AhQ2o3bNjwr6bGyac8XwXNuBExDZjWqGxKRvcTwMhCxmBmZq3rpL1OWrG9ia898ZNlzMyspDkRmplZXV1dXWEuyWwH0rrV5RruRGhmZi/U1NTs3BmTYV1dnWpqanYGXsg1TptdlWNmZu1TbW3tGUuWLLlhyZIl+9D5DpDqgBdqa2vPyDWCE6GZWYkbN27cUuC4YsdRLJ0t85uZmbWIE6GZmZU0J0IzMytpToRmZlbSnAjNzKykORGamVlJcyI0M7OS5kRoZmYlzYnQzMxKmhOhmZmVNCdCMzMraU6EZmZW0pwIzcyspDkRmplZSXMiNDOzklbQRCjpKEkvSZovaXKW4TtL+pOkWZJmS/piIeMxMzNrrGCJUFI5cC1wNDAaOFnS6Eaj/ScwJyL2Bw4Dfiqpa6FiMjMza6yQR4TjgfkR8WpEbAJuB45vNE4APSQJ6A6sAGoLGJOZmVkDhUyEg4C3MvoXpGWZfgnsDSwCngfOi4i6xhOSdJakmZJm1tTUFCpeMzMrQYVMhMpSFo36PwE8CwwExgK/lNRzqw9FXB8R1RFRXVVV1dpxmplZCStkIlwADMnoH0xy5Jfpi8A9kZgPvAaMKmBMZmZmDRQyEc4ARkoakV4AMxG4r9E4bwKHA0jqD+wFvFrAmMzMzBqoKNSEI6JW0leA6UA5cFNEzJY0KR0+BbgM+I2k50maUi+MiGWFisnMzKyxgiVCgIiYBkxrVDYlo3sR8PFCxmBmZtYUP1nGzMxKmhOhmZmVNCdCMzMraU6EZmZW0pwIzcyspDkRlrK6LbBxbbGjMDMrqoLePmHt2OLn4Klfw6KnYd9/h30+A72GFjsqM7M250RYila8Cr/9NKxfnvS//V+wbB586mdQUVnU0MzM2lpeTaOS9il0INaGls59PwnWmzUVVr1RnHjMzIoo33OEUyQ9JekcSb0KGZC1gfIu2ctU3vaxmJkVWV6JMCImAJ8jeZvETElTJR1Z0MiscPqPhqq9G5ZNOB92GV6UcMzMiinvc4QRMU/SJcBM4BfAB9I3y18cEfcUKkArgJ6DYOLv4NV/wNuzYfePwtCDocxHhGZWevJKhJL2I3l34CeBB4FjI+IZSQOBJwAnwo6mz+7Jn5lZicv3iPCXwK9Jjv421BdGxKL0KNHMzKxDyvdimXsi4reZSVDSeQAR8duCRGZmZtYG8k2Ep2YpO60V4zAzMyuKJptGJZ0MnAKMkHRfxqAewPLsnzIzM+s4mjtH+DiwGOgL/DSjfA3wXKGCMjMzaytNJsKIeAN4Azi4bcIxMzNrW801jT4aERMkrQEicxAQEdGzoNGZmZkVWJMXy6RPlCEiekREz4y/HvkkQUlHSXpJ0nxJk7MM/6akZ9O/FyRtkdR726tjZmbWMvk+dPvnklrUPCqpHLgWOBoYDZwsaXTmOBHx44gYGxFjgYuAhyJiRUvmY2Zmtj3yvX3iGeA76ZHdjyVV5/GZ8cD8iHg1IjYBtwPHNzH+ycBtecZjZmbWKvJ96PbNEXEMSXJ7GbhK0rxmPjYIeCujf0FathVJOwJHAXfnGH6WpJmSZtbU1OQTspmZWV7yPSKstwcwChgOzG1mXGUpiyxlAMcCj+VqFo2I6yOiOiKqq6qq8o3VzMysWfmeI6w/Avw+MBsYFxHHNvOxBSSvbao3GFiUY9yJuFnUzMyKIN+Hbr8GHBwRy1ow7RnASEkjgIUkye6UxiNJ2hk4FPh8C6ZtZmbWKpq7j3BURMwFngKGShqaOTwinsn12YiolfQVYDpQDtwUEbMlTUqHT0lHPQF4ICLWbUc9zMzMtokicp22A0nXR8RZkv6eZXBExMcKF1p21dXVMXPmzLaerZlZhybp6YjI54r/ktPcI9bOSjuPjoh3M4dJ2qFgUZmZmbWRfK8afTzPMjMzsw6luXOEA0ju/esm6QO8f0tET2DHAsdmZmZWcM1dNfoJkhfwDiZ5DVN9IlwNXFy4sMzMzNpGc+cIbwZulvRvEZH1qS9mZmYdWb7nCMdJ6lXfI2kXST8oTEhmZmZtJ99EeHRErKrviYiVwDEFicjMzKwN5ZsIyyVV1vdI6gZUNjG+mZlZh5DvI9ZuBf4q6X9IHpz9JeDmgkVlZmbWRvJKhBHxI0nPAUeQXDl6WURML2hkZmZmbSDfI0KAF4HaiPg/STtK6hERawoVmJmZWVvI9zVMZwK/B/5fWjQIuLdAMZmZmbWZfC+W+U/gwyQ30hMR84B+hQrKzMysreSbCDdGxKb6HkkV5H7bvJmZWYeRbyJ8SNLFJM8cPRK4C/hT4cIyMzNrG/kmwslADfA8cDYwDbikUEGZmZm1lXxvn6gDfp3+mZmZdRrNvYbpzoj4d0nPs/U5wQBWAFdHxB8LFaCZmVkhNXdEeF76/1M5hvcFfgc4EZqZWYfU5DnCiFic/n8D2AjsD+xHchXpGxHxNPC5gkdpZmZWIPneUH8G8BTwGeBE4ElJXwJIk2Guzx0l6SVJ8yVNzjHOYZKelTRb0kMtr4KZmdm2y/cRa98EPhARywEk9QEeB27K9QFJ5cC1wJHAAmCGpPsiYk7GOL2A64CjIuJNSb5J38zM2lS+t08sADKfK7oGeKuZz4wH5kfEq+nN+LcDxzca5xTgnoh4EyAiluYZj5mZWato7qrR89POhcA/Jf2R5GrR40maSpsyiIbJcgFwYKNx9gS6SPoH0AP4eUTckl/oZmZm26+5ptEe6f9X0r96+VwlqixljW/BqADGAYcD3YAnJD0ZES83mJB0FnAWwNChQ/OYtZmZWX6aTIQR8b3tmPYCYEhG/2BgUZZxlkXEOmCdpIdJrkxtkAgj4nrgeoDq6mo/49TMzFpNXhfLSPo7WR6yHREfa+JjM4CRkkaQNK1OJDknmOmPwC/Th3h3JWk6/e98YmqJVes3MXfxapau2cjQ3juy16496NalJa9iNDOzzirfbPCNjO4dgH8Dapv6QETUSvoKMB0oB26KiNmSJqXDp0TEi5L+AjwH1AE3RMQLLa1EU9a+W8s1f5vPjY++9l7ZD0/Yl4njhyBla701M7NSoohta2mU9FBEHNrK8TSruro6Zs6cmff4/3pzJSdc93iDsm5dypl23gRG9O3e2uGZmbVLkp6OiOpix9Ee5ds02jujtwyoBgYUJKJWtmr95q3KNmzewpp3mzygNTOzEpFv0+jTvH+OsBZ4HTi9EAG1tmF9dqRbl3I2bN7yXtmIvjsyqFe3IkZlZmbtRZM31Es6QNKAiBgREbsB3wPmpn9zmvpse7FbVXduPK2aob2TxLf/4F5cc/IH6dO9ssiRmZlZe9DkOUJJzwBHRMQKSYeQPB3mq8BYYO+IOLFNoszQ0nOE9Zav3cg7GzbTp3slO3frUoDIzMzaL58jzK25ptHyiFiRdp8EXB8RdwN3S3q2oJG1sj7dK30UaGZmW2nuWaPl6T1+kDz95W8Zw3wjnpmZdXjNJbPbgIckLQM2AI8ASNoDeKfAsZmZmRVcc49Yu1zSX4FdgQfi/ROKZSTnCs3MzDq0Zps3I+LJLGUvZxvXzMyso8n3fYRmZmadkhOhmZmVNCdCMzMraU6EZmZW0pwIzcyspDkRmplZSXMiNDOzkuZEaGZmJc2J0MzMSpoToZmZlTQnQjMzK2kFTYSSjpL0kqT5kiZnGX6YpHckPZv+fbeQ8Vj7t2jVBp5bsIqFKzcUOxQzKxEFe6egpHLgWuBIYAEwQ9J9ETGn0aiPRMSnChWHdRyPzV/G125/lpq1G+m9U1d+9u/7c+ieVUgqdmhm1okV8ohwPDA/Il6NiE3A7cDxBZyfdWBvrVjPl3/3NDVrNwKwYt0mzvndM7y+fH2RIzOzzq6QiXAQ8FZG/4K0rLGDJc2S9GdJYwoYj7Vji9/ZwOoNtQ3K1m/awqJVbiI1s8IqZCLM1p4VjfqfAYZFxP7ANcC9WScknSVppqSZNTU1rRultQt9dqqksqLhz7GiTPTt3rVIEZlZqShkIlwADMnoHwwsyhwhIlZHxNq0exrQRVLfxhOKiOsjojoiqquqqgoYshXL8L47cfkJ+1CW7j5JcOlxoxnRt3txAzOzTq9gF8sAM4CRkkYAC4GJwCmZI0gaALwdESFpPEliXl7AmKydKi8Tx+0/iNG77sySdzbQv+cO7NGvO10rfIePmRVWwRJhRNRK+gowHSgHboqI2ZImpcOnACcCX5ZUC2wAJkZE4+ZTKxFdK8oYPbAnowf2LHYoZlZC1NHyTnV1dcycObPYYZiZdSiSno6I6mLH0R653cnMzEqaE6GZmZU0J0IzMytpToRmZlbSnAjNzKykORGamVlJcyI0M7OS5kRoZmYlzYnQzMxKmhOhmZmVNCdCMzMraU6EZmZW0gr5GiZrZ+rq6nht9WsIsVuv3YodjplZu+BEWCLeXP0m98y7h6lzp1Kucv5jzH9w3O7HMbD7wGKHZmZWVG4aLRGPLHiEG1+4kQ21G1i7eS3XPnstTy1+qthhmZkVnRNhCdi8ZTMPvPHAVuV/f+vvRYjGzKx9cSIsAV3KuzC0x9Ctyof23LrMzKzUOBG2otq6Wl5/53XeXvd2sUPZyvF7HE+PLj3e6++zQx8OH3J4ESMyM2sffLFMK5m3ch53z7ub+1+9nz479OGcsedwyOBD6FbRrdihAVA9oJopR07h5ZUvU6Yy9tplL8b0HVPssMzMik4RUewYWqS6ujpmzpxZ7DAaqK2r5cczfszUuVPfKytTGb86/Fd8aNCHihiZmVlC0tMRUV3sONojN422grdWv8X9r97foKwu6pi3al6RIjIzs3wVNBFKOkrSS5LmS5rcxHgHSNoi6cRCxlMo3Sq60WeHPluVd+/SvQjRmJlZSxQsEUoqB64FjgZGAydLGp1jvKuA6YWKpdAGdB/AOWPPQei9siE9hjCmj8/BmZm1d4W8WGY8MD8iXgWQdDtwPDCn0XhfBe4GDihgLAV36KBD+dURv2Leynl079qdffrsw6g+o4odlpmZNaOQiXAQ8FZG/wLgwMwRJA0CTgA+RhOJUNJZwFkAQ4e2z3vfunXtxocHfZgPD/pwsUMxM7MWKOQ5QmUpa3yJ6tXAhRGxpakJRcT1EVEdEdVVVVWtFZ+ZmVlBjwgXAEMy+gcDixqNUw3cLgmgL3CMpNqIuLeAcZmZmb2nkIlwBjBS0ghgITAROCVzhIgYUd8t6TfA/U6CZmbWlgqWCCOiVtJXSK4GLQduiojZkialw6cUat5mZmb5Kugj1iJiGjCtUVnWBBgRpxUyFjMzs2z8ZBkzMytpToRmZlbSnAjNzKykORGamVlJcyI0M7OS5kRoZmYlzYnQzMxKmhOhmZmVNCdCMzMraU6EZmZW0pwIzcyspDkRWuuqq4PVi2HDO8WOxMwsLwV96LaVmJVvwIwb4F+/hZ6D4eOXwYhDoKy82JGZmeXkI8JOZOPmLWyq3VKcmW+phSeuhcd/ARtWwtvPw+9OhCXPFyceM7M8+YiwE1i7sZZH59Xw60deo7K8jLMP3Y2DdutDZZc2PBJbsxie+U3DsrpaWPoiDBzbdnGYmbWQE2En8MQry5l06zPv9T/+6nJuO/MgDt69T9sFUVEJO1XBOwsalld2b7sYzMy2gZtGO7jaLXXc/PhrW5XfN2th2wbSvR984ocNy/qNhl3Htm0cZmYt5CPCDq5Monvl1ouxxw5d2j6YkZ+AL/0FlsyGHXvDoHHQa0jbx2Fm1gJOhB1cWZn44odH8MCct6mLpKyyooxj9t217YPpUglDD07+zMw6CCfCTmDcsF248+yD+evcpXQtFx8b1Z/9Bu9c7LDMzDqEgiZCSUcBPwfKgRsi4spGw48HLgPqgFrgaxHxaCFj6owqysuoHt6b6uG9ix2KmVmHU7BEKKkcuBY4ElgAzJB0X0TMyRjtr8B9ERGS9gPuBEYVKiYzM7PGCnnV6HhgfkS8GhGbgNuB4zNHiIi1EZGe2WInIDAzM2tDhUyEg4C3MvoXpGUNSDpB0lzgf4EvZZuQpLMkzZQ0s6ampiDBmplZaSpkIlSWsq2O+CLiDxExCvg0yfnCrT8UcX1EVEdEdVVVVetGaWZmJa2QiXABkHkT2WBgUa6RI+JhYHdJfQsYk5mZWQOFTIQzgJGSRkjqCkwE7sscQdIekpR2fxDoCiwvYExmZmYNFOyq0YiolfQVYDrJ7RM3RcRsSZPS4VOAfwNOlbQZ2ACclHHxTFZPP/30MklvFCDkvsCyAky3rbke7UdnqAN0jnp0hjrA9tVjWGsG0pmombxTMiTNjIjqYsexvVyP9qMz1AE6Rz06Qx2g89SjvfFDt83MrKQ5EZqZWUlzInzf9cUOoJW4Hu1HZ6gDdI56dIY6QOepR7vic4RmZlbSfERoZmYlzYnQzMxKWsklQklHSXpJ0nxJk7MMl6RfpMOfS2/0b3fyqMcoSU9I2ijpG8WIsTl51OFz6TJ4TtLjkvYvRpzNyaMex6d1eDZ9Zu6EYsTZlObqkDHeAZK2SDqxLePLVx7L4jBJ76TL4llJ3y1GnE3JZ1mk9XhW0mxJD7V1jJ1ORJTMH8mN/a8Au5E8xWYWMLrROMcAfyZ5VupBwD+LHfc21qMfcABwOfCNYse8jXX4ELBL2n10B14W3Xn/fPx+wNxix93SOmSM9zdgGnBisePexmVxGHB/sWPdzjr0AuYAQ9P+fsWOu6P/ldoRYbOvhkr7b4nEk0AvSbu2daDNyOcVV0sjYgawuRgB5iGfOjweESvT3idJnlfb3nSG143ls14AfBW4G1jalsG1QL71aM/yqcMpwD0R8SYk63obx9jplFoizOfVUHm9PqrIOkKMzWlpHU4nOVJvb1rtdWNF1GwdJA0CTgCmtGFcLZXvb+pgSbMk/VnSmLYJLW/51GFPYBdJ/5D0tKRT2yy6Tqpgzxptp/J5NVRer48qso4QY3PyroOkj5IkwnZ3bo0WvG4M+IOkQ0heN3ZEoQNrgXzqcDVwYURsSZ+T3x7lU49ngGERsVbSMcC9wMhCB9YC+dShAhgHHA50A56Q9GREvFzo4DqrUkuE+bwaqkWvjyqSjhBjc/Kqg6T9gBuAoyOiPb6ZpMWvG5O0u6S+EdFeHgKdTx2qgdvTJNgXOEZSbUTc2yYR5qfZekTE6ozuaZKu64DLYgGwLCLWAeskPQzsDzgRbqNSaxpt9tVQaf+p6dWjBwHvRMTitg60GfnUo73L5zVdQ4F7gC+0473dzvC6sWbrEBEjImJ4RAwHfg+c086SIOS3LAZkLIvxJNvADrUsgD8CH5FUIWlH4EDgxTaOs1MpqSPCyO/VUNNIrhydD6wHvliseHPJpx6SBgAzgZ5AnaSvkVx9tjrXdNtSnsviu0Af4Lp021Ub7ezJ+3nWo8WvG2tLedah3cuzHicCX5ZUS7IsJna0ZRERL0r6C/AcUAfcEBEvFC/qjs+PWDMzs5JWak2jZmZmDTgRmplZSXMiNDOzkuZEaGZmJc2J0MzMSpoToRmQvlHhWUkvSLorvT8r17inSfplC6dfLekXafdhkj60vTGbWetwIjRLbIiIsRGxD7AJmNRaE5ZUEREzI+LctOgwkjdrmFk74ERotrVHgD0k9ZZ0b/ouwSfTx701IOlYSf+U9C9J/yepf1p+qaTrJT0A3JIeBd4vaThJkv16egT6EUmvSeqSfq6npNfr+82s8JwIzTJIqiB59+HzwPeAf0XEfsDFwC1ZPvIocFBEfIDklTnfyhg2Djg+Ik6pL4iI10ne4PDf6RHoI8A/gE+mo0wE7o6I9vr6LLNOp6QesWbWhG6Snk27HwFuBP5J8ng0IuJvkvpI2rnR5wYDd6TvrOwKvJYx7L6I2JDHvG8gSaD3kjzS78xtrYSZtZwToVliQ0SMzSyofzhzI42fSXgN8LOIuE/SYcClGcPW5TPjiHhM0nBJhwLlfm6kWdty06hZbg8Dn4PkSk+SV980fmj5zsDCtPs/8pzuGqBHo7JbgNuA/9mWQM1s2zkRmuV2KVAt6TngSrInukuBuyQ9AuT7Trs/ASfUXyyTlv0O2IUkGZpZG/LbJ8zaAUknklxY84Vix2JWanyO0KzIJF1DcqXqMcWOxawU+YjQzMxKms8RmplZSXMiNDOzkuZEaGZmJc2J0MzMSpoToZmZlbT/D/v3Jx4hILuMAAAAAElFTkSuQmCC\n",
      "text/plain": [
       "<Figure size 432x288 with 1 Axes>"
      ]
     },
     "metadata": {
      "needs_background": "light"
     },
     "output_type": "display_data"
    }
   ],
   "source": [
    "\n",
    "sns.scatterplot(data=roe, x=\"Polarity\", y=\"Subjectivity\", hue=\"SOURCE\")\\\n",
    ".set(title='Subjectivity and Polarity of News Sources and Roe vs Wade')\n",
    "plt.legend(bbox_to_anchor=(1.02, 1), loc='upper left', borderaxespad=0)\n",
    "                                                                                   "
   ]
  },
  {
   "cell_type": "markdown",
   "metadata": {},
   "source": [
    "# Conclusion\n",
    "\n",
    "We can see from the analysis above that Fox and NY Post tend to have more extremes in Polarity and Subjectivity analysis when compared to the NYT and NBC. However, all 4 news outlets can have extremes in sentiment in certain categories. It will be interesting to examine if any of these news outlets are related via investors."
   ]
  }
 ],
 "metadata": {
  "colab": {
   "name": "news_scrapper.ipynb",
   "provenance": []
  },
  "kernelspec": {
   "display_name": "Python 3",
   "language": "python",
   "name": "python3"
  },
  "language_info": {
   "codemirror_mode": {
    "name": "ipython",
    "version": 3
   },
   "file_extension": ".py",
   "mimetype": "text/x-python",
   "name": "python",
   "nbconvert_exporter": "python",
   "pygments_lexer": "ipython3",
   "version": "3.8.5"
  }
 },
 "nbformat": 4,
 "nbformat_minor": 1
}
