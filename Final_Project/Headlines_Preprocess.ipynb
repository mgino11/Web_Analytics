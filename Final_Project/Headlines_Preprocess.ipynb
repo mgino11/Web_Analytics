{
 "cells": [
  {
   "cell_type": "markdown",
   "metadata": {},
   "source": [
    "# HIGH FREQUENCY WORDS USING NLTK\n",
    "## Required Packages"
   ]
  },
  {
   "cell_type": "code",
   "execution_count": 2,
   "metadata": {
    "collapsed": true
   },
   "outputs": [],
   "source": [
    "import nltk\n",
    "import pandas as pd\n",
    "from nltk.stem import PorterStemmer\n",
    "from nltk.stem.wordnet import WordNetLemmatizer\n",
    "from nltk.corpus import stopwords"
   ]
  },
  {
   "cell_type": "markdown",
   "metadata": {},
   "source": [
    "## Corpus"
   ]
  },
  {
   "cell_type": "code",
   "execution_count": 3,
   "outputs": [
    {
     "name": "stdout",
     "output_type": "stream",
     "text": [
      "US News – Top national stories and latest headlines - CNN Open Menu US Crime + Justice Energy + Environment More Extreme Weather Space + Science Audio Search CNN Crime + Justice Energy + Environment Extreme Weather Space + Science Search Audio Edition US International Arabic Español Edition US International Arabic Español US Crime + Justice Energy + Environment Extreme Weather Space + Science World Africa Americas Asia Australia China Europe India Middle East United Kingdom Politics The Biden Presidency Facts First US Elections Business Markets Tech Media Success Perspectives Videos Opinion Political Op-Eds Social Commentary Health Life, But Better Fitness Food Sleep Mindfulness Relationships Entertainment Stars Screen Binge Culture Media Tech Innovate Gadget Foreseeable Future Mission: Ahead Upstarts Work Transformed Innovative Cities Style Arts Design Fashion Architecture Luxury Beauty Video Travel Destinations Food and Drink Stay News Videos Sports Pro Football College Football Bask\n",
      "against the department. The sheriff defended his tenure, saying “we cleaned this county up.” By Jenn Abelson and Reena Flores MORE COVERAGE: No-knock raids have led to fatal\n",
      "\n",
      "encounters and small drug seizures Policing and the push for reform Loading... Podcast By Washington Post staff No-knock warrants can be easy for police to obtain from judges, The Post discovered. By Courtney Kan , Jenn Abelson and Nicole Dungca Guide to the Pandemic Loading... (Mark Lennihan/AP) The disruption reveals once again how overseas, poorly diversified supply chains are vulnerable to a global health crisis. Shortages have crippled the U.S. health system again and again during the pandemic. By Christopher Rowland By Tony Romm Today’s WorldView Analysis By Adam Taylor By Marc Fisher , Lizzie Johnson , Christine Spolar and Nick Aspinwall Loading... Don’t Miss Date Lab By Prachi Gupta By Cathy Free By Michele Lerner By Joel Achenbach Advertisement Advertisement For You Recommended Stories Most Read Now 1 Loading... 2 3 4 5 Politics The Early 202 Analysis Loading... Two to three “usual suspects” have concerns with the bill, multiple Republican senators said, which could slow down \n",
      "\t\t\t\tChoose the newsletters that are right for you. This story has been shared 115,956 times. 115,956 This story has been shared 113,637 times. 113,637 This story has been shared 80,799 times. 80,799 As far as you are concerned one particular individual has used up all the chances that you gave them and now you are going to banish them from your life altogether. That might sound a bit extreme but Taurus is not a sign to do things by halves. See All Facebook Twitter Instagram LinkedIn Email YouTube Sections & Features News Metro Sports Sports Betting Business Opinion Entertainment Fashion Shopping Living Media Tech Real Estate Astrology Video Photos Visual Stories Alexa Covers Horoscopes Sports Odds Podcasts Columnists Classifieds Post Sports+ Subscribe Articles Manage Newsletters & Feeds Email Newsletters RSS Feeds NY Post Official Store Home Delivery Subscribe Manage Subscription Delivery Help Help/Support About New York Post Customer Service App FAQ & Help Community Guidelines Contact\n",
      "      or redistributed. ©2022 FOX News Network, LLC. All rights reserved.\n",
      "\n",
      "      Quotes displayed in real-time or delayed by at least 15 minutes. Market data provided by Factset . Powered and implemented by FactSet Digital Solutions . Legal Statement . Mutual Fund and ETF data provided by Refinitiv Lipper . Facebook Twitter Instagram RSS Email U.S. FIRST AMENDMENT FIGHT Jeremy Story Texas 6 hours ago Two fathers filed a federal lawsuit after they were arrested in a Texas school board meeting. The two claim their rights under the First Amendment were violated FRIGHTENING FOOTAGE Fox 10 Phoenix Arizona 3 hours ago Police in Avondale, outside of Phoenix, Arizona, arrested Bryan Duran on an aggravated assault charged after dash camera footage allegedly shows he pointed a gun into another driver’s window while shouting expletives and punching forcefully several times on the glass. SEE IT Texas Department of Public Safety IMMIGRATION 3 hours ago A car driven by a human smuggler flipped over while trying to evade Texas Department of Public Safety officials on Thursd\n",
      "      or redistributed. ©2022 FOX News Network, LLC. All rights reserved.\n",
      "\n",
      "      Quotes displayed in real-time or delayed by at least 15 minutes. Market data provided by Factset . Powered and implemented by FactSet Digital Solutions . Legal Statement . Mutual Fund and ETF data provided by Refinitiv Lipper . Facebook Twitter Instagram RSS Email Politics Fox News POLITICS 1 day ago A pro-choice group is planning protests outside the homes of all six Republican-appointed justices of the Supreme Court - Justices John Roberts, Clarence Thomas, Samuel Alito, Neil Gorsuch, Brett Kavanaugh and Amy Coney Barrett – in what the group is calling \"Walk-by Wednesday.\" Save America PAC Donald Trump 1 day ago It's a split decision for Donald Trump, as the candidate the former president backed in Nebraska's GOP gubernatorial primary loses, but the congressman he endorsed in West Virginia wins Elizabeth Frantz/Pool via AP Democrats 1 day ago Several religious freedom experts warned about the effect the Protecting Women’s Health Act would have on Christian medical professionals\n",
      "      or redistributed. ©2022 FOX News Network, LLC. All rights reserved.\n",
      "\n",
      "      Quotes displayed in real-time or delayed by at least 15 minutes. Market data provided by Factset . Powered and implemented by FactSet Digital Solutions . Legal Statement . Mutual Fund and ETF data provided by Refinitiv Lipper . Facebook Twitter Instagram RSS Email Opinion Fox News Digital OPINION 15 hours ago The NSBA addressed Joe Biden in a letter expressing American public schools are under an immediate threat due to mask mandates, CRT, gender ideology and more. ap OPINION 8 hours ago The Medicare for All Act of 2022, which I have just introduced with 15 co-sponsors, would provide comprehensive health care coverage to every man, woman and child in our country. REUTERS/Scott Audette/File Photo OPINION 10 hours ago Big business is no friend to conservatives—that’s been clear for years. And it’s increasingly no friend to America. 3 hours ago Now more than ever, police should know that American politicians have their backs, just as they have ours. 8 hours ago The Medicare for All \n"
     ]
    }
   ],
   "source": [
    "\n",
    "with open('Datasets/finalproj_corpus.txt', 'r', encoding='utf-8') as f:\n",
    "    for line in f:\n",
    "        print(line[0:1000])\n"
   ],
   "metadata": {
    "collapsed": false,
    "pycharm": {
     "name": "#%%\n"
    }
   }
  },
  {
   "cell_type": "markdown",
   "metadata": {},
   "source": [
    "## Data Preprocessing\n",
    "### Cleaning"
   ]
  },
  {
   "cell_type": "code",
   "execution_count": 4,
   "metadata": {
    "pycharm": {
     "name": "#%%\n"
    }
   },
   "outputs": [],
   "source": [
    "import re\n",
    "# def remove(x):\n",
    "#     pattern = \"['\\n',@\\'?\\.$%_0-9]\"\n",
    "#     line = [re.sub(pattern, '', line) for i in line]\n",
    "#     return x"
   ]
  },
  {
   "cell_type": "code",
   "execution_count": 17,
   "outputs": [
    {
     "name": "stdout",
     "output_type": "stream",
     "text": [
      "      quotes displayed in real-time or delayed by at least  minutes market data provided by factset  powered and implemented by factset digital solutions  legal statement  mutual fund and etf data provided by refinitiv lipper  facebook twitter instagram rss email opinion fox news digital opinion  hours ago the nsba addressed joe biden in a letter expressing american public schools are under an immediate threat due to mask mandates crt gender ideology and more ap opinion  hours ago the medicare for all act of  which i have just introduced with  co-sponsors would provide comprehensive health care coverage to every man woman and child in our country reuters/scott audette/file photo opinion  hours ago big business is no friend to conservatives—that’s been clear for years and it’s increasingly no friend to america  hours ago now more than ever police should know that american politicians have their backs just as they have ours  hours ago the medicare for all act of  which i have just introduced with  co-sponsors would provide comprehensive health care coverage to every man woman and child in our country  hours ago big business is no friend to conservatives—that’s been clear for years and it’s increasingly no friend to america  hours ago families are forced to compete with each other to find a necessity that was becoming alarmingly difficult to find  hours ago the nsba addressed joe biden in a letter expressing american public schools are under an immediate threat due to mask mandates crt gender ideology and more  hours ago greg gutfeld discusses on \"gutfeld!\" the dangers of excessive social media use  hours ago tucker carlson shredded lawmakers for prioritizing helping ukraine in light of problems in the united states on tucker carlson tonight  day ago what would you do if you couldn’t feed your baby this is a question parents across america are facing as the country continues to grapple with a baby formula shortage  day ago today communist china dominates the global active pharmaceutical ingredient (api) and precursor chemicals antibiotics and vitamin markets leaving patients and policymakers—or even trained pharmacists like me—with very little visibility into the messy supply chain of essential medicines  day ago the strangest thing about the debate over parents’ roles and rights in their children’s education is that there is a debate at all  day ago at the end of april the us food and drug administration announced its proposal to ban menthol tobacco products the target of the proposal is menthol cigarettes which are the most common choice of black smokers  day ago greg gutfeld discusses on \"gutfeld!\" the new white house press secretary  day ago fox news host tucker carlson reveals why karine jean-pierre is perfect for her new job as white house press secretary on tucker carlson tonight  day ago irony doesnt begin to explain why pro-choice activists chose mothers day weekend to picket the homes of justice brett kavanaugh and chief justice john roberts who appear ready to overturn roe v wade  days ago competent leadership is difficult to come by these days but there is an appalling lack of it in the biden administration  days ago there’s a lot of heat and noise in our politics today  but here’s what it reveals when you pull back the curtain six months away from the midterm elections  days ago elon musk time magazine’s  person of the year is under attack why because he is bucking the liberal establishment and wants to make sure that you can too  days ago supreme court justice samuel alito’s leaked draft opinion in dobbs v jackson women’s health organization is a masterpiece of jurisprudence and a long-overdue victory for the preborn  days ago as we wait for the supreme court’s final ruling it is worth noting that justice alito wrote in the draft opinion that some supporters of abortion \"have been motivated by a desire to suppress the size of the african american population\"  days ago greg gutfeld discusses the latest news on the protests over the supreme court potentially overturning roe v wade on \"gutfeld!\"  days ago fox news host tucker carlson calls out protesters targeting churches in response to the supreme court leak suggesting an overturn to roe v wade on tucker carlson tonight  days ago european officials are desperate to salvage the iran deal no matter the costs groveling at the feet of iran in an attempt to break through the current negotiation deadlock  days ago putin’s russia is going down the drain even the may  parade was a fizzle on the victory day celebrations russia lost hands down to zelenskyy and ukraine  days ago right now women across the country are weighing their options to determine who they’ll vote for on election day  days ago the american people are increasingly concerned about public safety and it’s easy to see why a spike in murder rates led to the deadliest year on record for many major cities last year for the first time on record more than  americans died from drug overdoses during a -month period and it seems like headlines are dominated by subway attacks gang shootouts and other terrifying incidents show more  days ago last monday a leaked draft opinion from justice samuel alito revealed that the supreme court is planning to overrule roe v wade and planned parenthood v casey – effectively overturning the federal right to an abortion  days ago pope francis recently shocked many by positing parity between vladimir putin and russia on one hand and ukraine and nato on the other the holy father insisted both are to blame for the raging war  days ago you’re doing a great job mamas!  that’s what i want you to know and i think god does too  days ago many years ago our family of nine left australia for the united states with no guaranteed income  days ago as a millennial “mama bear” to four school-aged children let me tell you what mama bears want more than anything else this mother’s day show more  hours ago  hours ago  hours ago  hours ago  days ago  days ago  days ago  days ago get the recap of top opinion commentary and original content throughout the week arrives daily subscribe subscribed subscribe youve successfully subscribed to this newsletter! :  mins ago :  mins ago :  hour ago :  hours ago coronavirus us crime military education terror immigration economy personal freedoms fox news investigates world un conflicts terrorism disasters global economy environment religion scandals opinion politics executive senate house judiciary foreign policy polls elections entertainment celebrity news movies tv news music news style news entertainment video business personal finance economy markets watchlist lifestyle real estate tech lifestyle food + drink cars + trucks travel + outdoors house + home fitness + well-being style + beauty family faith science archaeology air & space planet earth wild nature natural science dinosaurs tech security innovation drones computers video games military tech health coronavirus healthy living medical research mental health cancer heart health childrens health tv shows personalities watch live full episodes show clips news clips about contact us careers fox around the world advertise with us media relations corporate information compliance supplier diversity other fox weather fox nation fox news shop fox news go fox news radio newsletters podcasts apps & products facebook twitter instagram youtube flipboard linkedin slack rss newsletters spotify iheartradio fox news new terms of use new privacy policy do not sell my personal information closed captioning policy help contact us accessibility statement this material may not be published broadcast rewritten or redistributed © fox news network llc all rights reserved quotes displayed in real-time or delayed by at least  minutes market data provided by factset  powered and implemented by factset digital solutions  legal statement  mutual fund and etf data provided by refinitiv lipper \n"
     ]
    }
   ],
   "source": [
    "\n",
    "line = re.sub(r\"[^a-zA-Z]/g\", '',line).lower() # Block-not this characters: words + spaces-Block\n",
    "print(line)\n"
   ],
   "metadata": {
    "collapsed": false,
    "pycharm": {
     "name": "#%%\n"
    }
   }
  },
  {
   "cell_type": "code",
   "execution_count": 18,
   "outputs": [
    {
     "data": {
      "text/plain": "['',\n '',\n '',\n 'quotes displayed in real-time or delayed by at least',\n 'minutes market data provided by factset',\n 'powered and implemented by factset digital solutions',\n 'legal statement',\n 'mutual fund and etf data provided by refinitiv lipper',\n 'facebook twitter instagram rss email opinion fox news digital opinion',\n 'hours ago the nsba addressed joe biden in a letter expressing american public schools are under an immediate threat due to mask mandates crt gender ideology and more ap opinion',\n 'hours ago the medicare for all act of',\n 'which i have just introduced with',\n 'co-sponsors would provide comprehensive health care coverage to every man woman and child in our country reuters/scott audette/file photo opinion',\n 'hours ago big business is no friend to conservatives—that’s been clear for years and it’s increasingly no friend to america',\n 'hours ago now more than ever police should know that american politicians have their backs just as they have ours',\n 'hours ago the medicare for all act of',\n 'which i have just introduced with',\n 'co-sponsors would provide comprehensive health care coverage to every man woman and child in our country',\n 'hours ago big business is no friend to conservatives—that’s been clear for years and it’s increasingly no friend to america',\n 'hours ago families are forced to compete with each other to find a necessity that was becoming alarmingly difficult to find']"
     },
     "execution_count": 18,
     "metadata": {},
     "output_type": "execute_result"
    }
   ],
   "source": [
    "split_text = line.split('  ')\n",
    "split_text[0:20]"
   ],
   "metadata": {
    "collapsed": false,
    "pycharm": {
     "name": "#%%\n"
    }
   }
  },
  {
   "cell_type": "code",
   "execution_count": 19,
   "outputs": [
    {
     "name": "stdout",
     "output_type": "stream",
     "text": [
      "                                      news_headlines\n",
      "0                                                   \n",
      "1                                                   \n",
      "2                                                   \n",
      "3  quotes displayed in real-time or delayed by at...\n",
      "4            minutes market data provided by factset\n"
     ]
    }
   ],
   "source": [
    "# Concatenate\n",
    "# import pandas as pd\n",
    "data = line\n",
    "df = pd.DataFrame([x.split(',') for x in data.split('  ') ], columns=['news_headlines'])\n",
    "print(df.head())"
   ],
   "metadata": {
    "collapsed": false,
    "pycharm": {
     "name": "#%%\n"
    }
   }
  },
  {
   "cell_type": "markdown",
   "source": [
    "So this dataset contains only one column, I will now move to the task of adding labels to the dataset. I will start by adding four new columns to this dataset as Positive, Negative, Neutral, and Compound by calculating the sentiment scores of the column containing textual data:"
   ],
   "metadata": {
    "collapsed": false
   }
  },
  {
   "cell_type": "code",
   "execution_count": 21,
   "outputs": [
    {
     "data": {
      "text/plain": "                                      news_headlines\n3  quotes displayed in real-time or delayed by at...\n4            minutes market data provided by factset\n5  powered and implemented by factset digital sol...\n6                                    legal statement\n7  mutual fund and etf data provided by refinitiv...",
      "text/html": "<div>\n<style scoped>\n    .dataframe tbody tr th:only-of-type {\n        vertical-align: middle;\n    }\n\n    .dataframe tbody tr th {\n        vertical-align: top;\n    }\n\n    .dataframe thead th {\n        text-align: right;\n    }\n</style>\n<table border=\"1\" class=\"dataframe\">\n  <thead>\n    <tr style=\"text-align: right;\">\n      <th></th>\n      <th>news_headlines</th>\n    </tr>\n  </thead>\n  <tbody>\n    <tr>\n      <th>3</th>\n      <td>quotes displayed in real-time or delayed by at...</td>\n    </tr>\n    <tr>\n      <th>4</th>\n      <td>minutes market data provided by factset</td>\n    </tr>\n    <tr>\n      <th>5</th>\n      <td>powered and implemented by factset digital sol...</td>\n    </tr>\n    <tr>\n      <th>6</th>\n      <td>legal statement</td>\n    </tr>\n    <tr>\n      <th>7</th>\n      <td>mutual fund and etf data provided by refinitiv...</td>\n    </tr>\n  </tbody>\n</table>\n</div>"
     },
     "execution_count": 21,
     "metadata": {},
     "output_type": "execute_result"
    }
   ],
   "source": [
    "df_final = df.drop([0,1,2])\n",
    "df_final.head()"
   ],
   "metadata": {
    "collapsed": false,
    "pycharm": {
     "name": "#%%\n"
    }
   }
  },
  {
   "cell_type": "markdown",
   "source": [
    "### Tokenize"
   ],
   "metadata": {
    "collapsed": false
   }
  },
  {
   "cell_type": "code",
   "execution_count": null,
   "outputs": [],
   "source": [
    "# # import TweetTokenizer() method from nltk\n",
    "# from nltk.tokenize import TweetTokenizer\n",
    "#\n",
    "# # Create a reference variable for Class TweetTokenizer\n",
    "# tk = TweetTokenizer()\n",
    "# # Use tokenize method\n",
    "# news_tokens = tk.tokenize(line)\n",
    "#\n",
    "# print(news_tokens[0:20])"
   ],
   "metadata": {
    "collapsed": false,
    "pycharm": {
     "name": "#%%\n"
    }
   }
  },
  {
   "cell_type": "markdown",
   "source": [
    "### Add Labels\n",
    "\n",
    "To add labels to unlabeled data for sentiment analysis, we can use the Vader sentiment model which is one of the best approaches for sentiment analysis. We can access it using the NLTK library in Python. Let’s import the necessary Python libraries and an unlabeled dataset that we need for the task of adding labels to a data for sentiment analysis:"
   ],
   "metadata": {
    "collapsed": false
   }
  },
  {
   "cell_type": "code",
   "execution_count": 23,
   "outputs": [
    {
     "name": "stderr",
     "output_type": "stream",
     "text": [
      "[nltk_data] Downloading package vader_lexicon to\n",
      "[nltk_data]     C:\\Users\\maria\\AppData\\Roaming\\nltk_data...\n",
      "[nltk_data]   Package vader_lexicon is already up-to-date!\n"
     ]
    }
   ],
   "source": [
    "from nltk.sentiment import SentimentIntensityAnalyzer\n",
    "nltk.download('vader_lexicon')\n",
    "\n",
    "sia = SentimentIntensityAnalyzer()"
   ],
   "metadata": {
    "collapsed": false,
    "pycharm": {
     "name": "#%%\n"
    }
   }
  },
  {
   "cell_type": "markdown",
   "source": [
    "The NLTK Vader provides the sentiment of the text by providing scores in three different categories i.e. negative, neutral, and positive.\n",
    "\n",
    "Along with this, the compound is also calculated for each text passed to the NLTK Vader function.\n",
    "The compound attribute is basically a summarized result of all the three categories score.\n",
    "\n",
    "The value of compound ranges from -1(most extreme negative) and +1 (most extreme positive).\n",
    "This is normalized value as it helps in better analysis and further usage."
   ],
   "metadata": {
    "collapsed": false
   }
  },
  {
   "cell_type": "code",
   "execution_count": 24,
   "outputs": [],
   "source": [
    "df_final['neg'] = df_final['news_headlines'].apply(lambda x:sia.polarity_scores(x)['neg'])\n",
    "df_final['neu'] = df_final['news_headlines'].apply(lambda x:sia.polarity_scores(x)['neu'])\n",
    "df_final['pos'] = df_final['news_headlines'].apply(lambda x:sia.polarity_scores(x)['pos'])\n",
    "df_final['compound'] = df_final['news_headlines'].apply(lambda x:sia.polarity_scores(x)['compound'])"
   ],
   "metadata": {
    "collapsed": false,
    "pycharm": {
     "name": "#%%\n"
    }
   }
  },
  {
   "cell_type": "code",
   "execution_count": 28,
   "outputs": [
    {
     "data": {
      "text/plain": "                                      news_headlines    neg    neu    pos  \\\n3  quotes displayed in real-time or delayed by at...  0.192  0.808  0.000   \n4            minutes market data provided by factset  0.000  1.000  0.000   \n5  powered and implemented by factset digital sol...  0.000  0.779  0.221   \n6                                    legal statement  0.000  0.400  0.600   \n7  mutual fund and etf data provided by refinitiv...  0.000  1.000  0.000   \n\n   compound  \n3   -0.2263  \n4    0.0000  \n5    0.1779  \n6    0.1280  \n7    0.0000  ",
      "text/html": "<div>\n<style scoped>\n    .dataframe tbody tr th:only-of-type {\n        vertical-align: middle;\n    }\n\n    .dataframe tbody tr th {\n        vertical-align: top;\n    }\n\n    .dataframe thead th {\n        text-align: right;\n    }\n</style>\n<table border=\"1\" class=\"dataframe\">\n  <thead>\n    <tr style=\"text-align: right;\">\n      <th></th>\n      <th>news_headlines</th>\n      <th>neg</th>\n      <th>neu</th>\n      <th>pos</th>\n      <th>compound</th>\n    </tr>\n  </thead>\n  <tbody>\n    <tr>\n      <th>3</th>\n      <td>quotes displayed in real-time or delayed by at...</td>\n      <td>0.192</td>\n      <td>0.808</td>\n      <td>0.000</td>\n      <td>-0.2263</td>\n    </tr>\n    <tr>\n      <th>4</th>\n      <td>minutes market data provided by factset</td>\n      <td>0.000</td>\n      <td>1.000</td>\n      <td>0.000</td>\n      <td>0.0000</td>\n    </tr>\n    <tr>\n      <th>5</th>\n      <td>powered and implemented by factset digital sol...</td>\n      <td>0.000</td>\n      <td>0.779</td>\n      <td>0.221</td>\n      <td>0.1779</td>\n    </tr>\n    <tr>\n      <th>6</th>\n      <td>legal statement</td>\n      <td>0.000</td>\n      <td>0.400</td>\n      <td>0.600</td>\n      <td>0.1280</td>\n    </tr>\n    <tr>\n      <th>7</th>\n      <td>mutual fund and etf data provided by refinitiv...</td>\n      <td>0.000</td>\n      <td>1.000</td>\n      <td>0.000</td>\n      <td>0.0000</td>\n    </tr>\n  </tbody>\n</table>\n</div>"
     },
     "execution_count": 28,
     "metadata": {},
     "output_type": "execute_result"
    }
   ],
   "source": [
    "df_final.head()"
   ],
   "metadata": {
    "collapsed": false,
    "pycharm": {
     "name": "#%%\n"
    }
   }
  },
  {
   "cell_type": "code",
   "execution_count": 27,
   "outputs": [],
   "source": [
    "df_final.to_csv(\"Datasets/headlines_preprocessed.csv\")"
   ],
   "metadata": {
    "collapsed": false,
    "pycharm": {
     "name": "#%%\n"
    }
   }
  }
 ],
 "metadata": {
  "kernelspec": {
   "display_name": "Python 3",
   "language": "python",
   "name": "python3"
  },
  "language_info": {
   "codemirror_mode": {
    "name": "ipython",
    "version": 3
   },
   "file_extension": ".py",
   "mimetype": "text/x-python",
   "name": "python",
   "nbconvert_exporter": "python",
   "pygments_lexer": "ipython3",
   "version": "3.6.13"
  }
 },
 "nbformat": 4,
 "nbformat_minor": 1
}